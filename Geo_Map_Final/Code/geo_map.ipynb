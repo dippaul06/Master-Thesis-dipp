{
 "cells": [
  {
   "cell_type": "code",
   "execution_count": 6,
   "metadata": {},
   "outputs": [],
   "source": [
    "import pandas as pd\n",
    "import time\n",
    "from geopy.geocoders import Nominatim \n",
    "import folium\n",
    "from numerize import numerize "
   ]
  },
  {
   "cell_type": "code",
   "execution_count": 7,
   "metadata": {},
   "outputs": [],
   "source": [
    "def geocode_country(country_name):\n",
    "    geolocator = Nominatim(user_agent=\"your_app_name\")\n",
    "    location = geolocator.geocode(country_name)\n",
    "    if location:\n",
    "        return location.latitude, location.longitude\n",
    "    else:\n",
    "        return None, None"
   ]
  },
  {
   "cell_type": "code",
   "execution_count": 8,
   "metadata": {},
   "outputs": [],
   "source": [
    "def create_map(data):\n",
    "    world_map= folium.Map(tiles=\"cartodbpositron\", zoom_start=10)\n",
    "    m = folium.Map(tiles='cartodbpositron', zoom_start=20)\n",
    "\n",
    "    #marker_cluster = MarkerCluster().add_to(m)\n",
    "\n",
    "    for index,row in data.iterrows():\n",
    "        count = int(row['Connections'])\n",
    "        lat = row['Latitude']\n",
    "        lon = row['Longitude']\n",
    "        radius = 30\n",
    "        popup_text = numerize.numerize(count)\n",
    "        count_01 = numerize.numerize(count)\n",
    "\n",
    "\n",
    "\n",
    "        #folium.CircleMarker(location = [lat, lon], radius=radius, tooltip=count, color=\"cornflowerblue\", stroke=False, fill=True, fill_opacity=0.6, opacity=1).add_to(m)\n",
    "        if(count >= 1000000):\n",
    "            folium.map.Marker( location = [lat, lon], icon=folium.DivIcon(icon_size=(150,36),icon_anchor=(0,0),html='<div style=\"font-size: 20pt\", font-weight: 900>%s</div>' %count_01), popup= popup_text).add_to(m)\n",
    "        if(count < 1000000 and count >100000):\n",
    "            folium.map.Marker( location = [lat, lon], icon=folium.DivIcon(icon_size=(150,36),icon_anchor=(0,0),html='<div style=\"font-size: 15pt\", font-weight: 900>%s</div>' %count_01), popup= popup_text).add_to(m)\n",
    "        if(count < 100000):\n",
    "            folium.map.Marker( location = [lat, lon], icon=folium.DivIcon(icon_size=(150,36),icon_anchor=(0,0),html='<div style=\"font-size: 10pt\", font-weight: 900>%s</div>' %count_01), popup= popup_text).add_to(m)\n",
    "\n",
    "    return m"
   ]
  },
  {
   "cell_type": "code",
   "execution_count": 9,
   "metadata": {},
   "outputs": [],
   "source": [
    "\n",
    "def data_format(df):\n",
    "    df['Connections'] = df['Connections'].astype(int)\n",
    "    df = df.drop(['Population'], axis=1)\n",
    "    for index, row in df.iterrows():\n",
    "        row['Latitude'], row['Longitude'] = geocode_country(row['Country Name'])\n",
    "    index_names = df[ (df['Connections'] < 1000)].index  \n",
    "    df.drop(index_names, inplace = True)\n",
    "    df.reset_index(inplace = True) \n",
    "    df.at[56, 'Latitude'] = 31.50000000\n",
    "    df.at[56, 'Longitude'] = 34.75000000\n",
    "    df = df.drop(['index'], axis=1)\n",
    "    return df"
   ]
  },
  {
   "cell_type": "code",
   "execution_count": 10,
   "metadata": {},
   "outputs": [
    {
     "name": "stdout",
     "output_type": "stream",
     "text": [
      "--- 76.1332905292511 seconds ---\n"
     ]
    }
   ],
   "source": [
    "def __main__():\n",
    "    csv_file = '/home/dipp/Github/Master-Thesis-dipp/Geo_Map_Final/Data/Country_Data_V2_Latest.csv'\n",
    "    data = pd.read_csv(csv_file)\n",
    "    data = data_format(data)\n",
    "    world_map = create_map(data)\n",
    "    #world_map.save('/home/dipp/Github/Master-Thesis-dipp/Geo_Map_Final/Result/world_map_final.html')\n",
    "    world_map.save('/home/dipp/Github/Master-Thesis-dipp/Geo_Map_Final/Result/world_map_final_new_02.html')\n",
    "    \n",
    "\n",
    "\n",
    "if __name__==\"__main__\":\n",
    "    start_time = time.time()\n",
    "    __main__()\n",
    "    print(\"--- %s seconds ---\" % (time.time() - start_time)) "
   ]
  }
 ],
 "metadata": {
  "kernelspec": {
   "display_name": "new-conda",
   "language": "python",
   "name": "python3"
  },
  "language_info": {
   "codemirror_mode": {
    "name": "ipython",
    "version": 3
   },
   "file_extension": ".py",
   "mimetype": "text/x-python",
   "name": "python",
   "nbconvert_exporter": "python",
   "pygments_lexer": "ipython3",
   "version": "3.11.2"
  }
 },
 "nbformat": 4,
 "nbformat_minor": 2
}
