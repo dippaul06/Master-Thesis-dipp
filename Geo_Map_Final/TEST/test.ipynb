{
 "cells": [
  {
   "cell_type": "code",
   "execution_count": 1,
   "metadata": {},
   "outputs": [
    {
     "name": "stdout",
     "output_type": "stream",
     "text": [
      "World map created and saved as 'world_map.html'\n"
     ]
    }
   ],
   "source": [
    "import pandas as pd\n",
    "import folium\n",
    "\n",
    "# Step 1: Read the CSV file\n",
    "csv_file = \"/home/dipp/Github/Master-Thesis-dipp/Geo_Map_Final/Data/Country_Data_V2_Latest.csv\"\n",
    "data = pd.read_csv(csv_file)\n",
    "data['Connections'] = data['Connections'].astype(int)\n",
    "# Step 2: Create a map\n",
    "world_map = folium.Map(location=[0, 0], zoom_start=2)\n",
    "\n",
    "# Step 3: Iterate over the data and add markers to the map\n",
    "for index, row in data.iterrows():\n",
    "    country_code = row['Country Code']\n",
    "    country_name = row['Country Name']\n",
    "    connections = row['Connections']\n",
    "    latitude = row['Latitude']  # Assuming you have a 'Latitude' column\n",
    "    longitude = row['Longitude']  # Assuming you have a 'Longitude' column\n",
    "\n",
    "    # Add a marker for each country\n",
    "    folium.Marker(\n",
    "        location=[latitude, longitude],\n",
    "        popup=f\"{country_name}: {connections} connections\",\n",
    "    ).add_to(world_map)\n",
    "\n",
    "# Step 4: Save the map to an HTML file\n",
    "world_map.save(\"world_map.html\")\n",
    "\n",
    "print(\"World map created and saved as 'world_map.html'\")\n"
   ]
  },
  {
   "cell_type": "code",
   "execution_count": 5,
   "metadata": {},
   "outputs": [
    {
     "name": "stdout",
     "output_type": "stream",
     "text": [
      "World map created with visible numbers and saved as 'world_map.html'\n"
     ]
    }
   ],
   "source": [
    "import pandas as pd\n",
    "import folium\n",
    "\n",
    "# Step 1: Read the CSV file\n",
    "csv_file = \"/home/dipp/Github/Master-Thesis-dipp/Geo_Map_Final/Data/Country_Data_V2_Latest.csv\"\n",
    "data = pd.read_csv(csv_file)\n",
    "data['Connections'] = data['Connections'].astype(int)\n",
    "# Step 2: Create a map\n",
    "world_map = folium.Map(location=[0, 0], zoom_start=2)\n",
    "\n",
    "# Step 3: Iterate over the data and add text labels to the map\n",
    "for index, row in data.iterrows():\n",
    "    country_code = row['Country Code']\n",
    "    country_name = row['Country Name']\n",
    "    connections = row['Connections']\n",
    "    latitude = row['Latitude']  # Assuming you have a 'Latitude' column\n",
    "    longitude = row['Longitude']  # Assuming you have a 'Longitude' column\n",
    "\n",
    "    # Define a custom style for the numbers (large font, bold, and blue color)\n",
    "    style = 'font-size: 16px; font-weight: bold; color: blue; text-align: center;'\n",
    "\n",
    "    # Create a string that combines the country name and connections\n",
    "    label = f\"{country_name}: {connections}\"\n",
    "\n",
    "    # Add a text label to the map at the specified latitude and longitude with custom style\n",
    "    folium.Marker(\n",
    "        location=[latitude, longitude],\n",
    "        icon=folium.DivIcon(html=f\"<div style='{style}'>{label}</div>\"),\n",
    "    ).add_to(world_map)\n",
    "\n",
    "# Step 4: Save the map to an HTML file\n",
    "world_map.save(\"world_map.html\")\n",
    "\n",
    "print(\"World map created with visible numbers and saved as 'world_map.html'\")\n"
   ]
  },
  {
   "cell_type": "code",
   "execution_count": 7,
   "metadata": {},
   "outputs": [
    {
     "name": "stdout",
     "output_type": "stream",
     "text": [
      "World map created with bubbles for numbers associated with countries and saved as 'world_map.html'\n"
     ]
    }
   ],
   "source": [
    "import pandas as pd\n",
    "import folium\n",
    "\n",
    "# Step 1: Read the CSV file\n",
    "csv_file = \"/home/dipp/Github/Master-Thesis-dipp/Geo_Map_Final/Data/Country_Data_V2_Latest.csv\"\n",
    "data = pd.read_csv(csv_file)\n",
    "data['Connections'] = data['Connections'].astype(int)\n",
    "# Step 2: Create a map\n",
    "world_map = folium.Map(location=[0, 0], zoom_start=2)\n",
    "\n",
    "# Step 3: Iterate over the data and add bubbles with numbers to the map\n",
    "for index, row in data.iterrows():\n",
    "    country_code = row['Country Code']\n",
    "    country_name = row['Country Name']\n",
    "    connections = row['Connections']\n",
    "    latitude = row['Latitude']  # Assuming you have a 'Latitude' column\n",
    "    longitude = row['Longitude']  # Assuming you have a 'Longitude' column\n",
    "\n",
    "    # Create a bubble with the country name and connections as a popup\n",
    "    bubble = folium.CircleMarker(\n",
    "        location=[latitude, longitude],\n",
    "        radius=8,\n",
    "        color='blue',\n",
    "        fill=True,\n",
    "        fill_color='blue',\n",
    "        popup=f\"{country_name}: {connections}\",\n",
    "    )\n",
    "\n",
    "    bubble.add_to(world_map)\n",
    "\n",
    "# Step 4: Save the map to an HTML file\n",
    "world_map.save(\"world_map.html\")\n",
    "\n",
    "print(\"World map created with bubbles for numbers associated with countries and saved as 'world_map.html'\")\n"
   ]
  },
  {
   "cell_type": "code",
   "execution_count": 8,
   "metadata": {},
   "outputs": [
    {
     "name": "stdout",
     "output_type": "stream",
     "text": [
      "World map created with country borders, clear differentiation between names and numbers, and saved as 'world_map.html'\n"
     ]
    }
   ],
   "source": [
    "import pandas as pd\n",
    "import folium\n",
    "\n",
    "# Step 1: Read the CSV file\n",
    "csv_file = \"/home/dipp/Github/Master-Thesis-dipp/Geo_Map_Final/Data/Country_Data_V2_Latest.csv\"\n",
    "data = pd.read_csv(csv_file)\n",
    "data['Connections'] = data['Connections'].astype(int)\n",
    "\n",
    "# Step 2: Create a map\n",
    "world_map = folium.Map(location=[0, 0], zoom_start=2)\n",
    "\n",
    "# Step 3: Iterate over the data and add country borders with text labels to the map\n",
    "for index, row in data.iterrows():\n",
    "    country_code = row['Country Code']\n",
    "    country_name = row['Country Name']\n",
    "    connections = row['Connections']\n",
    "    latitude = row['Latitude']  # Assuming you have a 'Latitude' column\n",
    "    longitude = row['Longitude']  # Assuming you have a 'Longitude' column\n",
    "\n",
    "    # Create a GeoJson object for each country to highlight its border\n",
    "    geojson = folium.GeoJson(\n",
    "        data={\n",
    "            \"type\": \"Feature\",\n",
    "            \"properties\": {\"name\": country_name},\n",
    "            \"geometry\": {\"type\": \"Point\", \"coordinates\": [longitude, latitude]},\n",
    "        },\n",
    "        style_function=lambda x: {\"color\": \"blue\", \"weight\": 1},\n",
    "    )\n",
    "\n",
    "    # Create a text label in the middle of the country shape\n",
    "    text = folium.Popup(f\"{country_name}<br>Number of Tweets: {connections}\", parse_html=True)\n",
    "    text.add_to(geojson)\n",
    "\n",
    "    geojson.add_to(world_map)\n",
    "\n",
    "# Step 4: Save the map to an HTML file\n",
    "world_map.save(\"world_map.html\")\n",
    "\n",
    "print(\"World map created with country borders, clear differentiation between names and numbers, and saved as 'world_map.html'\")\n"
   ]
  },
  {
   "cell_type": "code",
   "execution_count": 9,
   "metadata": {},
   "outputs": [],
   "source": [
    "import pandas as pd\n",
    "import folium\n",
    "from folium.plugins import MarkerCluster\n",
    "from geopy.geocoders import Nominatim\n",
    "\n",
    "# Read the CSV file into a DataFrame\n",
    "data = pd.read_csv(\"/home/dipp/Github/Master-Thesis-dipp/Geo_Map_Final/Data/Country_Data_V2_Latest.csv\")\n",
    "\n",
    "# Initialize a geocoder\n",
    "geolocator = Nominatim(user_agent=\"your_app_name\")\n",
    "\n",
    "# Function to geocode country names to coordinates\n",
    "def geocode_country(country_name):\n",
    "    location = geolocator.geocode(country_name)\n",
    "    if location:\n",
    "        return location.latitude, location.longitude\n",
    "    else:\n",
    "        return None, None\n",
    "\n",
    "# Convert the \"Connections\" column to integers\n",
    "data['Connections'] = data['Connections'].astype(int)\n",
    "\n",
    "# Create a map centered at a default location\n",
    "m = folium.Map(location=[0, 0], zoom_start=2)\n",
    "\n",
    "# Create a MarkerCluster layer to group markers\n",
    "marker_cluster = MarkerCluster().add_to(m)\n",
    "\n",
    "# Add markers for each country with a pop-up displaying country name and connections\n",
    "for index, row in data.iterrows():\n",
    "    latitude, longitude = geocode_country(row['Country Name'])\n",
    "    if latitude is not None and longitude is not None:\n",
    "        folium.Marker(\n",
    "            location=[latitude, longitude],\n",
    "            popup=f\"{row['Country Name']}<br>Connections: {row['Connections']}\",\n",
    "            icon=folium.Icon(icon=\"cloud\"),\n",
    "        ).add_to(marker_cluster)\n",
    "\n",
    "# Save the map to an HTML file\n",
    "m.save(\"world_map.html\")\n"
   ]
  },
  {
   "cell_type": "code",
   "execution_count": 10,
   "metadata": {},
   "outputs": [],
   "source": [
    "import pandas as pd\n",
    "import folium\n",
    "from geopy.geocoders import Nominatim\n",
    "\n",
    "# Read the CSV file into a DataFrame\n",
    "data = pd.read_csv(\"/home/dipp/Github/Master-Thesis-dipp/Geo_Map_Final/Data/Country_Data_V2_Latest.csv\")\n",
    "\n",
    "# Initialize a geocoder\n",
    "geolocator = Nominatim(user_agent=\"your_app_name\")\n",
    "\n",
    "# Function to geocode country names to coordinates\n",
    "def geocode_country(country_name):\n",
    "    location = geolocator.geocode(country_name)\n",
    "    if location:\n",
    "        return location.latitude, location.longitude\n",
    "    else:\n",
    "        return None, None\n",
    "\n",
    "# Create a map centered at a default location\n",
    "m = folium.Map(location=[0, 0], zoom_start=2)\n",
    "\n",
    "# Add markers for each country with labels showing the connections count\n",
    "for index, row in data.iterrows():\n",
    "    latitude, longitude = geocode_country(row['Country Name'])\n",
    "    if latitude is not None and longitude is not None:\n",
    "        folium.CircleMarker(\n",
    "            location=[latitude, longitude],\n",
    "            radius=10,\n",
    "            color='blue',\n",
    "            fill=True,\n",
    "            fill_color='blue',\n",
    "            fill_opacity=0.6,\n",
    "        ).add_to(m)\n",
    "        \n",
    "        # Add the connections count as a label\n",
    "        folium.Marker(\n",
    "            location=[latitude, longitude],\n",
    "            icon=None,\n",
    "            popup=str(row['Connections']),\n",
    "        ).add_to(m)\n",
    "\n",
    "# Save the map to an HTML file\n",
    "m.save(\"world_map.html\")\n"
   ]
  },
  {
   "cell_type": "code",
   "execution_count": 12,
   "metadata": {},
   "outputs": [
    {
     "data": {
      "image/png": "[encoded data removed]",
      "text/plain": [
       "<Figure size 1500x1000 with 2 Axes>"
      ]
     },
     "metadata": {},
     "output_type": "display_data"
    }
   ],
   "source": [
    "import pandas as pd\n",
    "import geopandas as gpd\n",
    "import matplotlib.pyplot as plt\n",
    "\n",
    "# Read the CSV file into a DataFrame\n",
    "data = pd.read_csv(\"/home/dipp/Github/Master-Thesis-dipp/Geo_Map_Final/Data/Country_Data_V2_Latest.csv\")\n",
    "data['Connections'] = data['Connections'].astype(int)\n",
    "\n",
    "# Read the built-in 'naturalearth_lowres' dataset for world country geometries\n",
    "world = gpd.read_file(gpd.datasets.get_path('naturalearth_lowres'))\n",
    "\n",
    "# Merge the data with geometries based on the country code\n",
    "merged = world.set_index('iso_a3').join(data.set_index('Country Code'))\n",
    "\n",
    "# Create a figure and axis for the map\n",
    "fig, ax = plt.subplots(1, 1, figsize=(15, 10))\n",
    "\n",
    "# Plot the world map with connections as colors\n",
    "merged.plot(column='Connections', cmap='YlOrRd', linewidth=0.8, ax=ax, edgecolor='0.8', legend=True)\n",
    "\n",
    "# Set a title for the map\n",
    "ax.set_title('World Map with Connections')\n",
    "\n",
    "# Save the map to an image file or display it\n",
    "plt.savefig(\"world_map.png\", dpi=300, bbox_inches='tight')\n",
    "plt.show()\n"
   ]
  }
 ],
 "metadata": {
  "kernelspec": {
   "display_name": "new-conda",
   "language": "python",
   "name": "python3"
  },
  "language_info": {
   "codemirror_mode": {
    "name": "ipython",
    "version": 3
   },
   "file_extension": ".py",
   "mimetype": "text/x-python",
   "name": "python",
   "nbconvert_exporter": "python",
   "pygments_lexer": "ipython3",
   "version": "3.11.2"
  }
 },
 "nbformat": 4,
 "nbformat_minor": 2
}
