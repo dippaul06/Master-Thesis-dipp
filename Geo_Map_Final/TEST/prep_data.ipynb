{
 "cells": [
  {
   "cell_type": "code",
   "execution_count": 1,
   "metadata": {},
   "outputs": [],
   "source": [
    "import pandas as pd"
   ]
  },
  {
   "cell_type": "code",
   "execution_count": 2,
   "metadata": {},
   "outputs": [],
   "source": [
    "csv_file = '/home/dipp/Github/Master-Thesis-dipp/Geo_Map_Final/Data/Country_Data_V2_Latest.csv'"
   ]
  },
  {
   "cell_type": "code",
   "execution_count": 3,
   "metadata": {},
   "outputs": [
    {
     "data": {
      "text/html": [
       "<div>\n",
       "<style scoped>\n",
       "    .dataframe tbody tr th:only-of-type {\n",
       "        vertical-align: middle;\n",
       "    }\n",
       "\n",
       "    .dataframe tbody tr th {\n",
       "        vertical-align: top;\n",
       "    }\n",
       "\n",
       "    .dataframe thead th {\n",
       "        text-align: right;\n",
       "    }\n",
       "</style>\n",
       "<table border=\"1\" class=\"dataframe\">\n",
       "  <thead>\n",
       "    <tr style=\"text-align: right;\">\n",
       "      <th></th>\n",
       "      <th>Country Code</th>\n",
       "      <th>Country Name</th>\n",
       "      <th>Connections</th>\n",
       "    </tr>\n",
       "  </thead>\n",
       "  <tbody>\n",
       "    <tr>\n",
       "      <th>0</th>\n",
       "      <td>CA</td>\n",
       "      <td>Canada</td>\n",
       "      <td>1541103</td>\n",
       "    </tr>\n",
       "    <tr>\n",
       "      <th>1</th>\n",
       "      <td>US</td>\n",
       "      <td>United States</td>\n",
       "      <td>35310671</td>\n",
       "    </tr>\n",
       "    <tr>\n",
       "      <th>2</th>\n",
       "      <td>IN</td>\n",
       "      <td>India</td>\n",
       "      <td>5133941</td>\n",
       "    </tr>\n",
       "    <tr>\n",
       "      <th>3</th>\n",
       "      <td>ES</td>\n",
       "      <td>Spain</td>\n",
       "      <td>203364</td>\n",
       "    </tr>\n",
       "    <tr>\n",
       "      <th>4</th>\n",
       "      <td>AU</td>\n",
       "      <td>Australia</td>\n",
       "      <td>830736</td>\n",
       "    </tr>\n",
       "    <tr>\n",
       "      <th>...</th>\n",
       "      <td>...</td>\n",
       "      <td>...</td>\n",
       "      <td>...</td>\n",
       "    </tr>\n",
       "    <tr>\n",
       "      <th>193</th>\n",
       "      <td>UZ</td>\n",
       "      <td>Uzbekistan</td>\n",
       "      <td>3</td>\n",
       "    </tr>\n",
       "    <tr>\n",
       "      <th>194</th>\n",
       "      <td>KI</td>\n",
       "      <td>Kiribati</td>\n",
       "      <td>1</td>\n",
       "    </tr>\n",
       "    <tr>\n",
       "      <th>195</th>\n",
       "      <td>NE</td>\n",
       "      <td>Niger</td>\n",
       "      <td>1</td>\n",
       "    </tr>\n",
       "    <tr>\n",
       "      <th>196</th>\n",
       "      <td>GA</td>\n",
       "      <td>Gabon</td>\n",
       "      <td>1</td>\n",
       "    </tr>\n",
       "    <tr>\n",
       "      <th>197</th>\n",
       "      <td>ME</td>\n",
       "      <td>Montenegro</td>\n",
       "      <td>1</td>\n",
       "    </tr>\n",
       "  </tbody>\n",
       "</table>\n",
       "<p>198 rows × 3 columns</p>\n",
       "</div>"
      ],
      "text/plain": [
       "    Country Code   Country Name  Connections\n",
       "0             CA         Canada      1541103\n",
       "1             US  United States     35310671\n",
       "2             IN          India      5133941\n",
       "3             ES          Spain       203364\n",
       "4             AU      Australia       830736\n",
       "..           ...            ...          ...\n",
       "193           UZ     Uzbekistan            3\n",
       "194           KI       Kiribati            1\n",
       "195           NE          Niger            1\n",
       "196           GA          Gabon            1\n",
       "197           ME     Montenegro            1\n",
       "\n",
       "[198 rows x 3 columns]"
      ]
     },
     "execution_count": 3,
     "metadata": {},
     "output_type": "execute_result"
    }
   ],
   "source": [
    "data = pd.read_csv(csv_file)\n",
    "data = data.drop(['Latitude', 'Longitude', 'Population'], axis=1)\n",
    "data['Connections'] = data['Connections'].astype(int)\n",
    "data"
   ]
  },
  {
   "cell_type": "code",
   "execution_count": 6,
   "metadata": {},
   "outputs": [
    {
     "data": {
      "application/vnd.plotly.v1+json": {
       "config": {
        "plotlyServerURL": "https://plot.ly"
       },
       "data": [
        {
         "coloraxis": "coloraxis",
         "geo": "geo",
         "hovertemplate": "<b>%{hovertext}</b><br><br>Country Code=%{location}<br>Connections=%{z}<extra></extra>",
         "hovertext": [
          "Canada",
          "United States",
          "India",
          "Spain",
          "Australia",
          "Mexico",
          "Belgium",
          "Italy",
          "Argentina",
          "Germany",
          "United Kingdom",
          "Philippines",
          "Japan",
          "Venezuela, Bolivarian Republic of",
          "Turkey",
          "Greece",
          "Antigua and Barbuda",
          "South Africa",
          "Monaco",
          "Thailand",
          "Panama",
          "Kenya",
          "Colombia",
          "Saudi Arabia",
          "Cuba",
          "Netherlands",
          "Pakistan",
          "Malaysia",
          "Iraq",
          "Sweden",
          "Hong Kong",
          "Chile",
          "Indonesia",
          "New Zealand",
          "Papua New Guinea",
          "Nigeria",
          "Switzerland",
          "Taiwan",
          "Ecuador",
          "Lebanon",
          "Poland",
          "Brazil",
          "Ireland",
          "France",
          "Cameroon",
          "Bangladesh",
          "Morocco",
          "Oman",
          "Brunei Darussalam",
          "Russian Federation",
          "Zimbabwe",
          "Korea, Republic of",
          "Turkmenistan",
          "Denmark",
          "Egypt",
          "Bahamas",
          "Namibia",
          "Haiti",
          "Israel",
          "Puerto Rico",
          "Norway",
          "Fiji",
          "Austria",
          "Nepal",
          "Virgin Islands, U.S.",
          "Uganda",
          "Ghana",
          "Central African Republic",
          "China",
          "Bermuda",
          "Singapore",
          "Portugal",
          "Kuwait",
          "Uruguay",
          "El Salvador",
          "Serbia",
          "Maldives",
          "Czechia",
          "Jordan",
          "Peru",
          "Liberia",
          "Finland",
          "Mozambique",
          "United Arab Emirates",
          "Croatia",
          "Rwanda",
          "Slovenia",
          "Virgin Islands, British",
          "Dominican Republic",
          "Cambodia",
          "Turks and Caicos Islands",
          "Viet Nam",
          "Congo",
          "Samoa",
          "Paraguay",
          "Tanzania, United Republic of",
          "Romania",
          "Iran, Islamic Republic of",
          "Costa Rica",
          "Djibouti",
          "Lesotho",
          "Slovakia",
          "Dominica",
          "Benin",
          "Jamaica",
          "Sudan",
          "Zambia",
          "Bulgaria",
          "Tunisia",
          "Estonia",
          "Curaçao",
          "Equatorial Guinea",
          "Trinidad and Tobago",
          "Ukraine",
          "Hungary",
          "Luxembourg",
          "Saint Vincent and the Grenadines",
          "Cayman Islands",
          "Lao People's Democratic Republic",
          "Qatar",
          "Mauritania",
          "Kyrgyzstan",
          "Northern Mariana Islands",
          "Algeria",
          "Myanmar",
          "Mali",
          "Cyprus",
          "Barbados",
          "Korea, Democratic People's Republic of",
          "Mauritius",
          "Guam",
          "French Polynesia",
          "Honduras",
          "Armenia",
          "Congo, The Democratic Republic of the",
          "American Samoa",
          "Guatemala",
          "Sri Lanka",
          "South Sudan",
          "Madagascar",
          "New Caledonia",
          "Timor-Leste",
          "Micronesia, Federated States of",
          "Bolivia, Plurinational State of",
          "Palestine, State of",
          "Senegal",
          "Botswana",
          "Azerbaijan",
          "North Macedonia",
          "Iceland",
          "Lithuania",
          "Bahrain",
          "Tajikistan",
          "Belarus",
          "Bosnia and Herzegovina",
          "Syrian Arab Republic",
          "Afghanistan",
          "Sierra Leone",
          "Malawi",
          "Gambia",
          "Latvia",
          "Liechtenstein",
          "Somalia",
          "Mongolia",
          "Suriname",
          "Greenland",
          "Togo",
          "Tuvalu",
          "Comoros",
          "Eswatini",
          "Vanuatu",
          "Libya",
          "Albania",
          "Burundi",
          "Saint Kitts and Nevis",
          "Eritrea",
          "Burkina Faso",
          "Kazakhstan",
          "Gibraltar",
          "Guyana",
          "Saint Lucia",
          "Belize",
          "Bhutan",
          "Angola",
          "Yemen",
          "Nicaragua",
          "Moldova, Republic of",
          "Isle of Man",
          "Macao",
          "Georgia",
          "Malta",
          "Guinea",
          "Chad",
          "Uzbekistan",
          "Kiribati",
          "Niger",
          "Gabon",
          "Montenegro"
         ],
         "locations": [
          "CA",
          "US",
          "IN",
          "ES",
          "AU",
          "MX",
          "BE",
          "IT",
          "AR",
          "DE",
          "GB",
          "PH",
          "JP",
          "VE",
          "TR",
          "GR",
          "AG",
          "ZA",
          "MC",
          "TH",
          "PA",
          "KE",
          "CO",
          "SA",
          "CU",
          "NL",
          "PK",
          "MY",
          "IQ",
          "SE",
          "HK",
          "CL",
          "ID",
          "NZ",
          "PG",
          "NG",
          "CH",
          "TW",
          "EC",
          "LB",
          "PL",
          "BR",
          "IE",
          "FR",
          "CM",
          "BD",
          "MA",
          "OM",
          "BN",
          "RU",
          "ZW",
          "KR",
          "TM",
          "DK",
          "EG",
          "BS",
          null,
          "HT",
          "IL",
          "PR",
          "NO",
          "FJ",
          "AT",
          "NP",
          "VI",
          "UG",
          "GH",
          "CF",
          "CN",
          "BM",
          "SG",
          "PT",
          "KW",
          "UY",
          "SV",
          "RS",
          "MV",
          "CZ",
          "JO",
          "PE",
          "LR",
          "FI",
          "MZ",
          "AE",
          "HR",
          "RW",
          "SI",
          "VG",
          "DO",
          "KH",
          "TC",
          "VN",
          "CG",
          "WS",
          "PY",
          "TZ",
          "RO",
          "IR",
          "CR",
          "DJ",
          "LS",
          "SK",
          "DM",
          "BJ",
          "JM",
          "SD",
          "ZM",
          "BG",
          "TN",
          "EE",
          "CW",
          "GQ",
          "TT",
          "UA",
          "HU",
          "LU",
          "VC",
          "KY",
          "LA",
          "QA",
          "MR",
          "KG",
          "MP",
          "DZ",
          "MM",
          "ML",
          "CY",
          "BB",
          "KP",
          "MU",
          "GU",
          "PF",
          "HN",
          "AM",
          "CD",
          "AS",
          "GT",
          "LK",
          "SS",
          "MG",
          "NC",
          "TL",
          "FM",
          "BO",
          "PS",
          "SN",
          "BW",
          "AZ",
          "MK",
          "IS",
          "LT",
          "BH",
          "TJ",
          "BY",
          "BA",
          "SY",
          "AF",
          "SL",
          "MW",
          "GM",
          "LV",
          "LI",
          "SO",
          "MN",
          "SR",
          "GL",
          "TG",
          "TV",
          "KM",
          "SZ",
          "VU",
          "LY",
          "AL",
          "BI",
          "KN",
          "ER",
          "BF",
          "KZ",
          "GI",
          "GY",
          "LC",
          "BZ",
          "BT",
          "AO",
          "YE",
          "NI",
          "MD",
          "IM",
          "MO",
          "GE",
          "MT",
          "GN",
          "TD",
          "UZ",
          "KI",
          "NE",
          "GA",
          "ME"
         ],
         "name": "",
         "type": "choropleth",
         "z": [
          1541103,
          35310671,
          5133941,
          203364,
          830736,
          381527,
          62857,
          336582,
          47085,
          831718,
          3785031,
          65867,
          560313,
          100506,
          251923,
          34601,
          2119,
          777603,
          6035,
          175278,
          51342,
          307276,
          1431878,
          100262,
          611831,
          173346,
          119170,
          220897,
          9320,
          47977,
          251515,
          40888,
          354750,
          26675,
          4929,
          493882,
          117723,
          30317,
          16575,
          25951,
          81522,
          133299,
          27542,
          93884,
          3940,
          15026,
          5555,
          2299,
          9643,
          10925,
          20154,
          21779,
          249,
          30998,
          16753,
          4369,
          2600,
          403,
          29758,
          28449,
          10187,
          3291,
          49200,
          17893,
          881,
          13449,
          9722,
          1281,
          18943,
          8233,
          3603,
          24777,
          8633,
          6954,
          2767,
          15970,
          5957,
          3583,
          3305,
          6017,
          281,
          6454,
          1714,
          5508,
          3701,
          2974,
          14648,
          993,
          14606,
          1715,
          1001,
          2983,
          2553,
          131,
          3119,
          3022,
          5333,
          2515,
          609,
          3584,
          369,
          971,
          283,
          6022,
          480,
          441,
          197,
          820,
          1310,
          345,
          204,
          110,
          271,
          878,
          1289,
          125,
          545,
          239,
          136,
          1276,
          618,
          103,
          329,
          103,
          308,
          362,
          638,
          84,
          63,
          595,
          225,
          108,
          283,
          491,
          103,
          86,
          53,
          178,
          85,
          154,
          57,
          77,
          29,
          10,
          175,
          91,
          159,
          86,
          128,
          77,
          79,
          212,
          129,
          30,
          16,
          144,
          35,
          79,
          27,
          58,
          142,
          118,
          61,
          66,
          25,
          58,
          12,
          35,
          5,
          14,
          10,
          52,
          38,
          21,
          39,
          42,
          31,
          38,
          20,
          6,
          6,
          2,
          8,
          9,
          8,
          14,
          6,
          6,
          3,
          10,
          10,
          4,
          2,
          3,
          1,
          1,
          1,
          1
         ]
        }
       ],
       "layout": {
        "coloraxis": {
         "colorbar": {
          "title": {
           "text": "Connections"
          }
         },
         "colorscale": [
          [
           0,
           "#440154"
          ],
          [
           0.1111111111111111,
           "#482878"
          ],
          [
           0.2222222222222222,
           "#3e4989"
          ],
          [
           0.3333333333333333,
           "#31688e"
          ],
          [
           0.4444444444444444,
           "#26828e"
          ],
          [
           0.5555555555555556,
           "#1f9e89"
          ],
          [
           0.6666666666666666,
           "#35b779"
          ],
          [
           0.7777777777777778,
           "#6ece58"
          ],
          [
           0.8888888888888888,
           "#b5de2b"
          ],
          [
           1,
           "#fde725"
          ]
         ]
        },
        "geo": {
         "center": {},
         "domain": {
          "x": [
           0,
           1
          ],
          "y": [
           0,
           1
          ]
         }
        },
        "legend": {
         "tracegroupgap": 0
        },
        "template": {
         "data": {
          "bar": [
           {
            "error_x": {
             "color": "#2a3f5f"
            },
            "error_y": {
             "color": "#2a3f5f"
            },
            "marker": {
             "line": {
              "color": "#E5ECF6",
              "width": 0.5
             },
             "pattern": {
              "fillmode": "overlay",
              "size": 10,
              "solidity": 0.2
             }
            },
            "type": "bar"
           }
          ],
          "barpolar": [
           {
            "marker": {
             "line": {
              "color": "#E5ECF6",
              "width": 0.5
             },
             "pattern": {
              "fillmode": "overlay",
              "size": 10,
              "solidity": 0.2
             }
            },
            "type": "barpolar"
           }
          ],
          "carpet": [
           {
            "aaxis": {
             "endlinecolor": "#2a3f5f",
             "gridcolor": "white",
             "linecolor": "white",
             "minorgridcolor": "white",
             "startlinecolor": "#2a3f5f"
            },
            "baxis": {
             "endlinecolor": "#2a3f5f",
             "gridcolor": "white",
             "linecolor": "white",
             "minorgridcolor": "white",
             "startlinecolor": "#2a3f5f"
            },
            "type": "carpet"
           }
          ],
          "choropleth": [
           {
            "colorbar": {
             "outlinewidth": 0,
             "ticks": ""
            },
            "type": "choropleth"
           }
          ],
          "contour": [
           {
            "colorbar": {
             "outlinewidth": 0,
             "ticks": ""
            },
            "colorscale": [
             [
              0,
              "#0d0887"
             ],
             [
              0.1111111111111111,
              "#46039f"
             ],
             [
              0.2222222222222222,
              "#7201a8"
             ],
             [
              0.3333333333333333,
              "#9c179e"
             ],
             [
              0.4444444444444444,
              "#bd3786"
             ],
             [
              0.5555555555555556,
              "#d8576b"
             ],
             [
              0.6666666666666666,
              "#ed7953"
             ],
             [
              0.7777777777777778,
              "#fb9f3a"
             ],
             [
              0.8888888888888888,
              "#fdca26"
             ],
             [
              1,
              "#f0f921"
             ]
            ],
            "type": "contour"
           }
          ],
          "contourcarpet": [
           {
            "colorbar": {
             "outlinewidth": 0,
             "ticks": ""
            },
            "type": "contourcarpet"
           }
          ],
          "heatmap": [
           {
            "colorbar": {
             "outlinewidth": 0,
             "ticks": ""
            },
            "colorscale": [
             [
              0,
              "#0d0887"
             ],
             [
              0.1111111111111111,
              "#46039f"
             ],
             [
              0.2222222222222222,
              "#7201a8"
             ],
             [
              0.3333333333333333,
              "#9c179e"
             ],
             [
              0.4444444444444444,
              "#bd3786"
             ],
             [
              0.5555555555555556,
              "#d8576b"
             ],
             [
              0.6666666666666666,
              "#ed7953"
             ],
             [
              0.7777777777777778,
              "#fb9f3a"
             ],
             [
              0.8888888888888888,
              "#fdca26"
             ],
             [
              1,
              "#f0f921"
             ]
            ],
            "type": "heatmap"
           }
          ],
          "heatmapgl": [
           {
            "colorbar": {
             "outlinewidth": 0,
             "ticks": ""
            },
            "colorscale": [
             [
              0,
              "#0d0887"
             ],
             [
              0.1111111111111111,
              "#46039f"
             ],
             [
              0.2222222222222222,
              "#7201a8"
             ],
             [
              0.3333333333333333,
              "#9c179e"
             ],
             [
              0.4444444444444444,
              "#bd3786"
             ],
             [
              0.5555555555555556,
              "#d8576b"
             ],
             [
              0.6666666666666666,
              "#ed7953"
             ],
             [
              0.7777777777777778,
              "#fb9f3a"
             ],
             [
              0.8888888888888888,
              "#fdca26"
             ],
             [
              1,
              "#f0f921"
             ]
            ],
            "type": "heatmapgl"
           }
          ],
          "histogram": [
           {
            "marker": {
             "pattern": {
              "fillmode": "overlay",
              "size": 10,
              "solidity": 0.2
             }
            },
            "type": "histogram"
           }
          ],
          "histogram2d": [
           {
            "colorbar": {
             "outlinewidth": 0,
             "ticks": ""
            },
            "colorscale": [
             [
              0,
              "#0d0887"
             ],
             [
              0.1111111111111111,
              "#46039f"
             ],
             [
              0.2222222222222222,
              "#7201a8"
             ],
             [
              0.3333333333333333,
              "#9c179e"
             ],
             [
              0.4444444444444444,
              "#bd3786"
             ],
             [
              0.5555555555555556,
              "#d8576b"
             ],
             [
              0.6666666666666666,
              "#ed7953"
             ],
             [
              0.7777777777777778,
              "#fb9f3a"
             ],
             [
              0.8888888888888888,
              "#fdca26"
             ],
             [
              1,
              "#f0f921"
             ]
            ],
            "type": "histogram2d"
           }
          ],
          "histogram2dcontour": [
           {
            "colorbar": {
             "outlinewidth": 0,
             "ticks": ""
            },
            "colorscale": [
             [
              0,
              "#0d0887"
             ],
             [
              0.1111111111111111,
              "#46039f"
             ],
             [
              0.2222222222222222,
              "#7201a8"
             ],
             [
              0.3333333333333333,
              "#9c179e"
             ],
             [
              0.4444444444444444,
              "#bd3786"
             ],
             [
              0.5555555555555556,
              "#d8576b"
             ],
             [
              0.6666666666666666,
              "#ed7953"
             ],
             [
              0.7777777777777778,
              "#fb9f3a"
             ],
             [
              0.8888888888888888,
              "#fdca26"
             ],
             [
              1,
              "#f0f921"
             ]
            ],
            "type": "histogram2dcontour"
           }
          ],
          "mesh3d": [
           {
            "colorbar": {
             "outlinewidth": 0,
             "ticks": ""
            },
            "type": "mesh3d"
           }
          ],
          "parcoords": [
           {
            "line": {
             "colorbar": {
              "outlinewidth": 0,
              "ticks": ""
             }
            },
            "type": "parcoords"
           }
          ],
          "pie": [
           {
            "automargin": true,
            "type": "pie"
           }
          ],
          "scatter": [
           {
            "fillpattern": {
             "fillmode": "overlay",
             "size": 10,
             "solidity": 0.2
            },
            "type": "scatter"
           }
          ],
          "scatter3d": [
           {
            "line": {
             "colorbar": {
              "outlinewidth": 0,
              "ticks": ""
             }
            },
            "marker": {
             "colorbar": {
              "outlinewidth": 0,
              "ticks": ""
             }
            },
            "type": "scatter3d"
           }
          ],
          "scattercarpet": [
           {
            "marker": {
             "colorbar": {
              "outlinewidth": 0,
              "ticks": ""
             }
            },
            "type": "scattercarpet"
           }
          ],
          "scattergeo": [
           {
            "marker": {
             "colorbar": {
              "outlinewidth": 0,
              "ticks": ""
             }
            },
            "type": "scattergeo"
           }
          ],
          "scattergl": [
           {
            "marker": {
             "colorbar": {
              "outlinewidth": 0,
              "ticks": ""
             }
            },
            "type": "scattergl"
           }
          ],
          "scattermapbox": [
           {
            "marker": {
             "colorbar": {
              "outlinewidth": 0,
              "ticks": ""
             }
            },
            "type": "scattermapbox"
           }
          ],
          "scatterpolar": [
           {
            "marker": {
             "colorbar": {
              "outlinewidth": 0,
              "ticks": ""
             }
            },
            "type": "scatterpolar"
           }
          ],
          "scatterpolargl": [
           {
            "marker": {
             "colorbar": {
              "outlinewidth": 0,
              "ticks": ""
             }
            },
            "type": "scatterpolargl"
           }
          ],
          "scatterternary": [
           {
            "marker": {
             "colorbar": {
              "outlinewidth": 0,
              "ticks": ""
             }
            },
            "type": "scatterternary"
           }
          ],
          "surface": [
           {
            "colorbar": {
             "outlinewidth": 0,
             "ticks": ""
            },
            "colorscale": [
             [
              0,
              "#0d0887"
             ],
             [
              0.1111111111111111,
              "#46039f"
             ],
             [
              0.2222222222222222,
              "#7201a8"
             ],
             [
              0.3333333333333333,
              "#9c179e"
             ],
             [
              0.4444444444444444,
              "#bd3786"
             ],
             [
              0.5555555555555556,
              "#d8576b"
             ],
             [
              0.6666666666666666,
              "#ed7953"
             ],
             [
              0.7777777777777778,
              "#fb9f3a"
             ],
             [
              0.8888888888888888,
              "#fdca26"
             ],
             [
              1,
              "#f0f921"
             ]
            ],
            "type": "surface"
           }
          ],
          "table": [
           {
            "cells": {
             "fill": {
              "color": "#EBF0F8"
             },
             "line": {
              "color": "white"
             }
            },
            "header": {
             "fill": {
              "color": "#C8D4E3"
             },
             "line": {
              "color": "white"
             }
            },
            "type": "table"
           }
          ]
         },
         "layout": {
          "annotationdefaults": {
           "arrowcolor": "#2a3f5f",
           "arrowhead": 0,
           "arrowwidth": 1
          },
          "autotypenumbers": "strict",
          "coloraxis": {
           "colorbar": {
            "outlinewidth": 0,
            "ticks": ""
           }
          },
          "colorscale": {
           "diverging": [
            [
             0,
             "#8e0152"
            ],
            [
             0.1,
             "#c51b7d"
            ],
            [
             0.2,
             "#de77ae"
            ],
            [
             0.3,
             "#f1b6da"
            ],
            [
             0.4,
             "#fde0ef"
            ],
            [
             0.5,
             "#f7f7f7"
            ],
            [
             0.6,
             "#e6f5d0"
            ],
            [
             0.7,
             "#b8e186"
            ],
            [
             0.8,
             "#7fbc41"
            ],
            [
             0.9,
             "#4d9221"
            ],
            [
             1,
             "#276419"
            ]
           ],
           "sequential": [
            [
             0,
             "#0d0887"
            ],
            [
             0.1111111111111111,
             "#46039f"
            ],
            [
             0.2222222222222222,
             "#7201a8"
            ],
            [
             0.3333333333333333,
             "#9c179e"
            ],
            [
             0.4444444444444444,
             "#bd3786"
            ],
            [
             0.5555555555555556,
             "#d8576b"
            ],
            [
             0.6666666666666666,
             "#ed7953"
            ],
            [
             0.7777777777777778,
             "#fb9f3a"
            ],
            [
             0.8888888888888888,
             "#fdca26"
            ],
            [
             1,
             "#f0f921"
            ]
           ],
           "sequentialminus": [
            [
             0,
             "#0d0887"
            ],
            [
             0.1111111111111111,
             "#46039f"
            ],
            [
             0.2222222222222222,
             "#7201a8"
            ],
            [
             0.3333333333333333,
             "#9c179e"
            ],
            [
             0.4444444444444444,
             "#bd3786"
            ],
            [
             0.5555555555555556,
             "#d8576b"
            ],
            [
             0.6666666666666666,
             "#ed7953"
            ],
            [
             0.7777777777777778,
             "#fb9f3a"
            ],
            [
             0.8888888888888888,
             "#fdca26"
            ],
            [
             1,
             "#f0f921"
            ]
           ]
          },
          "colorway": [
           "#636efa",
           "#EF553B",
           "#00cc96",
           "#ab63fa",
           "#FFA15A",
           "#19d3f3",
           "#FF6692",
           "#B6E880",
           "#FF97FF",
           "#FECB52"
          ],
          "font": {
           "color": "#2a3f5f"
          },
          "geo": {
           "bgcolor": "white",
           "lakecolor": "white",
           "landcolor": "#E5ECF6",
           "showlakes": true,
           "showland": true,
           "subunitcolor": "white"
          },
          "hoverlabel": {
           "align": "left"
          },
          "hovermode": "closest",
          "mapbox": {
           "style": "light"
          },
          "paper_bgcolor": "white",
          "plot_bgcolor": "#E5ECF6",
          "polar": {
           "angularaxis": {
            "gridcolor": "white",
            "linecolor": "white",
            "ticks": ""
           },
           "bgcolor": "#E5ECF6",
           "radialaxis": {
            "gridcolor": "white",
            "linecolor": "white",
            "ticks": ""
           }
          },
          "scene": {
           "xaxis": {
            "backgroundcolor": "#E5ECF6",
            "gridcolor": "white",
            "gridwidth": 2,
            "linecolor": "white",
            "showbackground": true,
            "ticks": "",
            "zerolinecolor": "white"
           },
           "yaxis": {
            "backgroundcolor": "#E5ECF6",
            "gridcolor": "white",
            "gridwidth": 2,
            "linecolor": "white",
            "showbackground": true,
            "ticks": "",
            "zerolinecolor": "white"
           },
           "zaxis": {
            "backgroundcolor": "#E5ECF6",
            "gridcolor": "white",
            "gridwidth": 2,
            "linecolor": "white",
            "showbackground": true,
            "ticks": "",
            "zerolinecolor": "white"
           }
          },
          "shapedefaults": {
           "line": {
            "color": "#2a3f5f"
           }
          },
          "ternary": {
           "aaxis": {
            "gridcolor": "white",
            "linecolor": "white",
            "ticks": ""
           },
           "baxis": {
            "gridcolor": "white",
            "linecolor": "white",
            "ticks": ""
           },
           "bgcolor": "#E5ECF6",
           "caxis": {
            "gridcolor": "white",
            "linecolor": "white",
            "ticks": ""
           }
          },
          "title": {
           "x": 0.05
          },
          "xaxis": {
           "automargin": true,
           "gridcolor": "white",
           "linecolor": "white",
           "ticks": "",
           "title": {
            "standoff": 15
           },
           "zerolinecolor": "white",
           "zerolinewidth": 2
          },
          "yaxis": {
           "automargin": true,
           "gridcolor": "white",
           "linecolor": "white",
           "ticks": "",
           "title": {
            "standoff": 15
           },
           "zerolinecolor": "white",
           "zerolinewidth": 2
          }
         }
        },
        "title": {
         "text": "Number of Tweets by Country"
        }
       }
      },
      "text/html": [
       "<div>                            <div id=\"97a81dfa-5143-4022-912c-987da1a8463d\" class=\"plotly-graph-div\" style=\"height:525px; width:100%;\"></div>            <script type=\"text/javascript\">                require([\"plotly\"], function(Plotly) {                    window.PLOTLYENV=window.PLOTLYENV || {};                                    if (document.getElementById(\"97a81dfa-5143-4022-912c-987da1a8463d\")) {                    Plotly.newPlot(                        \"97a81dfa-5143-4022-912c-987da1a8463d\",                        [{\"coloraxis\":\"coloraxis\",\"geo\":\"geo\",\"hovertemplate\":\"\\u003cb\\u003e%{hovertext}\\u003c\\u002fb\\u003e\\u003cbr\\u003e\\u003cbr\\u003eCountry Code=%{location}\\u003cbr\\u003eConnections=%{z}\\u003cextra\\u003e\\u003c\\u002fextra\\u003e\",\"hovertext\":[\"Canada\",\"United States\",\"India\",\"Spain\",\"Australia\",\"Mexico\",\"Belgium\",\"Italy\",\"Argentina\",\"Germany\",\"United Kingdom\",\"Philippines\",\"Japan\",\"Venezuela, Bolivarian Republic of\",\"Turkey\",\"Greece\",\"Antigua and Barbuda\",\"South Africa\",\"Monaco\",\"Thailand\",\"Panama\",\"Kenya\",\"Colombia\",\"Saudi Arabia\",\"Cuba\",\"Netherlands\",\"Pakistan\",\"Malaysia\",\"Iraq\",\"Sweden\",\"Hong Kong\",\"Chile\",\"Indonesia\",\"New Zealand\",\"Papua New Guinea\",\"Nigeria\",\"Switzerland\",\"Taiwan\",\"Ecuador\",\"Lebanon\",\"Poland\",\"Brazil\",\"Ireland\",\"France\",\"Cameroon\",\"Bangladesh\",\"Morocco\",\"Oman\",\"Brunei Darussalam\",\"Russian Federation\",\"Zimbabwe\",\"Korea, Republic of\",\"Turkmenistan\",\"Denmark\",\"Egypt\",\"Bahamas\",\"Namibia\",\"Haiti\",\"Israel\",\"Puerto Rico\",\"Norway\",\"Fiji\",\"Austria\",\"Nepal\",\"Virgin Islands, U.S.\",\"Uganda\",\"Ghana\",\"Central African Republic\",\"China\",\"Bermuda\",\"Singapore\",\"Portugal\",\"Kuwait\",\"Uruguay\",\"El Salvador\",\"Serbia\",\"Maldives\",\"Czechia\",\"Jordan\",\"Peru\",\"Liberia\",\"Finland\",\"Mozambique\",\"United Arab Emirates\",\"Croatia\",\"Rwanda\",\"Slovenia\",\"Virgin Islands, British\",\"Dominican Republic\",\"Cambodia\",\"Turks and Caicos Islands\",\"Viet Nam\",\"Congo\",\"Samoa\",\"Paraguay\",\"Tanzania, United Republic of\",\"Romania\",\"Iran, Islamic Republic of\",\"Costa Rica\",\"Djibouti\",\"Lesotho\",\"Slovakia\",\"Dominica\",\"Benin\",\"Jamaica\",\"Sudan\",\"Zambia\",\"Bulgaria\",\"Tunisia\",\"Estonia\",\"Cura\\u00e7ao\",\"Equatorial Guinea\",\"Trinidad and Tobago\",\"Ukraine\",\"Hungary\",\"Luxembourg\",\"Saint Vincent and the Grenadines\",\"Cayman Islands\",\"Lao People's Democratic Republic\",\"Qatar\",\"Mauritania\",\"Kyrgyzstan\",\"Northern Mariana Islands\",\"Algeria\",\"Myanmar\",\"Mali\",\"Cyprus\",\"Barbados\",\"Korea, Democratic People's Republic of\",\"Mauritius\",\"Guam\",\"French Polynesia\",\"Honduras\",\"Armenia\",\"Congo, The Democratic Republic of the\",\"American Samoa\",\"Guatemala\",\"Sri Lanka\",\"South Sudan\",\"Madagascar\",\"New Caledonia\",\"Timor-Leste\",\"Micronesia, Federated States of\",\"Bolivia, Plurinational State of\",\"Palestine, State of\",\"Senegal\",\"Botswana\",\"Azerbaijan\",\"North Macedonia\",\"Iceland\",\"Lithuania\",\"Bahrain\",\"Tajikistan\",\"Belarus\",\"Bosnia and Herzegovina\",\"Syrian Arab Republic\",\"Afghanistan\",\"Sierra Leone\",\"Malawi\",\"Gambia\",\"Latvia\",\"Liechtenstein\",\"Somalia\",\"Mongolia\",\"Suriname\",\"Greenland\",\"Togo\",\"Tuvalu\",\"Comoros\",\"Eswatini\",\"Vanuatu\",\"Libya\",\"Albania\",\"Burundi\",\"Saint Kitts and Nevis\",\"Eritrea\",\"Burkina Faso\",\"Kazakhstan\",\"Gibraltar\",\"Guyana\",\"Saint Lucia\",\"Belize\",\"Bhutan\",\"Angola\",\"Yemen\",\"Nicaragua\",\"Moldova, Republic of\",\"Isle of Man\",\"Macao\",\"Georgia\",\"Malta\",\"Guinea\",\"Chad\",\"Uzbekistan\",\"Kiribati\",\"Niger\",\"Gabon\",\"Montenegro\"],\"locations\":[\"CA\",\"US\",\"IN\",\"ES\",\"AU\",\"MX\",\"BE\",\"IT\",\"AR\",\"DE\",\"GB\",\"PH\",\"JP\",\"VE\",\"TR\",\"GR\",\"AG\",\"ZA\",\"MC\",\"TH\",\"PA\",\"KE\",\"CO\",\"SA\",\"CU\",\"NL\",\"PK\",\"MY\",\"IQ\",\"SE\",\"HK\",\"CL\",\"ID\",\"NZ\",\"PG\",\"NG\",\"CH\",\"TW\",\"EC\",\"LB\",\"PL\",\"BR\",\"IE\",\"FR\",\"CM\",\"BD\",\"MA\",\"OM\",\"BN\",\"RU\",\"ZW\",\"KR\",\"TM\",\"DK\",\"EG\",\"BS\",null,\"HT\",\"IL\",\"PR\",\"NO\",\"FJ\",\"AT\",\"NP\",\"VI\",\"UG\",\"GH\",\"CF\",\"CN\",\"BM\",\"SG\",\"PT\",\"KW\",\"UY\",\"SV\",\"RS\",\"MV\",\"CZ\",\"JO\",\"PE\",\"LR\",\"FI\",\"MZ\",\"AE\",\"HR\",\"RW\",\"SI\",\"VG\",\"DO\",\"KH\",\"TC\",\"VN\",\"CG\",\"WS\",\"PY\",\"TZ\",\"RO\",\"IR\",\"CR\",\"DJ\",\"LS\",\"SK\",\"DM\",\"BJ\",\"JM\",\"SD\",\"ZM\",\"BG\",\"TN\",\"EE\",\"CW\",\"GQ\",\"TT\",\"UA\",\"HU\",\"LU\",\"VC\",\"KY\",\"LA\",\"QA\",\"MR\",\"KG\",\"MP\",\"DZ\",\"MM\",\"ML\",\"CY\",\"BB\",\"KP\",\"MU\",\"GU\",\"PF\",\"HN\",\"AM\",\"CD\",\"AS\",\"GT\",\"LK\",\"SS\",\"MG\",\"NC\",\"TL\",\"FM\",\"BO\",\"PS\",\"SN\",\"BW\",\"AZ\",\"MK\",\"IS\",\"LT\",\"BH\",\"TJ\",\"BY\",\"BA\",\"SY\",\"AF\",\"SL\",\"MW\",\"GM\",\"LV\",\"LI\",\"SO\",\"MN\",\"SR\",\"GL\",\"TG\",\"TV\",\"KM\",\"SZ\",\"VU\",\"LY\",\"AL\",\"BI\",\"KN\",\"ER\",\"BF\",\"KZ\",\"GI\",\"GY\",\"LC\",\"BZ\",\"BT\",\"AO\",\"YE\",\"NI\",\"MD\",\"IM\",\"MO\",\"GE\",\"MT\",\"GN\",\"TD\",\"UZ\",\"KI\",\"NE\",\"GA\",\"ME\"],\"name\":\"\",\"z\":[1541103,35310671,5133941,203364,830736,381527,62857,336582,47085,831718,3785031,65867,560313,100506,251923,34601,2119,777603,6035,175278,51342,307276,1431878,100262,611831,173346,119170,220897,9320,47977,251515,40888,354750,26675,4929,493882,117723,30317,16575,25951,81522,133299,27542,93884,3940,15026,5555,2299,9643,10925,20154,21779,249,30998,16753,4369,2600,403,29758,28449,10187,3291,49200,17893,881,13449,9722,1281,18943,8233,3603,24777,8633,6954,2767,15970,5957,3583,3305,6017,281,6454,1714,5508,3701,2974,14648,993,14606,1715,1001,2983,2553,131,3119,3022,5333,2515,609,3584,369,971,283,6022,480,441,197,820,1310,345,204,110,271,878,1289,125,545,239,136,1276,618,103,329,103,308,362,638,84,63,595,225,108,283,491,103,86,53,178,85,154,57,77,29,10,175,91,159,86,128,77,79,212,129,30,16,144,35,79,27,58,142,118,61,66,25,58,12,35,5,14,10,52,38,21,39,42,31,38,20,6,6,2,8,9,8,14,6,6,3,10,10,4,2,3,1,1,1,1],\"type\":\"choropleth\"}],                        {\"template\":{\"data\":{\"histogram2dcontour\":[{\"type\":\"histogram2dcontour\",\"colorbar\":{\"outlinewidth\":0,\"ticks\":\"\"},\"colorscale\":[[0.0,\"#0d0887\"],[0.1111111111111111,\"#46039f\"],[0.2222222222222222,\"#7201a8\"],[0.3333333333333333,\"#9c179e\"],[0.4444444444444444,\"#bd3786\"],[0.5555555555555556,\"#d8576b\"],[0.6666666666666666,\"#ed7953\"],[0.7777777777777778,\"#fb9f3a\"],[0.8888888888888888,\"#fdca26\"],[1.0,\"#f0f921\"]]}],\"choropleth\":[{\"type\":\"choropleth\",\"colorbar\":{\"outlinewidth\":0,\"ticks\":\"\"}}],\"histogram2d\":[{\"type\":\"histogram2d\",\"colorbar\":{\"outlinewidth\":0,\"ticks\":\"\"},\"colorscale\":[[0.0,\"#0d0887\"],[0.1111111111111111,\"#46039f\"],[0.2222222222222222,\"#7201a8\"],[0.3333333333333333,\"#9c179e\"],[0.4444444444444444,\"#bd3786\"],[0.5555555555555556,\"#d8576b\"],[0.6666666666666666,\"#ed7953\"],[0.7777777777777778,\"#fb9f3a\"],[0.8888888888888888,\"#fdca26\"],[1.0,\"#f0f921\"]]}],\"heatmap\":[{\"type\":\"heatmap\",\"colorbar\":{\"outlinewidth\":0,\"ticks\":\"\"},\"colorscale\":[[0.0,\"#0d0887\"],[0.1111111111111111,\"#46039f\"],[0.2222222222222222,\"#7201a8\"],[0.3333333333333333,\"#9c179e\"],[0.4444444444444444,\"#bd3786\"],[0.5555555555555556,\"#d8576b\"],[0.6666666666666666,\"#ed7953\"],[0.7777777777777778,\"#fb9f3a\"],[0.8888888888888888,\"#fdca26\"],[1.0,\"#f0f921\"]]}],\"heatmapgl\":[{\"type\":\"heatmapgl\",\"colorbar\":{\"outlinewidth\":0,\"ticks\":\"\"},\"colorscale\":[[0.0,\"#0d0887\"],[0.1111111111111111,\"#46039f\"],[0.2222222222222222,\"#7201a8\"],[0.3333333333333333,\"#9c179e\"],[0.4444444444444444,\"#bd3786\"],[0.5555555555555556,\"#d8576b\"],[0.6666666666666666,\"#ed7953\"],[0.7777777777777778,\"#fb9f3a\"],[0.8888888888888888,\"#fdca26\"],[1.0,\"#f0f921\"]]}],\"contourcarpet\":[{\"type\":\"contourcarpet\",\"colorbar\":{\"outlinewidth\":0,\"ticks\":\"\"}}],\"contour\":[{\"type\":\"contour\",\"colorbar\":{\"outlinewidth\":0,\"ticks\":\"\"},\"colorscale\":[[0.0,\"#0d0887\"],[0.1111111111111111,\"#46039f\"],[0.2222222222222222,\"#7201a8\"],[0.3333333333333333,\"#9c179e\"],[0.4444444444444444,\"#bd3786\"],[0.5555555555555556,\"#d8576b\"],[0.6666666666666666,\"#ed7953\"],[0.7777777777777778,\"#fb9f3a\"],[0.8888888888888888,\"#fdca26\"],[1.0,\"#f0f921\"]]}],\"surface\":[{\"type\":\"surface\",\"colorbar\":{\"outlinewidth\":0,\"ticks\":\"\"},\"colorscale\":[[0.0,\"#0d0887\"],[0.1111111111111111,\"#46039f\"],[0.2222222222222222,\"#7201a8\"],[0.3333333333333333,\"#9c179e\"],[0.4444444444444444,\"#bd3786\"],[0.5555555555555556,\"#d8576b\"],[0.6666666666666666,\"#ed7953\"],[0.7777777777777778,\"#fb9f3a\"],[0.8888888888888888,\"#fdca26\"],[1.0,\"#f0f921\"]]}],\"mesh3d\":[{\"type\":\"mesh3d\",\"colorbar\":{\"outlinewidth\":0,\"ticks\":\"\"}}],\"scatter\":[{\"fillpattern\":{\"fillmode\":\"overlay\",\"size\":10,\"solidity\":0.2},\"type\":\"scatter\"}],\"parcoords\":[{\"type\":\"parcoords\",\"line\":{\"colorbar\":{\"outlinewidth\":0,\"ticks\":\"\"}}}],\"scatterpolargl\":[{\"type\":\"scatterpolargl\",\"marker\":{\"colorbar\":{\"outlinewidth\":0,\"ticks\":\"\"}}}],\"bar\":[{\"error_x\":{\"color\":\"#2a3f5f\"},\"error_y\":{\"color\":\"#2a3f5f\"},\"marker\":{\"line\":{\"color\":\"#E5ECF6\",\"width\":0.5},\"pattern\":{\"fillmode\":\"overlay\",\"size\":10,\"solidity\":0.2}},\"type\":\"bar\"}],\"scattergeo\":[{\"type\":\"scattergeo\",\"marker\":{\"colorbar\":{\"outlinewidth\":0,\"ticks\":\"\"}}}],\"scatterpolar\":[{\"type\":\"scatterpolar\",\"marker\":{\"colorbar\":{\"outlinewidth\":0,\"ticks\":\"\"}}}],\"histogram\":[{\"marker\":{\"pattern\":{\"fillmode\":\"overlay\",\"size\":10,\"solidity\":0.2}},\"type\":\"histogram\"}],\"scattergl\":[{\"type\":\"scattergl\",\"marker\":{\"colorbar\":{\"outlinewidth\":0,\"ticks\":\"\"}}}],\"scatter3d\":[{\"type\":\"scatter3d\",\"line\":{\"colorbar\":{\"outlinewidth\":0,\"ticks\":\"\"}},\"marker\":{\"colorbar\":{\"outlinewidth\":0,\"ticks\":\"\"}}}],\"scattermapbox\":[{\"type\":\"scattermapbox\",\"marker\":{\"colorbar\":{\"outlinewidth\":0,\"ticks\":\"\"}}}],\"scatterternary\":[{\"type\":\"scatterternary\",\"marker\":{\"colorbar\":{\"outlinewidth\":0,\"ticks\":\"\"}}}],\"scattercarpet\":[{\"type\":\"scattercarpet\",\"marker\":{\"colorbar\":{\"outlinewidth\":0,\"ticks\":\"\"}}}],\"carpet\":[{\"aaxis\":{\"endlinecolor\":\"#2a3f5f\",\"gridcolor\":\"white\",\"linecolor\":\"white\",\"minorgridcolor\":\"white\",\"startlinecolor\":\"#2a3f5f\"},\"baxis\":{\"endlinecolor\":\"#2a3f5f\",\"gridcolor\":\"white\",\"linecolor\":\"white\",\"minorgridcolor\":\"white\",\"startlinecolor\":\"#2a3f5f\"},\"type\":\"carpet\"}],\"table\":[{\"cells\":{\"fill\":{\"color\":\"#EBF0F8\"},\"line\":{\"color\":\"white\"}},\"header\":{\"fill\":{\"color\":\"#C8D4E3\"},\"line\":{\"color\":\"white\"}},\"type\":\"table\"}],\"barpolar\":[{\"marker\":{\"line\":{\"color\":\"#E5ECF6\",\"width\":0.5},\"pattern\":{\"fillmode\":\"overlay\",\"size\":10,\"solidity\":0.2}},\"type\":\"barpolar\"}],\"pie\":[{\"automargin\":true,\"type\":\"pie\"}]},\"layout\":{\"autotypenumbers\":\"strict\",\"colorway\":[\"#636efa\",\"#EF553B\",\"#00cc96\",\"#ab63fa\",\"#FFA15A\",\"#19d3f3\",\"#FF6692\",\"#B6E880\",\"#FF97FF\",\"#FECB52\"],\"font\":{\"color\":\"#2a3f5f\"},\"hovermode\":\"closest\",\"hoverlabel\":{\"align\":\"left\"},\"paper_bgcolor\":\"white\",\"plot_bgcolor\":\"#E5ECF6\",\"polar\":{\"bgcolor\":\"#E5ECF6\",\"angularaxis\":{\"gridcolor\":\"white\",\"linecolor\":\"white\",\"ticks\":\"\"},\"radialaxis\":{\"gridcolor\":\"white\",\"linecolor\":\"white\",\"ticks\":\"\"}},\"ternary\":{\"bgcolor\":\"#E5ECF6\",\"aaxis\":{\"gridcolor\":\"white\",\"linecolor\":\"white\",\"ticks\":\"\"},\"baxis\":{\"gridcolor\":\"white\",\"linecolor\":\"white\",\"ticks\":\"\"},\"caxis\":{\"gridcolor\":\"white\",\"linecolor\":\"white\",\"ticks\":\"\"}},\"coloraxis\":{\"colorbar\":{\"outlinewidth\":0,\"ticks\":\"\"}},\"colorscale\":{\"sequential\":[[0.0,\"#0d0887\"],[0.1111111111111111,\"#46039f\"],[0.2222222222222222,\"#7201a8\"],[0.3333333333333333,\"#9c179e\"],[0.4444444444444444,\"#bd3786\"],[0.5555555555555556,\"#d8576b\"],[0.6666666666666666,\"#ed7953\"],[0.7777777777777778,\"#fb9f3a\"],[0.8888888888888888,\"#fdca26\"],[1.0,\"#f0f921\"]],\"sequentialminus\":[[0.0,\"#0d0887\"],[0.1111111111111111,\"#46039f\"],[0.2222222222222222,\"#7201a8\"],[0.3333333333333333,\"#9c179e\"],[0.4444444444444444,\"#bd3786\"],[0.5555555555555556,\"#d8576b\"],[0.6666666666666666,\"#ed7953\"],[0.7777777777777778,\"#fb9f3a\"],[0.8888888888888888,\"#fdca26\"],[1.0,\"#f0f921\"]],\"diverging\":[[0,\"#8e0152\"],[0.1,\"#c51b7d\"],[0.2,\"#de77ae\"],[0.3,\"#f1b6da\"],[0.4,\"#fde0ef\"],[0.5,\"#f7f7f7\"],[0.6,\"#e6f5d0\"],[0.7,\"#b8e186\"],[0.8,\"#7fbc41\"],[0.9,\"#4d9221\"],[1,\"#276419\"]]},\"xaxis\":{\"gridcolor\":\"white\",\"linecolor\":\"white\",\"ticks\":\"\",\"title\":{\"standoff\":15},\"zerolinecolor\":\"white\",\"automargin\":true,\"zerolinewidth\":2},\"yaxis\":{\"gridcolor\":\"white\",\"linecolor\":\"white\",\"ticks\":\"\",\"title\":{\"standoff\":15},\"zerolinecolor\":\"white\",\"automargin\":true,\"zerolinewidth\":2},\"scene\":{\"xaxis\":{\"backgroundcolor\":\"#E5ECF6\",\"gridcolor\":\"white\",\"linecolor\":\"white\",\"showbackground\":true,\"ticks\":\"\",\"zerolinecolor\":\"white\",\"gridwidth\":2},\"yaxis\":{\"backgroundcolor\":\"#E5ECF6\",\"gridcolor\":\"white\",\"linecolor\":\"white\",\"showbackground\":true,\"ticks\":\"\",\"zerolinecolor\":\"white\",\"gridwidth\":2},\"zaxis\":{\"backgroundcolor\":\"#E5ECF6\",\"gridcolor\":\"white\",\"linecolor\":\"white\",\"showbackground\":true,\"ticks\":\"\",\"zerolinecolor\":\"white\",\"gridwidth\":2}},\"shapedefaults\":{\"line\":{\"color\":\"#2a3f5f\"}},\"annotationdefaults\":{\"arrowcolor\":\"#2a3f5f\",\"arrowhead\":0,\"arrowwidth\":1},\"geo\":{\"bgcolor\":\"white\",\"landcolor\":\"#E5ECF6\",\"subunitcolor\":\"white\",\"showland\":true,\"showlakes\":true,\"lakecolor\":\"white\"},\"title\":{\"x\":0.05},\"mapbox\":{\"style\":\"light\"}}},\"geo\":{\"domain\":{\"x\":[0.0,1.0],\"y\":[0.0,1.0]},\"center\":{}},\"coloraxis\":{\"colorbar\":{\"title\":{\"text\":\"Connections\"}},\"colorscale\":[[0.0,\"#440154\"],[0.1111111111111111,\"#482878\"],[0.2222222222222222,\"#3e4989\"],[0.3333333333333333,\"#31688e\"],[0.4444444444444444,\"#26828e\"],[0.5555555555555556,\"#1f9e89\"],[0.6666666666666666,\"#35b779\"],[0.7777777777777778,\"#6ece58\"],[0.8888888888888888,\"#b5de2b\"],[1.0,\"#fde725\"]]},\"legend\":{\"tracegroupgap\":0},\"title\":{\"text\":\"Number of Tweets by Country\"}},                        {\"responsive\": true}                    ).then(function(){\n",
       "                            \n",
       "var gd = document.getElementById('97a81dfa-5143-4022-912c-987da1a8463d');\n",
       "var x = new MutationObserver(function (mutations, observer) {{\n",
       "        var display = window.getComputedStyle(gd).display;\n",
       "        if (!display || display === 'none') {{\n",
       "            console.log([gd, 'removed!']);\n",
       "            Plotly.purge(gd);\n",
       "            observer.disconnect();\n",
       "        }}\n",
       "}});\n",
       "\n",
       "// Listen for the removal of the full notebook cells\n",
       "var notebookContainer = gd.closest('#notebook-container');\n",
       "if (notebookContainer) {{\n",
       "    x.observe(notebookContainer, {childList: true});\n",
       "}}\n",
       "\n",
       "// Listen for the clearing of the current output cell\n",
       "var outputEl = gd.closest('.output');\n",
       "if (outputEl) {{\n",
       "    x.observe(outputEl, {childList: true});\n",
       "}}\n",
       "\n",
       "                        })                };                });            </script>        </div>"
      ]
     },
     "metadata": {},
     "output_type": "display_data"
    },
    {
     "data": {
      "text/plain": [
       "'world_map.html'"
      ]
     },
     "execution_count": 6,
     "metadata": {},
     "output_type": "execute_result"
    }
   ],
   "source": [
    "import plotly.express as px\n",
    "import plotly.offline as pyo\n",
    "\n",
    "# Create a choropleth map using ISO-alpha-2 codes\n",
    "fig = px.choropleth(data, \n",
    "                    locations=\"Country Code\",  # Column with ISO-alpha-2 codes\n",
    "                    color=\"Connections\",         # Column with data values\n",
    "                    hover_name=\"Country Name\",   # Column with country names\n",
    "                    color_continuous_scale=\"Viridis\",  # Choose a color scale\n",
    "                    title=\"Number of Tweets by Country\")\n",
    "\n",
    "# Show the map\n",
    "fig.show()\n",
    "\n",
    "pyo.plot(fig, filename='world_map.html')\n"
   ]
  }
 ],
 "metadata": {
  "kernelspec": {
   "display_name": "new-conda",
   "language": "python",
   "name": "python3"
  },
  "language_info": {
   "codemirror_mode": {
    "name": "ipython",
    "version": 3
   },
   "file_extension": ".py",
   "mimetype": "text/x-python",
   "name": "python",
   "nbconvert_exporter": "python",
   "pygments_lexer": "ipython3",
   "version": "3.11.2"
  }
 },
 "nbformat": 4,
 "nbformat_minor": 2
}
