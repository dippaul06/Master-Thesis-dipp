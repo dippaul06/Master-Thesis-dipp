{
 "cells": [
  {
   "cell_type": "code",
   "execution_count": 1,
   "metadata": {},
   "outputs": [],
   "source": [
    "import csv\n",
    "\n",
    "\n",
    "row_count = sum(1 for row in csv.reader('/home/dipp/Github/Playground/Data/texts_english.csv'))  # fileObject is your csv.reader"
   ]
  },
  {
   "cell_type": "code",
   "execution_count": 2,
   "metadata": {},
   "outputs": [
    {
     "name": "stdout",
     "output_type": "stream",
     "text": [
      "51\n"
     ]
    }
   ],
   "source": [
    "print(row_count)"
   ]
  },
  {
   "cell_type": "code",
   "execution_count": 3,
   "metadata": {},
   "outputs": [
    {
     "name": "stdout",
     "output_type": "stream",
     "text": [
      "Total Lines 10\n"
     ]
    }
   ],
   "source": [
    "# open file in read mode\n",
    "with open(r\"/home/dipp/Github/Playground/Data/texts_english.csv\", 'r') as fp:\n",
    "    for count, line in enumerate(fp):\n",
    "        pass\n",
    "print('Total Lines', count + 1)"
   ]
  },
  {
   "cell_type": "code",
   "execution_count": 21,
   "metadata": {},
   "outputs": [
    {
     "name": "stdout",
     "output_type": "stream",
     "text": [
      "First\n",
      "1\n",
      "                                                      TEXT\n",
      "NaN NaN  ,@senronjohnson why do you hate the citizens o...\n",
      "    NaN  ,@nelsondg6 @jeedderh_aleeee plz oooooooh! did...\n",
      "    NaN  ,rt @livewire7teen: uk flights should be allow...\n",
      "    NaN  ,@briankempga i am joining the fight against y...\n",
      "    NaN  ,as congress negotiates the #healsact, i'm cou...\n",
      "    NaN  ,@_will_curtis_ @city_xtra @footballdaily you ...\n",
      "    NaN  ,covid-19 community meeting notes https://t.co...\n",
      "    NaN  ,@philipmach @joziguyz @news24 @bisouthafrica ...\n",
      "    NaN  ,america’s best way to deal to with coronaviru...\n",
      "    NaN  ,rt @practiceunbound: our managing director le...\n",
      "First DF\n",
      "[[',@senronjohnson why do you hate the citizens of our country? you are not human, least you act like you have no heart.  why would you ever act the way you do? the state of wi citizens need the covid relief. you want to stop it. dangerous what you are doing. you are unbelievable. stop it!'], [\",@nelsondg6 @jeedderh_aleeee plz oooooooh! didn't mean to snatch her from u ooo if she's yours n don't add that to this covid-19 wahala for me 😁😂😂\"], [',rt @livewire7teen: uk flights should be allowed to wuhan #mutantcovid'], [',@briankempga i am joining the fight against you. nobody tries to cancel you. you tried to cancel us . you have governed to one side of the isle. a successful governor governs to all and has found a way to vaccinate 70 and more of their population. georgia is dismal in protecting from covid.'], [\",as congress negotiates the #healsact, i'm counting on leadership to #stand4service and include the bipartisan #corpsact to allow @americorps &amp; @seniorcorps to support communities with pandemic response &amp; recovery. @royblunt @pattymurray @senalexander  https://t.co/hx4i9yzba4\"], [\",@_will_curtis_ @city_xtra @footballdaily you never know with all the injuries, covid cases and don't forget about africa cup of nations when you will lose mane and salah potentially for over a month\"], [',covid-19 community meeting notes https://t.co/ynctykkq8z'], [\",@philipmach @joziguyz @news24 @bisouthafrica added advantage is they can see if it's effective against the soaring cases of the new covid19 variant. hopefully they will test this.\"], [',america’s best way to deal to with coronavirus “let’s make a tv show about about quarantine” tf is that?'], [',rt @practiceunbound: our managing director lesley jay reflects on the feedback and input from nhs colleagues following her transforming gen…']]\n"
     ]
    }
   ],
   "source": [
    "import pandas as pd \n",
    "file_folder = \"/home/dipp/Github/Playground/Data/texts_english.csv\"\n",
    "pat = '^\\{([0-9]*[,]?[ ]?)*\\}'\n",
    "test_list = []\n",
    "\n",
    "print(\"First\")\n",
    "#df = pd.read_csv(file_folder, sep='},' , names = ['TEXT'],  engine='python')\n",
    "\n",
    "temp_df = pd.DataFrame()\n",
    "count = 0\n",
    "df = pd.read_csv(file_folder, sep='^\\{([0-9]*[,]?[ ]?)*\\}' , names = ['TEXT'],  engine='python', chunksize=1, quotechar=\"'\")\n",
    "\n",
    "\n",
    "for chunk in df:\n",
    "    #print(chunk)\n",
    "    #count += 10000\n",
    "    #print(count)\n",
    "    temp_df = temp_df.append(chunk)\n",
    "\n",
    "#print(df)\n",
    "\n",
    "\n",
    "print('1')\n",
    "text_column = temp_df.iloc[:,-1:]\n",
    "print(text_column)\n",
    "print(\"First DF\")\n",
    "text_list = text_column.values.tolist()\n",
    "print(text_list)"
   ]
  },
  {
   "cell_type": "code",
   "execution_count": 25,
   "metadata": {},
   "outputs": [
    {
     "name": "stdout",
     "output_type": "stream",
     "text": [
      "Total Lines: 10\n",
      "0\n"
     ]
    }
   ],
   "source": [
    "import pandas as pd \n",
    "import re\n",
    "file_folder = \"/home/dipp/Github/Playground/Data/texts.csv\"\n",
    "pat = '^\\{([0-9]*[,]?[ ]?)*\\}'\n",
    "\n",
    "id_list = []\n",
    "text_list = []\n",
    "\n",
    "num = sum(1 for line in open(file_folder))\n",
    "print(\"Total Lines:\" , num)\n",
    "\n",
    "file1 = open(file_folder, 'r')\n",
    "count = 0\n",
    "\n",
    "for line in file1:\n",
    "\n",
    "    try:\n",
    "        ids = re.search(pat, line)\n",
    "        texts = re.sub(pat, ' ', line)\n",
    "        id_list.append(ids.group())\n",
    "        text_list.append(texts)\n",
    "    except AttributeError:\n",
    "        ids = re.search(pat, line)\n",
    "        texts = re.sub(pat, ' ', line)\n",
    "        count += 1\n",
    "\n",
    "print(count)\n",
    "\n",
    "num_list = []\n",
    "for i in id_list:\n",
    "    l = len(i)\n",
    "    num_list.append(l/21)\n",
    "\n",
    "\n",
    "new_df = pd.DataFrame()\n",
    "\n",
    "new_df['NUM'] = num_list\n",
    "new_df['TEXT'] = text_list\n",
    "\n",
    "new_df_01 = new_df.sort_values(by=['NUM'], ascending = False)\n",
    "for_plot_df = new_df_01.head(500)\n",
    "\n",
    "\n",
    "\n"
   ]
  },
  {
   "cell_type": "code",
   "execution_count": 25,
   "metadata": {},
   "outputs": [
    {
     "name": "stdout",
     "output_type": "stream",
     "text": [
      "Starting\n",
      "Total Lines: 9\n",
      "Opened File\n"
     ]
    },
    {
     "ename": "JSONDecodeError",
     "evalue": "Expecting value: line 1 column 1 (char 0)",
     "output_type": "error",
     "traceback": [
      "\u001b[0;31m---------------------------------------------------------------------------\u001b[0m",
      "\u001b[0;31mJSONDecodeError\u001b[0m                           Traceback (most recent call last)",
      "\u001b[0;32m/tmp/ipykernel_34443/2854770945.py\u001b[0m in \u001b[0;36m<module>\u001b[0;34m\u001b[0m\n\u001b[1;32m     20\u001b[0m \u001b[0mdict1\u001b[0m \u001b[0;34m=\u001b[0m \u001b[0;34m{\u001b[0m\u001b[0;34m}\u001b[0m\u001b[0;34m\u001b[0m\u001b[0;34m\u001b[0m\u001b[0m\n\u001b[1;32m     21\u001b[0m \u001b[0;34m\u001b[0m\u001b[0m\n\u001b[0;32m---> 22\u001b[0;31m \u001b[0my\u001b[0m \u001b[0;34m=\u001b[0m \u001b[0mjson\u001b[0m\u001b[0;34m.\u001b[0m\u001b[0mloads\u001b[0m\u001b[0;34m(\u001b[0m\u001b[0mfile_folder\u001b[0m\u001b[0;34m)\u001b[0m\u001b[0;34m\u001b[0m\u001b[0;34m\u001b[0m\u001b[0m\n\u001b[0m\u001b[1;32m     23\u001b[0m \u001b[0mprint\u001b[0m\u001b[0;34m(\u001b[0m\u001b[0my\u001b[0m\u001b[0;34m)\u001b[0m\u001b[0;34m\u001b[0m\u001b[0;34m\u001b[0m\u001b[0m\n\u001b[1;32m     24\u001b[0m \u001b[0;34m\u001b[0m\u001b[0m\n",
      "\u001b[0;32m~/miniconda3/lib/python3.7/json/__init__.py\u001b[0m in \u001b[0;36mloads\u001b[0;34m(s, encoding, cls, object_hook, parse_float, parse_int, parse_constant, object_pairs_hook, **kw)\u001b[0m\n\u001b[1;32m    346\u001b[0m             \u001b[0mparse_int\u001b[0m \u001b[0;32mis\u001b[0m \u001b[0;32mNone\u001b[0m \u001b[0;32mand\u001b[0m \u001b[0mparse_float\u001b[0m \u001b[0;32mis\u001b[0m \u001b[0;32mNone\u001b[0m \u001b[0;32mand\u001b[0m\u001b[0;34m\u001b[0m\u001b[0;34m\u001b[0m\u001b[0m\n\u001b[1;32m    347\u001b[0m             parse_constant is None and object_pairs_hook is None and not kw):\n\u001b[0;32m--> 348\u001b[0;31m         \u001b[0;32mreturn\u001b[0m \u001b[0m_default_decoder\u001b[0m\u001b[0;34m.\u001b[0m\u001b[0mdecode\u001b[0m\u001b[0;34m(\u001b[0m\u001b[0ms\u001b[0m\u001b[0;34m)\u001b[0m\u001b[0;34m\u001b[0m\u001b[0;34m\u001b[0m\u001b[0m\n\u001b[0m\u001b[1;32m    349\u001b[0m     \u001b[0;32mif\u001b[0m \u001b[0mcls\u001b[0m \u001b[0;32mis\u001b[0m \u001b[0;32mNone\u001b[0m\u001b[0;34m:\u001b[0m\u001b[0;34m\u001b[0m\u001b[0;34m\u001b[0m\u001b[0m\n\u001b[1;32m    350\u001b[0m         \u001b[0mcls\u001b[0m \u001b[0;34m=\u001b[0m \u001b[0mJSONDecoder\u001b[0m\u001b[0;34m\u001b[0m\u001b[0;34m\u001b[0m\u001b[0m\n",
      "\u001b[0;32m~/miniconda3/lib/python3.7/json/decoder.py\u001b[0m in \u001b[0;36mdecode\u001b[0;34m(self, s, _w)\u001b[0m\n\u001b[1;32m    335\u001b[0m \u001b[0;34m\u001b[0m\u001b[0m\n\u001b[1;32m    336\u001b[0m         \"\"\"\n\u001b[0;32m--> 337\u001b[0;31m         \u001b[0mobj\u001b[0m\u001b[0;34m,\u001b[0m \u001b[0mend\u001b[0m \u001b[0;34m=\u001b[0m \u001b[0mself\u001b[0m\u001b[0;34m.\u001b[0m\u001b[0mraw_decode\u001b[0m\u001b[0;34m(\u001b[0m\u001b[0ms\u001b[0m\u001b[0;34m,\u001b[0m \u001b[0midx\u001b[0m\u001b[0;34m=\u001b[0m\u001b[0m_w\u001b[0m\u001b[0;34m(\u001b[0m\u001b[0ms\u001b[0m\u001b[0;34m,\u001b[0m \u001b[0;36m0\u001b[0m\u001b[0;34m)\u001b[0m\u001b[0;34m.\u001b[0m\u001b[0mend\u001b[0m\u001b[0;34m(\u001b[0m\u001b[0;34m)\u001b[0m\u001b[0;34m)\u001b[0m\u001b[0;34m\u001b[0m\u001b[0;34m\u001b[0m\u001b[0m\n\u001b[0m\u001b[1;32m    338\u001b[0m         \u001b[0mend\u001b[0m \u001b[0;34m=\u001b[0m \u001b[0m_w\u001b[0m\u001b[0;34m(\u001b[0m\u001b[0ms\u001b[0m\u001b[0;34m,\u001b[0m \u001b[0mend\u001b[0m\u001b[0;34m)\u001b[0m\u001b[0;34m.\u001b[0m\u001b[0mend\u001b[0m\u001b[0;34m(\u001b[0m\u001b[0;34m)\u001b[0m\u001b[0;34m\u001b[0m\u001b[0;34m\u001b[0m\u001b[0m\n\u001b[1;32m    339\u001b[0m         \u001b[0;32mif\u001b[0m \u001b[0mend\u001b[0m \u001b[0;34m!=\u001b[0m \u001b[0mlen\u001b[0m\u001b[0;34m(\u001b[0m\u001b[0ms\u001b[0m\u001b[0;34m)\u001b[0m\u001b[0;34m:\u001b[0m\u001b[0;34m\u001b[0m\u001b[0;34m\u001b[0m\u001b[0m\n",
      "\u001b[0;32m~/miniconda3/lib/python3.7/json/decoder.py\u001b[0m in \u001b[0;36mraw_decode\u001b[0;34m(self, s, idx)\u001b[0m\n\u001b[1;32m    353\u001b[0m             \u001b[0mobj\u001b[0m\u001b[0;34m,\u001b[0m \u001b[0mend\u001b[0m \u001b[0;34m=\u001b[0m \u001b[0mself\u001b[0m\u001b[0;34m.\u001b[0m\u001b[0mscan_once\u001b[0m\u001b[0;34m(\u001b[0m\u001b[0ms\u001b[0m\u001b[0;34m,\u001b[0m \u001b[0midx\u001b[0m\u001b[0;34m)\u001b[0m\u001b[0;34m\u001b[0m\u001b[0;34m\u001b[0m\u001b[0m\n\u001b[1;32m    354\u001b[0m         \u001b[0;32mexcept\u001b[0m \u001b[0mStopIteration\u001b[0m \u001b[0;32mas\u001b[0m \u001b[0merr\u001b[0m\u001b[0;34m:\u001b[0m\u001b[0;34m\u001b[0m\u001b[0;34m\u001b[0m\u001b[0m\n\u001b[0;32m--> 355\u001b[0;31m             \u001b[0;32mraise\u001b[0m \u001b[0mJSONDecodeError\u001b[0m\u001b[0;34m(\u001b[0m\u001b[0;34m\"Expecting value\"\u001b[0m\u001b[0;34m,\u001b[0m \u001b[0ms\u001b[0m\u001b[0;34m,\u001b[0m \u001b[0merr\u001b[0m\u001b[0;34m.\u001b[0m\u001b[0mvalue\u001b[0m\u001b[0;34m)\u001b[0m \u001b[0;32mfrom\u001b[0m \u001b[0;32mNone\u001b[0m\u001b[0;34m\u001b[0m\u001b[0;34m\u001b[0m\u001b[0m\n\u001b[0m\u001b[1;32m    356\u001b[0m         \u001b[0;32mreturn\u001b[0m \u001b[0mobj\u001b[0m\u001b[0;34m,\u001b[0m \u001b[0mend\u001b[0m\u001b[0;34m\u001b[0m\u001b[0;34m\u001b[0m\u001b[0m\n",
      "\u001b[0;31mJSONDecodeError\u001b[0m: Expecting value: line 1 column 1 (char 0)"
     ]
    }
   ],
   "source": [
    "import json\n",
    "import pandas as pd \n",
    "import re\n",
    "import ast\n",
    "\n",
    "print(\"Starting\")\n",
    "#file_folder = \"/global/D1/projects/umod/dipp/playground/texts_english.csv\"\n",
    "file_folder = \"/home/dipp/Github/Playground/Data/tags.json\"\n",
    "pat = '^\\[([0-9]*[,]?[ ]?)*\\]'\n",
    "\n",
    "id_list = []\n",
    "text_list = []\n",
    "\n",
    "num = sum(1 for line in open(file_folder))\n",
    "print(\"Total Lines:\" , num)\n",
    "\n",
    "file1 = open(file_folder, 'r')\n",
    "print(\"Opened File\")\n",
    "count = 0\n",
    "dict1 = {}\n",
    "\n",
    "y = json.loads(file_folder)\n",
    "print(y)\n",
    "\n",
    "\n"
   ]
  },
  {
   "cell_type": "code",
   "execution_count": null,
   "metadata": {},
   "outputs": [],
   "source": [
    "\n",
    "\n",
    "for line in file1:\n",
    "\n",
    "    try:\n",
    "        ids = re.search(pat, line)\n",
    "        texts = re.sub(pat, ' ', line)\n",
    "        id_list.append(ids.group())\n",
    "        text_list.append(texts)\n",
    "    except AttributeError:\n",
    "        ids = re.search(pat, line)\n",
    "        texts = re.sub(pat, ' ', line)\n",
    "        count += 1\n",
    "\n",
    "print(\"Skipped:\" ,count)\n",
    "print(\"Done with List\")\n",
    "\n",
    "num_list = []\n",
    "for i in id_list:\n",
    "    l = len(i)\n",
    "    num_list.append(l/21)\n",
    "\n",
    "print(\"Got the Num List\")\n",
    "new_df = pd.DataFrame()\n",
    "\n",
    "new_df['NUM'] = num_list\n",
    "new_df['TEXT'] = text_list\n",
    "\n",
    "print(\"Appended the list to DF\")\n",
    "\n",
    "new_df_01 = new_df.sort_values(by=['NUM'], ascending = False)\n",
    "print(\"NEW DF Done\")\n",
    "for_plot_df = new_df_01.head(500)\n",
    "print(\"For Plot DF done\")\n",
    "print(\"Starting the Csv\")\n",
    "#for_plot_df.to_csv('/global/D1/projects/umod/dipp/playground/result_csv/texts.csv', index = False)\n",
    "print(\"Done.....\")\n"
   ]
  }
 ],
 "metadata": {
  "kernelspec": {
   "display_name": "Python 3.7.10 ('base')",
   "language": "python",
   "name": "python3"
  },
  "language_info": {
   "codemirror_mode": {
    "name": "ipython",
    "version": 3
   },
   "file_extension": ".py",
   "mimetype": "text/x-python",
   "name": "python",
   "nbconvert_exporter": "python",
   "pygments_lexer": "ipython3",
   "version": "3.7.10"
  },
  "orig_nbformat": 4,
  "vscode": {
   "interpreter": {
    "hash": "3eebd31d5c0f5c4a4e485d05d70c8fdb16e2a998b120847d1da31dd1c4eeb912"
   }
  }
 },
 "nbformat": 4,
 "nbformat_minor": 2
}
