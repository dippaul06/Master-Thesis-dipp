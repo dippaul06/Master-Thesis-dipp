{
 "cells": [
  {
   "cell_type": "code",
   "execution_count": 1,
   "metadata": {},
   "outputs": [],
   "source": [
    "import re"
   ]
  },
  {
   "cell_type": "code",
   "execution_count": 2,
   "metadata": {},
   "outputs": [],
   "source": [
    "file_folder = \"/home/dipp/Github/Playground/Data/texts_english.csv\"\n",
    "pat = \"(^\\\\{[[0-9]*[,]?[ ]?]*}[,])\""
   ]
  },
  {
   "cell_type": "code",
   "execution_count": 3,
   "metadata": {},
   "outputs": [],
   "source": [
    "keys = [\"TEXT\", \"NUM\"]\n",
    "int_dict = dict.fromkeys(keys)"
   ]
  },
  {
   "cell_type": "code",
   "execution_count": 4,
   "metadata": {},
   "outputs": [
    {
     "name": "stdout",
     "output_type": "stream",
     "text": [
      "Using for loop\n",
      "Line1: {1367246889842745345},@senronjohnson why do you hate the citizens of our country? you are not human, least you act like you have no heart.  why would you ever act the way you do? the state of wi citizens need the covid relief. you want to stop it. dangerous what you are doing. you are unbelievable. stop it!\n",
      "Line2: {1264526677683638278},@nelsondg6 @jeedderh_aleeee plz oooooooh! didn't mean to snatch her from u ooo if she's yours n don't add that to this covid-19 wahala for me 😁😂😂\n",
      "Line3: {1341231895942549505, 1341232078734598144},rt @livewire7teen: uk flights should be allowed to wuhan #mutantcovid\n",
      "Line4: {1412399864856600580},@briankempga i am joining the fight against you. nobody tries to cancel you. you tried to cancel us . you have governed to one side of the isle. a successful governor governs to all and has found a way to vaccinate 70 and more of their population. georgia is dismal in protecting from covid.\n",
      "Line5: {1288200081326264320},as congress negotiates the #healsact, i'm counting on leadership to #stand4service and include the bipartisan #corpsact to allow @americorps &amp; @seniorcorps to support communities with pandemic response &amp; recovery. @royblunt @pattymurray @senalexander  https://t.co/hx4i9yzba4\n",
      "Line6: {1426855587204288512},@_will_curtis_ @city_xtra @footballdaily you never know with all the injuries, covid cases and don't forget about africa cup of nations when you will lose mane and salah potentially for over a month\n",
      "Line7: {1252970206793805826},covid-19 community meeting notes https://t.co/ynctykkq8z\n",
      "Line8: {1343220151295029251},@philipmach @joziguyz @news24 @bisouthafrica added advantage is they can see if it's effective against the soaring cases of the new covid19 variant. hopefully they will test this.\n",
      "Line9: {1297897694493421568},america’s best way to deal to with coronavirus “let’s make a tv show about about quarantine” tf is that?\n",
      "Line10: {1368986236657033218, 1368986141807017990, 1374309087123492864},rt @practiceunbound: our managing director lesley jay reflects on the feedback and input from nhs colleagues following her transforming gen…\n"
     ]
    }
   ],
   "source": [
    "file1 = open(file_folder, 'r')\n",
    "count = 0\n",
    "\n",
    "print(\"Using for loop\")\n",
    "for line in file1:\n",
    "    count += 1\n",
    "    print(\"Line{}: {}\".format(count, line.strip()))\n",
    "file1.close()"
   ]
  },
  {
   "cell_type": "code",
   "execution_count": 5,
   "metadata": {},
   "outputs": [
    {
     "name": "stdout",
     "output_type": "stream",
     "text": [
      "Line1: {1367246889842745345},@senronjohnson why do you hate the citizens of our country? you are not human, least you act like you have no heart.  why would you ever act the way you do? the state of wi citizens need the covid relief. you want to stop it. dangerous what you are doing. you are unbelievable. stop it!\n",
      "Line2: {1264526677683638278},@nelsondg6 @jeedderh_aleeee plz oooooooh! didn't mean to snatch her from u ooo if she's yours n don't add that to this covid-19 wahala for me 😁😂😂\n",
      "Line3: {1341231895942549505, 1341232078734598144},rt @livewire7teen: uk flights should be allowed to wuhan #mutantcovid\n",
      "Line4: {1412399864856600580},@briankempga i am joining the fight against you. nobody tries to cancel you. you tried to cancel us . you have governed to one side of the isle. a successful governor governs to all and has found a way to vaccinate 70 and more of their population. georgia is dismal in protecting from covid.\n",
      "Line5: {1288200081326264320},as congress negotiates the #healsact, i'm counting on leadership to #stand4service and include the bipartisan #corpsact to allow @americorps &amp; @seniorcorps to support communities with pandemic response &amp; recovery. @royblunt @pattymurray @senalexander  https://t.co/hx4i9yzba4\n"
     ]
    }
   ],
   "source": [
    "file_folder = \"/home/dipp/Github/Playground/Data/texts_english.csv\"\n",
    "file1 = open(file_folder, 'r')\n",
    "int_line = 5\n",
    "count = 0\n",
    "\n",
    "\n",
    "for line in file1:\n",
    "    if(int_line>0):\n",
    "        count += 1\n",
    "        int_line -= 1\n",
    "        print(\"Line{}: {}\".format(count, line.strip()))\n",
    "file1.close()\n",
    "        "
   ]
  },
  {
   "cell_type": "code",
   "execution_count": 3,
   "metadata": {},
   "outputs": [
    {
     "name": "stdout",
     "output_type": "stream",
     "text": [
      "compiled reg expr <re.Match object; span=(0, 21), match='{1367246889842745345}'>\n",
      "compiled reg expr <re.Match object; span=(0, 21), match='{1264526677683638278}'>\n",
      "compiled reg expr <re.Match object; span=(0, 42), match='{1341231895942549505, 1341232078734598144}'>\n",
      "compiled reg expr <re.Match object; span=(0, 21), match='{1412399864856600580}'>\n",
      "compiled reg expr <re.Match object; span=(0, 21), match='{1288200081326264320}'>\n",
      "compiled reg expr <re.Match object; span=(0, 21), match='{1426855587204288512}'>\n",
      "compiled reg expr <re.Match object; span=(0, 21), match='{1252970206793805826}'>\n",
      "compiled reg expr <re.Match object; span=(0, 21), match='{1343220151295029251}'>\n",
      "compiled reg expr <re.Match object; span=(0, 21), match='{1297897694493421568}'>\n",
      "compiled reg expr <re.Match object; span=(0, 63), match='{1368986236657033218, 1368986141807017990, 137430>\n"
     ]
    }
   ],
   "source": [
    "import re\n",
    "#regex = re.compile(\"(^\\\\{[[0-9]*[,]?[ ]?]*}[,])\")\n",
    "regex = re.compile(\"^\\{([0-9]*[,]?[ ]?)*\\}\")\n",
    "\n",
    "file_folder = \"/home/dipp/Github/Playground/Data/texts_english.csv\"\n",
    "file1 = open(file_folder, 'r')\n",
    "\n",
    "for line in file1:\n",
    "    print('compiled reg expr', regex.search(line))\n",
    "\n",
    "file1.close()"
   ]
  },
  {
   "cell_type": "code",
   "execution_count": 5,
   "metadata": {},
   "outputs": [
    {
     "name": "stdout",
     "output_type": "stream",
     "text": [
      "['{1367246889842745345},@senronjohnson why do you hate the citizens of our country? you are not human, least you act like you have no heart.  why would you ever act the way you do? the state of wi citizens need the covid relief. you want to stop it. dangerous what you are doing. you are unbelievable. stop it!\\n', \"{1264526677683638278},@nelsondg6 @jeedderh_aleeee plz oooooooh! didn't mean to snatch her from u ooo if she's yours n don't add that to this covid-19 wahala for me 😁😂😂\\n\", '{1341231895942549505, 1341232078734598144},rt @livewire7teen: uk flights should be allowed to wuhan #mutantcovid\\n', '{1412399864856600580},@briankempga i am joining the fight against you. nobody tries to cancel you. you tried to cancel us . you have governed to one side of the isle. a successful governor governs to all and has found a way to vaccinate 70 and more of their population. georgia is dismal in protecting from covid.\\n', \"{1288200081326264320},as congress negotiates the #healsact, i'm counting on leadership to #stand4service and include the bipartisan #corpsact to allow @americorps &amp; @seniorcorps to support communities with pandemic response &amp; recovery. @royblunt @pattymurray @senalexander  https://t.co/hx4i9yzba4\\n\", \"{1426855587204288512},@_will_curtis_ @city_xtra @footballdaily you never know with all the injuries, covid cases and don't forget about africa cup of nations when you will lose mane and salah potentially for over a month\\n\", '{1252970206793805826},covid-19 community meeting notes https://t.co/ynctykkq8z\\n', \"{1343220151295029251},@philipmach @joziguyz @news24 @bisouthafrica added advantage is they can see if it's effective against the soaring cases of the new covid19 variant. hopefully they will test this.\\n\", '{1297897694493421568},america’s best way to deal to with coronavirus “let’s make a tv show about about quarantine” tf is that?\\n', '{1368986236657033218, 1368986141807017990, 1374309087123492864},rt @practiceunbound: our managing director lesley jay reflects on the feedback and input from nhs colleagues following her transforming gen…']\n"
     ]
    }
   ],
   "source": [
    "\n",
    "file_folder = \"/home/dipp/Github/Playground/Data/texts_english.csv\"\n",
    "file1 = open(file_folder, 'r')\n",
    "text_list = []\n",
    "for line in file1:\n",
    "    text_list.append(line.strip(\"},\"))\n",
    "    \n",
    "print(text_list)\n",
    "file1.close()"
   ]
  },
  {
   "cell_type": "code",
   "execution_count": 6,
   "metadata": {},
   "outputs": [
    {
     "name": "stdout",
     "output_type": "stream",
     "text": [
      "compiled reg expr <re.Match object; span=(0, 21), match='{1367246889842745345}'>\n",
      "compiled reg expr <re.Match object; span=(0, 21), match='{1264526677683638278}'>\n",
      "compiled reg expr <re.Match object; span=(0, 42), match='{1341231895942549505, 1341232078734598144}'>\n",
      "compiled reg expr <re.Match object; span=(0, 21), match='{1412399864856600580}'>\n",
      "compiled reg expr <re.Match object; span=(0, 21), match='{1288200081326264320}'>\n",
      "compiled reg expr <re.Match object; span=(0, 21), match='{1426855587204288512}'>\n",
      "compiled reg expr <re.Match object; span=(0, 21), match='{1252970206793805826}'>\n",
      "compiled reg expr <re.Match object; span=(0, 21), match='{1343220151295029251}'>\n",
      "compiled reg expr <re.Match object; span=(0, 21), match='{1297897694493421568}'>\n",
      "compiled reg expr <re.Match object; span=(0, 63), match='{1368986236657033218, 1368986141807017990, 137430>\n"
     ]
    }
   ],
   "source": [
    "import re\n",
    "#regex = re.compile(\"(^\\\\{[[0-9]*[,]?[ ]?]*}[,])\")\n",
    "regex = re.compile(\"^\\{([0-9]*[,]?[ ]?)*\\}\")\n",
    "for l in text_list:\n",
    "    #print(l)\n",
    "    print('compiled reg expr', regex.search(l))\n"
   ]
  },
  {
   "cell_type": "code",
   "execution_count": 9,
   "metadata": {},
   "outputs": [
    {
     "name": "stdout",
     "output_type": "stream",
     "text": [
      "None\n",
      "None\n",
      "None\n",
      "None\n",
      "None\n",
      "None\n",
      "None\n",
      "None\n",
      "None\n",
      "None\n"
     ]
    },
    {
     "name": "stderr",
     "output_type": "stream",
     "text": [
      "/home/dipp/miniconda3/lib/python3.7/site-packages/ipykernel_launcher.py:5: FutureWarning: Possible nested set at position 6\n",
      "  \"\"\"\n"
     ]
    }
   ],
   "source": [
    "import re\n",
    "\n",
    "regex = r'(^\\\\{[[0-9]*[,]?[ ]?]*}[,])'\n",
    "for line in text_list:\n",
    "    res = re.match(regex, line)\n",
    "    print(res)\n",
    "    #res.groupdict()"
   ]
  },
  {
   "cell_type": "code",
   "execution_count": 7,
   "metadata": {},
   "outputs": [
    {
     "name": "stdout",
     "output_type": "stream",
     "text": [
      "compiled reg expr 1  ['']\n",
      "compiled reg expr 1  ['']\n",
      "compiled reg expr 1  ['']\n",
      "compiled reg expr 1  ['']\n",
      "compiled reg expr 1  ['']\n",
      "compiled reg expr 1  ['']\n",
      "compiled reg expr 1  ['']\n",
      "compiled reg expr 1  ['']\n",
      "compiled reg expr 1  ['']\n",
      "compiled reg expr 1  ['']\n"
     ]
    }
   ],
   "source": [
    "import re\n",
    "regex_1 = \"(^\\\\{[[0-9]*[,]?[ ]?]*}[,])\"\n",
    "regex_2 = \"(^\\\\{[[0-9]*[,]?[ ]?]*[,])\"\n",
    "\n",
    "regex_3 = \"^\\{([0-9]*[,]?[ ]?)*\\}\"\n",
    "\n",
    "# \"^,1368986141807017990,$\n",
    "# /(\\{1368986236657033218|13(68986141807017990|74309087123492864\\}))/\n",
    "\n",
    "\n",
    "for l in text_list:\n",
    "    #print(l)\n",
    "    test1 = re.compile(\"%s\" % (regex_3)).findall(l)\n",
    "    #test2 = re.compile(\"%s\" % (regex_2)).findall(l)\n",
    "    print('compiled reg expr 1 ', test1)\n",
    "    #print('compiled reg expr 2 ', test2)"
   ]
  }
 ],
 "metadata": {
  "kernelspec": {
   "display_name": "Python 3.7.10 ('base')",
   "language": "python",
   "name": "python3"
  },
  "language_info": {
   "codemirror_mode": {
    "name": "ipython",
    "version": 3
   },
   "file_extension": ".py",
   "mimetype": "text/x-python",
   "name": "python",
   "nbconvert_exporter": "python",
   "pygments_lexer": "ipython3",
   "version": "3.7.10"
  },
  "orig_nbformat": 4,
  "vscode": {
   "interpreter": {
    "hash": "3eebd31d5c0f5c4a4e485d05d70c8fdb16e2a998b120847d1da31dd1c4eeb912"
   }
  }
 },
 "nbformat": 4,
 "nbformat_minor": 2
}
