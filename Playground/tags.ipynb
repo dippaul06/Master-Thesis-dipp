{
 "cells": [
  {
   "cell_type": "code",
   "execution_count": 1,
   "metadata": {},
   "outputs": [],
   "source": [
    "import re"
   ]
  },
  {
   "cell_type": "code",
   "execution_count": 2,
   "metadata": {},
   "outputs": [],
   "source": [
    "file_folder = '/home/dipp/Github/Playground/Data/tags.json'"
   ]
  },
  {
   "cell_type": "code",
   "execution_count": 3,
   "metadata": {},
   "outputs": [],
   "source": [
    "keys = [\"IDS\", \"TAGS\", \"NUM\"]\n",
    "int_dict = dict.fromkeys(keys)"
   ]
  },
  {
   "cell_type": "code",
   "execution_count": 2,
   "metadata": {},
   "outputs": [
    {
     "name": "stdout",
     "output_type": "stream",
     "text": [
      "                                            mentions\n",
      "0                              [1252344028097474560]\n",
      "1  [1240058197165117442, 1240059542718816263, 124...\n",
      "2  [1329895729666600964, 1334136856007630850, 133...\n",
      "3                              [1221619977343516672]\n",
      "4                              [1283781745809207296]\n",
      "5                              [1296249163605106688]\n",
      "6                              [1305488806259421189]\n",
      "7                              [1396378017010786307]\n",
      "8  [1273258327003197440, 1272826999703089155, 127...\n"
     ]
    },
    {
     "ename": "",
     "evalue": "",
     "output_type": "error",
     "traceback": [
      "\u001b[1;31mThe Kernel crashed while executing code in the the current cell or a previous cell. Please review the code in the cell(s) to identify a possible cause of the failure. Click <a href='https://aka.ms/vscodeJupyterKernelCrash'>here</a> for more info. View Jupyter <a href='command:jupyter.viewOutput'>log</a> for further details."
     ]
    }
   ],
   "source": [
    "import pandas as pd\n",
    "df = pd.read_json (r'/home/dipp/Github/Playground/Data/tags.json', lines=True, encoding=\"utf8\")\n",
    "#print(df)\n",
    "df_text = df.iloc[:,-1:]\n",
    "df_id = df.iloc[:, :1]\n",
    "#df_id = df.iloc['text']\n",
    "print(df_id)\n",
    "    "
   ]
  },
  {
   "cell_type": "code",
   "execution_count": 25,
   "metadata": {},
   "outputs": [
    {
     "name": "stdout",
     "output_type": "stream",
     "text": [
      "[[1252344028097474560]]\n"
     ]
    }
   ],
   "source": [
    "id_list = df_id.values.tolist()\n",
    "print(id_list[0])\n"
   ]
  },
  {
   "cell_type": "code",
   "execution_count": 33,
   "metadata": {},
   "outputs": [
    {
     "name": "stdout",
     "output_type": "stream",
     "text": [
      "[1, 7, 18, 1, 1, 1, 1, 1, 61]\n"
     ]
    }
   ],
   "source": [
    "num_list = []\n",
    "for i in id_list:\n",
    "    for j in i:\n",
    "        num_list.append(len(j))\n",
    "\n",
    "print(num_list)"
   ]
  },
  {
   "cell_type": "code",
   "execution_count": 34,
   "metadata": {},
   "outputs": [
    {
     "name": "stdout",
     "output_type": "stream",
     "text": [
      "                    text  num\n",
      "0                   教育変容    1\n",
      "1       besserebezahlung    7\n",
      "2                phfizer   18\n",
      "3      hardwarezoneforum    1\n",
      "4             27weeksold    1\n",
      "5        worldmakeoutday    1\n",
      "6           صيانة_سماعات    1\n",
      "7                   туат    1\n",
      "8  boycottkaranjohargang   61\n"
     ]
    }
   ],
   "source": [
    "df_text.insert(loc=len(df_text.columns), column='num', value=num_list)\n",
    "print(df_text)"
   ]
  },
  {
   "cell_type": "code",
   "execution_count": 35,
   "metadata": {},
   "outputs": [
    {
     "name": "stdout",
     "output_type": "stream",
     "text": [
      "                    text  num\n",
      "8  boycottkaranjohargang   61\n",
      "2                phfizer   18\n",
      "1       besserebezahlung    7\n",
      "0                   教育変容    1\n",
      "3      hardwarezoneforum    1\n",
      "4             27weeksold    1\n",
      "5        worldmakeoutday    1\n",
      "6           صيانة_سماعات    1\n",
      "7                   туат    1\n"
     ]
    }
   ],
   "source": [
    "new_df = df_text.sort_values(by=['num'], ascending = False)\n",
    "print(new_df)"
   ]
  },
  {
   "cell_type": "code",
   "execution_count": null,
   "metadata": {},
   "outputs": [],
   "source": [
    "for_plot_df = new_df.head(100)\n",
    "\n",
    "for_plot_df.to_csv('/home/dipp/Github/Playground/DEMO_RES/tag_01.csv', index = False)"
   ]
  },
  {
   "cell_type": "code",
   "execution_count": 7,
   "metadata": {},
   "outputs": [
    {
     "name": "stdout",
     "output_type": "stream",
     "text": [
      "Total Lines 9\n"
     ]
    }
   ],
   "source": [
    "n = 0\n",
    "with open(r\"/home/dipp/Github/Playground/Data/tags.json\", 'r') as fp:\n",
    "    for count, line in enumerate(fp):\n",
    "        pass\n",
    "print('Total Lines', count + 1)"
   ]
  },
  {
   "cell_type": "code",
   "execution_count": 9,
   "metadata": {},
   "outputs": [
    {
     "data": {
      "text/plain": [
       "9"
      ]
     },
     "execution_count": 9,
     "metadata": {},
     "output_type": "execute_result"
    }
   ],
   "source": [
    "lines = count+1\n",
    "lines"
   ]
  },
  {
   "cell_type": "code",
   "execution_count": null,
   "metadata": {},
   "outputs": [],
   "source": [
    "for l in "
   ]
  },
  {
   "cell_type": "code",
   "execution_count": 44,
   "metadata": {},
   "outputs": [
    {
     "name": "stdout",
     "output_type": "stream",
     "text": [
      "I am here bginign \n"
     ]
    },
    {
     "data": {
      "text/plain": [
       "<pandas.io.json._json.JsonReader at 0x15551d62e890>"
      ]
     },
     "execution_count": 44,
     "metadata": {},
     "output_type": "execute_result"
    }
   ],
   "source": [
    "import numpy as np\n",
    "import pandas as pd\n",
    "import gc\n",
    "print('I am here bginign ')\n",
    "\n",
    "\n",
    "df = pd.read_json (\"/home/dipp/Github/Playground/Data/tags.json\", lines=True, encoding='utf8', chunksize=5)\n",
    "df\n",
    "#df_text = df.iloc[:,-1:]\n",
    "#df_id = df.iloc[:, :1]\n"
   ]
  },
  {
   "cell_type": "code",
   "execution_count": 45,
   "metadata": {},
   "outputs": [
    {
     "name": "stdout",
     "output_type": "stream",
     "text": [
      "                                            mentions                   text\n",
      "0                              [1252344028097474560]                   教育変容\n",
      "1  [1240058197165117442, 1240059542718816263, 124...       besserebezahlung\n",
      "2  [1329895729666600964, 1334136856007630850, 133...                phfizer\n",
      "3                              [1221619977343516672]      hardwarezoneforum\n",
      "4                              [1283781745809207296]             27weeksold\n",
      "5                              [1296249163605106688]        worldmakeoutday\n",
      "6                              [1305488806259421189]           صيانة_سماعات\n",
      "7                              [1396378017010786307]                   туат\n",
      "8  [1273258327003197440, 1272826999703089155, 127...  boycottkaranjohargang\n"
     ]
    }
   ],
   "source": [
    "temp_df = pd.DataFrame()\n",
    "for chunk in df:\n",
    "    #print(chunk)\n",
    "    temp_df = temp_df.append(chunk)\n",
    "print(temp_df)\n",
    "    "
   ]
  },
  {
   "cell_type": "code",
   "execution_count": null,
   "metadata": {},
   "outputs": [],
   "source": [
    "import numpy as np\n",
    "import pandas as pd\n",
    "import gc\n",
    "print('I am here bginign ')\n",
    "\n",
    "\n",
    "df = pd.read_json (\"/global/D1/projects/umod/dipp/playground/tags.json\", lines=True, encoding='utf8', chunksize=1)\n",
    "#print(df)\n",
    "print('POS 1')\n",
    "df_text = df.iloc[:,-1:]\n",
    "print('POS 2')\n",
    "df_id = df.iloc[:, :1]\n",
    "#df_id = df.iloc['text']\n",
    "#print(df_id)\n",
    "\n",
    "lst = [df]\n",
    "del df\n",
    "del lst\n",
    "gc.collect()\n",
    "print('POS 3')\n",
    "\n",
    "id_list = df_id.values.tolist()\n",
    "#print(id_list[0])\n",
    "print('POS 4')\n",
    "\n",
    "lst1 = [df_id]\n",
    "del df_id\n",
    "del lst1\n",
    "gc.collect()\n",
    "\n",
    "num_list = []\n",
    "for i in id_list:\n",
    "    for j in i:\n",
    "        num_list.append(len(j))\n",
    "\n",
    "#print(num_list)\n",
    "print('POS 5')\n",
    "\n",
    "\n",
    "\n",
    "df_text.insert(loc=len(df_text.columns), column='num', value=num_list)\n",
    "#print(df_text)\n",
    "del num_list\n",
    "gc.collect()\n",
    "print('POS 6')\n",
    "\n",
    "new_df = df_text.sort_values(by=['num'], ascending = False)\n",
    "#print(new_df)\n",
    "print('POS 7')\n",
    "lst2 = [df_text]\n",
    "del df_text\n",
    "del lst2\n",
    "gc.collect()\n",
    "\n",
    "for_plot_df = new_df.head(100)\n",
    "print('POS 8')\n",
    "lst3 = [new_df]\n",
    "del new_df\n",
    "del lst3\n",
    "gc.collect()\n",
    "#print(for_plot_df)\n",
    "for_plot_df.to_csv('/global/D1/projects/umod/dipp/playground/result_csv/tags.csv', index = False)"
   ]
  },
  {
   "cell_type": "code",
   "execution_count": 13,
   "metadata": {},
   "outputs": [
    {
     "name": "stdout",
     "output_type": "stream",
     "text": [
      "                                                   0\n",
      "0  {\"mentions\":[1252344028097474560],\"text\":\"教育変容...\n",
      "0  {\"mentions\":[1240058197165117442,1240059542718...\n",
      "0  {\"mentions\":[1329895729666600964,1334136856007...\n",
      "0  {\"mentions\":[1221619977343516672],\"text\":\"hard...\n",
      "0  {\"mentions\":[1283781745809207296],\"text\":\"27we...\n",
      "0  {\"mentions\":[1296249163605106688],\"text\":\"worl...\n",
      "0  {\"mentions\":[1305488806259421189],\"text\":\"صيان...\n",
      "0  {\"mentions\":[1396378017010786307],\"text\":\"туат...\n",
      "0  {\"mentions\":[1273258327003197440,1272826999703...\n"
     ]
    }
   ],
   "source": [
    "import pandas as pd\n",
    "\n",
    "temp_df = pd.DataFrame()\n",
    "file1 = open(\"/home/dipp/Github/Playground/Data/tags.json\", 'r', )\n",
    "\n",
    "for line in file1:\n",
    "    #print(line[])\n",
    "    temp_df_01 = pd.DataFrame([line])\n",
    "    temp_df = temp_df.append(temp_df_01)\n",
    "    \"\"\"\n",
    "    try:\n",
    "        \n",
    "    except:\n",
    "        pass\n",
    "    \n",
    "    \n",
    "    \"\"\"\n",
    "\n",
    "file1.close()\n",
    "\n",
    "\n",
    "#print(temp_df)\n",
    "\n",
    "temp_df = temp_df.astype(str)\n",
    "print(temp_df)"
   ]
  },
  {
   "cell_type": "code",
   "execution_count": 22,
   "metadata": {},
   "outputs": [
    {
     "name": "stdout",
     "output_type": "stream",
     "text": [
      "Total Lines: 9\n",
      "0\n",
      "1\n",
      "2\n",
      "3\n",
      "4\n",
      "5\n",
      "6\n",
      "7\n",
      "8\n",
      "                                            mentions               text\n",
      "0                              [1252344028097474560]               教育変容\n",
      "1  [1240058197165117442, 1240059542718816263, 124...   besserebezahlung\n",
      "2  [1329895729666600964, 1334136856007630850, 133...            phfizer\n",
      "3                              [1221619977343516672]  hardwarezoneforum\n",
      "4                              [1283781745809207296]         27weeksold\n",
      "5                              [1296249163605106688]    worldmakeoutday\n",
      "6                              [1305488806259421189]       صيانة_سماعات\n",
      "7                              [1396378017010786307]               туат\n"
     ]
    }
   ],
   "source": [
    "num = sum(1 for line in open(\"/home/dipp/Github/Playground/Data/tags.json\"))\n",
    "print(\"Total Lines:\" , num)\n",
    "\n",
    "for i in range(num):\n",
    "    try:\n",
    "        df = pd.read_json (\"/home/dipp/Github/Playground/Data/tags.json\", lines=True, encoding='utf8', nrows=i)\n",
    "        print(i)\n",
    "    except:\n",
    "        pass\n",
    "\n",
    "print(df)\n"
   ]
  },
  {
   "cell_type": "code",
   "execution_count": 30,
   "metadata": {},
   "outputs": [
    {
     "name": "stdout",
     "output_type": "stream",
     "text": [
      "<class 'str'>\n"
     ]
    },
    {
     "ename": "ValueError",
     "evalue": "DataFrame constructor not properly called!",
     "output_type": "error",
     "traceback": [
      "\u001b[0;31m---------------------------------------------------------------------------\u001b[0m",
      "\u001b[0;31mValueError\u001b[0m                                Traceback (most recent call last)",
      "\u001b[0;32m/tmp/ipykernel_60588/3538912888.py\u001b[0m in \u001b[0;36m<module>\u001b[0;34m\u001b[0m\n\u001b[1;32m      8\u001b[0m \u001b[0;31m# print the particular line\u001b[0m\u001b[0;34m\u001b[0m\u001b[0;34m\u001b[0m\u001b[0;34m\u001b[0m\u001b[0m\n\u001b[1;32m      9\u001b[0m \u001b[0mprint\u001b[0m\u001b[0;34m(\u001b[0m\u001b[0mtype\u001b[0m\u001b[0;34m(\u001b[0m\u001b[0mparticular_line\u001b[0m\u001b[0;34m)\u001b[0m\u001b[0;34m)\u001b[0m\u001b[0;34m\u001b[0m\u001b[0;34m\u001b[0m\u001b[0m\n\u001b[0;32m---> 10\u001b[0;31m \u001b[0mdf\u001b[0m \u001b[0;34m=\u001b[0m \u001b[0mpd\u001b[0m\u001b[0;34m.\u001b[0m\u001b[0mDataFrame\u001b[0m\u001b[0;34m(\u001b[0m\u001b[0mparticular_line\u001b[0m\u001b[0;34m)\u001b[0m\u001b[0;34m\u001b[0m\u001b[0;34m\u001b[0m\u001b[0m\n\u001b[0m\u001b[1;32m     11\u001b[0m \u001b[0;34m\u001b[0m\u001b[0m\n\u001b[1;32m     12\u001b[0m \u001b[0mprint\u001b[0m\u001b[0;34m(\u001b[0m\u001b[0mdf\u001b[0m\u001b[0;34m)\u001b[0m\u001b[0;34m\u001b[0m\u001b[0;34m\u001b[0m\u001b[0m\n",
      "\u001b[0;32m~/miniconda3/lib/python3.7/site-packages/pandas/core/frame.py\u001b[0m in \u001b[0;36m__init__\u001b[0;34m(self, data, index, columns, dtype, copy)\u001b[0m\n\u001b[1;32m    728\u001b[0m         \u001b[0;32melse\u001b[0m\u001b[0;34m:\u001b[0m\u001b[0;34m\u001b[0m\u001b[0;34m\u001b[0m\u001b[0m\n\u001b[1;32m    729\u001b[0m             \u001b[0;32mif\u001b[0m \u001b[0mindex\u001b[0m \u001b[0;32mis\u001b[0m \u001b[0;32mNone\u001b[0m \u001b[0;32mor\u001b[0m \u001b[0mcolumns\u001b[0m \u001b[0;32mis\u001b[0m \u001b[0;32mNone\u001b[0m\u001b[0;34m:\u001b[0m\u001b[0;34m\u001b[0m\u001b[0;34m\u001b[0m\u001b[0m\n\u001b[0;32m--> 730\u001b[0;31m                 \u001b[0;32mraise\u001b[0m \u001b[0mValueError\u001b[0m\u001b[0;34m(\u001b[0m\u001b[0;34m\"DataFrame constructor not properly called!\"\u001b[0m\u001b[0;34m)\u001b[0m\u001b[0;34m\u001b[0m\u001b[0;34m\u001b[0m\u001b[0m\n\u001b[0m\u001b[1;32m    731\u001b[0m \u001b[0;34m\u001b[0m\u001b[0m\n\u001b[1;32m    732\u001b[0m             \u001b[0;31m# Argument 1 to \"ensure_index\" has incompatible type \"Collection[Any]\";\u001b[0m\u001b[0;34m\u001b[0m\u001b[0;34m\u001b[0m\u001b[0;34m\u001b[0m\u001b[0m\n",
      "\u001b[0;31mValueError\u001b[0m: DataFrame constructor not properly called!"
     ]
    }
   ],
   "source": [
    "# importing required package\n",
    "import linecache\n",
    "import pandas as pd\n",
    "  \n",
    "# extracting the 5th line\n",
    "particular_line = linecache.getline('/home/dipp/Github/Playground/Data/tags.json', 4)\n",
    "  \n",
    "# print the particular line\n",
    "print(type(particular_line))\n",
    "df = pd.DataFrame(particular_line)\n",
    "\n",
    "print(df)\n",
    "#df = pd.DataFrame(particular_line)"
   ]
  },
  {
   "cell_type": "code",
   "execution_count": 33,
   "metadata": {},
   "outputs": [
    {
     "ename": "JSONDecodeError",
     "evalue": "Extra data: line 2 column 1 (char 49)",
     "output_type": "error",
     "traceback": [
      "\u001b[0;31m---------------------------------------------------------------------------\u001b[0m",
      "\u001b[0;31mJSONDecodeError\u001b[0m                           Traceback (most recent call last)",
      "\u001b[0;32m/tmp/ipykernel_60588/2404402602.py\u001b[0m in \u001b[0;36m<module>\u001b[0;34m\u001b[0m\n\u001b[1;32m      3\u001b[0m \u001b[0mfile\u001b[0m \u001b[0;34m=\u001b[0m \u001b[0;34m'/home/dipp/Github/Playground/Data/tags.json'\u001b[0m\u001b[0;34m\u001b[0m\u001b[0;34m\u001b[0m\u001b[0m\n\u001b[1;32m      4\u001b[0m \u001b[0;32mwith\u001b[0m \u001b[0mopen\u001b[0m\u001b[0;34m(\u001b[0m\u001b[0mfile\u001b[0m\u001b[0;34m)\u001b[0m \u001b[0;32mas\u001b[0m \u001b[0mtrain_file\u001b[0m\u001b[0;34m:\u001b[0m\u001b[0;34m\u001b[0m\u001b[0;34m\u001b[0m\u001b[0m\n\u001b[0;32m----> 5\u001b[0;31m     \u001b[0mdict_train\u001b[0m \u001b[0;34m=\u001b[0m \u001b[0mjson\u001b[0m\u001b[0;34m.\u001b[0m\u001b[0mload\u001b[0m\u001b[0;34m(\u001b[0m\u001b[0mtrain_file\u001b[0m\u001b[0;34m)\u001b[0m\u001b[0;34m\u001b[0m\u001b[0;34m\u001b[0m\u001b[0m\n\u001b[0m\u001b[1;32m      6\u001b[0m \u001b[0;34m\u001b[0m\u001b[0m\n\u001b[1;32m      7\u001b[0m \u001b[0;31m# converting json dataset from dictionary to dataframe\u001b[0m\u001b[0;34m\u001b[0m\u001b[0;34m\u001b[0m\u001b[0;34m\u001b[0m\u001b[0m\n",
      "\u001b[0;32m~/miniconda3/lib/python3.7/json/__init__.py\u001b[0m in \u001b[0;36mload\u001b[0;34m(fp, cls, object_hook, parse_float, parse_int, parse_constant, object_pairs_hook, **kw)\u001b[0m\n\u001b[1;32m    294\u001b[0m         \u001b[0mcls\u001b[0m\u001b[0;34m=\u001b[0m\u001b[0mcls\u001b[0m\u001b[0;34m,\u001b[0m \u001b[0mobject_hook\u001b[0m\u001b[0;34m=\u001b[0m\u001b[0mobject_hook\u001b[0m\u001b[0;34m,\u001b[0m\u001b[0;34m\u001b[0m\u001b[0;34m\u001b[0m\u001b[0m\n\u001b[1;32m    295\u001b[0m         \u001b[0mparse_float\u001b[0m\u001b[0;34m=\u001b[0m\u001b[0mparse_float\u001b[0m\u001b[0;34m,\u001b[0m \u001b[0mparse_int\u001b[0m\u001b[0;34m=\u001b[0m\u001b[0mparse_int\u001b[0m\u001b[0;34m,\u001b[0m\u001b[0;34m\u001b[0m\u001b[0;34m\u001b[0m\u001b[0m\n\u001b[0;32m--> 296\u001b[0;31m         parse_constant=parse_constant, object_pairs_hook=object_pairs_hook, **kw)\n\u001b[0m\u001b[1;32m    297\u001b[0m \u001b[0;34m\u001b[0m\u001b[0m\n\u001b[1;32m    298\u001b[0m \u001b[0;34m\u001b[0m\u001b[0m\n",
      "\u001b[0;32m~/miniconda3/lib/python3.7/json/__init__.py\u001b[0m in \u001b[0;36mloads\u001b[0;34m(s, encoding, cls, object_hook, parse_float, parse_int, parse_constant, object_pairs_hook, **kw)\u001b[0m\n\u001b[1;32m    346\u001b[0m             \u001b[0mparse_int\u001b[0m \u001b[0;32mis\u001b[0m \u001b[0;32mNone\u001b[0m \u001b[0;32mand\u001b[0m \u001b[0mparse_float\u001b[0m \u001b[0;32mis\u001b[0m \u001b[0;32mNone\u001b[0m \u001b[0;32mand\u001b[0m\u001b[0;34m\u001b[0m\u001b[0;34m\u001b[0m\u001b[0m\n\u001b[1;32m    347\u001b[0m             parse_constant is None and object_pairs_hook is None and not kw):\n\u001b[0;32m--> 348\u001b[0;31m         \u001b[0;32mreturn\u001b[0m \u001b[0m_default_decoder\u001b[0m\u001b[0;34m.\u001b[0m\u001b[0mdecode\u001b[0m\u001b[0;34m(\u001b[0m\u001b[0ms\u001b[0m\u001b[0;34m)\u001b[0m\u001b[0;34m\u001b[0m\u001b[0;34m\u001b[0m\u001b[0m\n\u001b[0m\u001b[1;32m    349\u001b[0m     \u001b[0;32mif\u001b[0m \u001b[0mcls\u001b[0m \u001b[0;32mis\u001b[0m \u001b[0;32mNone\u001b[0m\u001b[0;34m:\u001b[0m\u001b[0;34m\u001b[0m\u001b[0;34m\u001b[0m\u001b[0m\n\u001b[1;32m    350\u001b[0m         \u001b[0mcls\u001b[0m \u001b[0;34m=\u001b[0m \u001b[0mJSONDecoder\u001b[0m\u001b[0;34m\u001b[0m\u001b[0;34m\u001b[0m\u001b[0m\n",
      "\u001b[0;32m~/miniconda3/lib/python3.7/json/decoder.py\u001b[0m in \u001b[0;36mdecode\u001b[0;34m(self, s, _w)\u001b[0m\n\u001b[1;32m    338\u001b[0m         \u001b[0mend\u001b[0m \u001b[0;34m=\u001b[0m \u001b[0m_w\u001b[0m\u001b[0;34m(\u001b[0m\u001b[0ms\u001b[0m\u001b[0;34m,\u001b[0m \u001b[0mend\u001b[0m\u001b[0;34m)\u001b[0m\u001b[0;34m.\u001b[0m\u001b[0mend\u001b[0m\u001b[0;34m(\u001b[0m\u001b[0;34m)\u001b[0m\u001b[0;34m\u001b[0m\u001b[0;34m\u001b[0m\u001b[0m\n\u001b[1;32m    339\u001b[0m         \u001b[0;32mif\u001b[0m \u001b[0mend\u001b[0m \u001b[0;34m!=\u001b[0m \u001b[0mlen\u001b[0m\u001b[0;34m(\u001b[0m\u001b[0ms\u001b[0m\u001b[0;34m)\u001b[0m\u001b[0;34m:\u001b[0m\u001b[0;34m\u001b[0m\u001b[0;34m\u001b[0m\u001b[0m\n\u001b[0;32m--> 340\u001b[0;31m             \u001b[0;32mraise\u001b[0m \u001b[0mJSONDecodeError\u001b[0m\u001b[0;34m(\u001b[0m\u001b[0;34m\"Extra data\"\u001b[0m\u001b[0;34m,\u001b[0m \u001b[0ms\u001b[0m\u001b[0;34m,\u001b[0m \u001b[0mend\u001b[0m\u001b[0;34m)\u001b[0m\u001b[0;34m\u001b[0m\u001b[0;34m\u001b[0m\u001b[0m\n\u001b[0m\u001b[1;32m    341\u001b[0m         \u001b[0;32mreturn\u001b[0m \u001b[0mobj\u001b[0m\u001b[0;34m\u001b[0m\u001b[0;34m\u001b[0m\u001b[0m\n\u001b[1;32m    342\u001b[0m \u001b[0;34m\u001b[0m\u001b[0m\n",
      "\u001b[0;31mJSONDecodeError\u001b[0m: Extra data: line 2 column 1 (char 49)"
     ]
    }
   ],
   "source": [
    "# reading the JSON data using json.load()\n",
    "import json\n",
    "file = '/home/dipp/Github/Playground/Data/tags.json'\n",
    "with open(file) as train_file:\n",
    "    dict_train = json.load(train_file)\n",
    "\n",
    "# converting json dataset from dictionary to dataframe\n",
    "train = pd.DataFrame.from_dict(dict_train, orient='index')\n",
    "train.reset_index(level=0, inplace=True)\n",
    "\n",
    "print(train)"
   ]
  },
  {
   "cell_type": "code",
   "execution_count": 33,
   "metadata": {},
   "outputs": [
    {
     "name": "stdout",
     "output_type": "stream",
     "text": [
      "{\"mentions\":[1252344028097474560],\"text\":\"教育変容\"}\n",
      "{\"mentions\":[1240058197165117442,1240059542718816263,1240040917639344133,1240041273265999875,1240040537551405059,1240175058657652736,1240252100392693761],\"text\":\"besserebezahlung\"}\n",
      "{\"mentions\":[1329895729666600964,1334136856007630850,1334573103490404354,1457232689296199682,1458431916747771904,1439972790208122882,1457018037903798280,1336524625975660547,1445786077025894406,1336039962077245442,1330749704431415299,1326251328964714496,1452881819578273794,1349815977203142658,1349819070733021184,1352643965045116933,1461518582827958276,1391708137669922817],\"text\":\"phfizer\"}\n",
      "{\"mentions\":[1221619977343516672],\"text\":\"hardwarezoneforum\"}\n",
      "{\"mentions\":[1283781745809207296],\"text\":\"27weeksold\"}\n",
      "{\"mentions\":[1296249163605106688],\"text\":\"worldmakeoutday\"}\n",
      "{\"mentions\":[1305488806259421189],\"text\":\"صيانة_سماعات\"}\n",
      "{\"mentions\":[1396378017010786307],\"text\":\"туат\"}\n",
      "{\"mentions\":[1273258327003197440,1272826999703089155,1272873570746548224,1272611205757034497,1275767652619673601,1273828668792377345,1277503831157297152,1272848405090443266,1273294265603383296,1272843297510305792,1272985217205022720,1274594178316427264,1272826332024655873,1275499343668113408,1272774052231299073,1274680300937699330,1272861346930003979,1273806804158304256,1273775167987044353,1272855933903876097,1275972887787126784,1272747257788391424,1273132583547809792,1276864806377512965,1272755818727829505,1275132572922593280,1274765979587801089,1282339033864118272,1282374316500213762,1272884734868238342,1272769839023575045,1272769673805926400,1273632494781251585,1272788707116896256,1272848435142688768,1279377864811560961,1274891285896130561,1275154298091929602,1275967782392193025,1272838984956211200,1272827476884860929,1274221703594274817,1272882470099222531,1273304828207198208,1274776785612234752,1277985377135910912,1272692173998350339,1274915456487313409,1275851867499778048,1272562985328730112,1280199138961842176,1272955079927177220,1275333451898433537,1272887594221699072,1272749937969827840,1275716969950560258,1272789742430625798,1272778721221468161,1276777361875193856,1272949213723160577,1273933381114507267],\"text\":\"boycottkaranjohargang\"}\n",
      "\n"
     ]
    }
   ],
   "source": [
    "import json\n",
    "import re\n",
    "\n",
    "def Convert(string):\n",
    "    li = list(string.split(\"\\n\"))\n",
    "    return li\n",
    "\n",
    "file_folder = open(\"/home/dipp/Github/Playground/Data/tags.json\")\n",
    "jsonStr = file_folder.read()\n",
    "#print(jsonStr)\n",
    "#jsondata = json.loads(jsonStr)\n",
    "#print(jsondata)\n",
    "#jsonlist = jsonStr[\"mentions\"]\n",
    "new_list = []\n",
    "\n",
    "jsonlist = Convert(jsonStr)\n",
    "\n",
    "for line in jsonlist:\n",
    "    new_txt = re.sub('\"mentions\":', \" \", line)\n",
    "    print(new_txt)\n",
    "    #new_list.append(new_txt)\n",
    "\n",
    "#print(new_txt)"
   ]
  },
  {
   "cell_type": "code",
   "execution_count": 18,
   "metadata": {},
   "outputs": [
    {
     "name": "stdout",
     "output_type": "stream",
     "text": [
      "Total Lines: 9\n",
      "None\n",
      "None\n",
      "None\n",
      "None\n",
      "None\n",
      "None\n",
      "None\n",
      "None\n",
      "None\n"
     ]
    }
   ],
   "source": [
    "import pandas as pd \n",
    "import re\n",
    "file_folder = \"/home/dipp/Github/Playground/Data/tags.json\"\n",
    "pat = '^\\[([0-9]*[,]?[ ]?)*\\]'\n",
    "\n",
    "id_list = []\n",
    "text_list = []\n",
    "\n",
    "num = sum(1 for line in open(file_folder))\n",
    "print(\"Total Lines:\" , num)\n",
    "\n",
    "file1 = open(file_folder, 'r')\n",
    "count = 0\n",
    "#print(type(file1))\n",
    "new_list = []\n",
    "\n",
    "for line in file1:\n",
    "    #print(line)\n",
    "    txt = re.sub('\"mentions\":', \" \", line)\n",
    "    txt_01 = re.sub('\"text\":', \" \", txt)\n",
    "    new_list.append(txt_01)\n",
    "    print(re.match(pat, line))\n",
    "\n",
    "#print(type(new_list))\n",
    "\n",
    "#print(re.match(pat, new_list[0]))\n",
    "\n",
    "\n",
    "\n",
    "\n",
    "#df = pd.DataFrame(new_list)\n",
    "#print(df)\n",
    "\n",
    "\n",
    "\n",
    "\n"
   ]
  },
  {
   "cell_type": "code",
   "execution_count": null,
   "metadata": {},
   "outputs": [],
   "source": [
    "for line in file1:\n",
    "\n",
    "    try:\n",
    "        ids = re.search(pat, line)\n",
    "        texts = re.sub(pat, ' ', line)\n",
    "        id_list.append(ids.group())\n",
    "        text_list.append(texts)\n",
    "    except AttributeError:\n",
    "        ids = re.search(pat, line)\n",
    "        texts = re.sub(pat, ' ', line)\n",
    "        count += 1\n",
    "\n",
    "print(count)\n",
    "\n",
    "num_list = []\n",
    "for i in id_list:\n",
    "    l = len(i)\n",
    "    num_list.append(l/21)\n",
    "\n",
    "\n",
    "new_df = pd.DataFrame()\n",
    "\n",
    "new_df['NUM'] = num_list\n",
    "new_df['TEXT'] = text_list\n",
    "\n",
    "new_df_01 = new_df.sort_values(by=['NUM'], ascending = False)\n",
    "for_plot_df = new_df_01.head(500)"
   ]
  },
  {
   "cell_type": "code",
   "execution_count": null,
   "metadata": {},
   "outputs": [],
   "source": [
    "import re\n"
   ]
  }
 ],
 "metadata": {
  "kernelspec": {
   "display_name": "Python 3.7.10 ('base')",
   "language": "python",
   "name": "python3"
  },
  "language_info": {
   "codemirror_mode": {
    "name": "ipython",
    "version": 3
   },
   "file_extension": ".py",
   "mimetype": "text/x-python",
   "name": "python",
   "nbconvert_exporter": "python",
   "pygments_lexer": "ipython3",
   "version": "3.7.10"
  },
  "orig_nbformat": 4,
  "vscode": {
   "interpreter": {
    "hash": "3eebd31d5c0f5c4a4e485d05d70c8fdb16e2a998b120847d1da31dd1c4eeb912"
   }
  }
 },
 "nbformat": 4,
 "nbformat_minor": 2
}
