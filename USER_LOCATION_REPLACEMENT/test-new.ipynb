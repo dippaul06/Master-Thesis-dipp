{
 "cells": [
  {
   "cell_type": "code",
   "execution_count": 357,
   "metadata": {},
   "outputs": [],
   "source": [
    "import pandas as pd\n",
    "import csv\n",
    "import codecs\n",
    "import io"
   ]
  },
  {
   "cell_type": "code",
   "execution_count": 358,
   "metadata": {},
   "outputs": [],
   "source": [
    "user_file = '/home/dipp/Github/Master-Thesis-dipp/USER_LOCATION_REPLACEMENT/userAll_sample_500 copy.csv'\n",
    "location_file = '/home/dipp/Github/Master-Thesis-dipp/USER_LOCATION_REPLACEMENT/frequentplaces120000 copy.txt'\n",
    "location_resolved_file = '/home/dipp/Github/Master-Thesis-dipp/USER_LOCATION_REPLACEMENT/frequentplaces120000.txt copy.resolved'\n",
    "result_file = '/home/dipp/Github/Master-Thesis-dipp/USER_LOCATION_REPLACEMENT/res_sample.csv'"
   ]
  },
  {
   "cell_type": "code",
   "execution_count": 359,
   "metadata": {},
   "outputs": [],
   "source": [
    "## Reading the Location File\n",
    "with open(location_file) as lf:\n",
    "    loc_data = lf.read()\n",
    "    loc_data_list = loc_data.split(\"\\n\")\n",
    "\n",
    "with open(location_resolved_file) as lrf:\n",
    "    loc_data_res = lrf.read()\n",
    "    loc_data_list_res = loc_data_res.split(\"\\n\")"
   ]
  },
  {
   "cell_type": "code",
   "execution_count": 360,
   "metadata": {},
   "outputs": [],
   "source": [
    "cols = ['createdAt', 'followers', 'favourites', 'location', 'userId']\n",
    "user_data_dic = dict.fromkeys(cols)\n",
    "no_match = \"['none', 'none', 'none', 'none', 'none']\""
   ]
  },
  {
   "cell_type": "code",
   "execution_count": 356,
   "metadata": {},
   "outputs": [
    {
     "name": "stderr",
     "output_type": "stream",
     "text": [
      "/home/dipp/miniconda3/lib/python3.7/site-packages/ipykernel_launcher.py:1: DeprecationWarning: 'U' mode is deprecated\n",
      "  \"\"\"Entry point for launching an IPython kernel.\n"
     ]
    },
    {
     "ename": "TypeError",
     "evalue": "a bytes-like object is required, not 'str'",
     "output_type": "error",
     "traceback": [
      "\u001b[0;31m---------------------------------------------------------------------------\u001b[0m",
      "\u001b[0;31mTypeError\u001b[0m                                 Traceback (most recent call last)",
      "\u001b[0;32m/tmp/ipykernel_3878/1921203997.py\u001b[0m in \u001b[0;36m<module>\u001b[0;34m\u001b[0m\n\u001b[1;32m      1\u001b[0m \u001b[0;32mwith\u001b[0m \u001b[0mopen\u001b[0m\u001b[0;34m(\u001b[0m\u001b[0muser_file\u001b[0m\u001b[0;34m,\u001b[0m\u001b[0;34m'rU'\u001b[0m\u001b[0;34m)\u001b[0m \u001b[0;32mas\u001b[0m \u001b[0muf\u001b[0m\u001b[0;34m:\u001b[0m\u001b[0;34m\u001b[0m\u001b[0;34m\u001b[0m\u001b[0m\n\u001b[1;32m      2\u001b[0m     \u001b[0mcontent\u001b[0m \u001b[0;34m=\u001b[0m \u001b[0muf\u001b[0m\u001b[0;34m.\u001b[0m\u001b[0mread\u001b[0m\u001b[0;34m(\u001b[0m\u001b[0;34m)\u001b[0m\u001b[0;34m\u001b[0m\u001b[0;34m\u001b[0m\u001b[0m\n\u001b[0;32m----> 3\u001b[0;31m     \u001b[0mcsv_stream\u001b[0m \u001b[0;34m=\u001b[0m \u001b[0mio\u001b[0m\u001b[0;34m.\u001b[0m\u001b[0mBytesIO\u001b[0m\u001b[0;34m(\u001b[0m\u001b[0mcontent\u001b[0m\u001b[0;34m)\u001b[0m\u001b[0;34m\u001b[0m\u001b[0;34m\u001b[0m\u001b[0m\n\u001b[0m\u001b[1;32m      4\u001b[0m     \u001b[0mfixed_lines\u001b[0m \u001b[0;34m=\u001b[0m \u001b[0;34m(\u001b[0m\u001b[0mline\u001b[0m\u001b[0;34m.\u001b[0m\u001b[0mreplace\u001b[0m\u001b[0;34m(\u001b[0m\u001b[0;34mb'\\x00'\u001b[0m\u001b[0;34m,\u001b[0m \u001b[0;34mb''\u001b[0m\u001b[0;34m)\u001b[0m \u001b[0;32mfor\u001b[0m \u001b[0mline\u001b[0m \u001b[0;32min\u001b[0m \u001b[0mcsv_stream\u001b[0m\u001b[0;34m)\u001b[0m\u001b[0;34m\u001b[0m\u001b[0;34m\u001b[0m\u001b[0m\n\u001b[1;32m      5\u001b[0m     \u001b[0mstream\u001b[0m \u001b[0;34m=\u001b[0m \u001b[0mcodecs\u001b[0m\u001b[0;34m.\u001b[0m\u001b[0miterdecode\u001b[0m\u001b[0;34m(\u001b[0m\u001b[0mfixed_lines\u001b[0m\u001b[0;34m,\u001b[0m \u001b[0;34m'utf-8-sig'\u001b[0m\u001b[0;34m,\u001b[0m \u001b[0merrors\u001b[0m\u001b[0;34m=\u001b[0m\u001b[0;34m'strict'\u001b[0m\u001b[0;34m)\u001b[0m\u001b[0;34m\u001b[0m\u001b[0;34m\u001b[0m\u001b[0m\n",
      "\u001b[0;31mTypeError\u001b[0m: a bytes-like object is required, not 'str'"
     ]
    }
   ],
   "source": [
    "with open(user_file,'rU') as uf:\n",
    "    content = uf.read()\n",
    "    csv_stream = io.BytesIO(content)\n",
    "    fixed_lines = (line.replace(b'\\x00', b'') for line in csv_stream)\n",
    "    stream = codecs.iterdecode(fixed_lines, 'utf-8-sig', errors='strict')\n",
    "    user_data = csv.DictReader(stream, skipinitialspace=True, restkey=\"INVALID\", fieldnames=cols)\n",
    "\n",
    "    #user_data = csv.DictReader(uf, fieldnames=cols)\n",
    "    user_data_dict_list = []\n",
    "    for line in user_data:\n",
    "        user_data_dict_list.append(line)"
   ]
  },
  {
   "cell_type": "code",
   "execution_count": 361,
   "metadata": {},
   "outputs": [
    {
     "name": "stderr",
     "output_type": "stream",
     "text": [
      "/home/dipp/miniconda3/lib/python3.7/site-packages/ipykernel_launcher.py:1: DeprecationWarning: 'U' mode is deprecated\n",
      "  \"\"\"Entry point for launching an IPython kernel.\n"
     ]
    }
   ],
   "source": [
    "with open(user_file, 'rU' , newline='', encoding='utf-8') as uf:\n",
    "    user_data = csv.DictReader(uf, fieldnames=cols)\n",
    "    user_data_dict_list = []\n",
    "    for line in user_data:\n",
    "        user_data_dict_list.append(line)"
   ]
  },
  {
   "cell_type": "code",
   "execution_count": 324,
   "metadata": {},
   "outputs": [],
   "source": [
    "with open(user_file, newline='', encoding='utf-8') as uf:\n",
    "    user_data = csv.DictReader(uf, fieldnames=cols)\n",
    "    user_data_dict_list = []\n",
    "    for line in user_data:\n",
    "        user_data_dict_list.append(line)\n"
   ]
  },
  {
   "cell_type": "code",
   "execution_count": 362,
   "metadata": {},
   "outputs": [],
   "source": [
    "for i in range(len(user_data_dict_list)):\n",
    "    try:\n",
    "        user_data_dict_list[i]['location'] = user_data_dict_list[i]['location'].lower()\n",
    "    except AttributeError:\n",
    "        continue"
   ]
  },
  {
   "cell_type": "code",
   "execution_count": 363,
   "metadata": {},
   "outputs": [],
   "source": [
    "for i in range(len(loc_data_list)):\n",
    "    try:\n",
    "        loc_data_list[i] = loc_data_list[i].lower()\n",
    "    except AttributeError:\n",
    "        continue"
   ]
  },
  {
   "cell_type": "code",
   "execution_count": 364,
   "metadata": {},
   "outputs": [],
   "source": [
    "for i, data in enumerate(user_data_dict_list):\n",
    "    counter = 0\n",
    "    for j, loc_d in enumerate(loc_data_list):\n",
    "        if(user_data_dict_list[i]['location'] == loc_data_list[j].rstrip()):\n",
    "            counter = 1\n",
    "            user_data_dict_list[i]['location'] = loc_data_list_res[j]\n",
    "    \n",
    "    if counter == 0:\n",
    "        user_data_dict_list[i]['location'] = no_match\n",
    "    counter = 1 "
   ]
  },
  {
   "cell_type": "code",
   "execution_count": 365,
   "metadata": {},
   "outputs": [
    {
     "data": {
      "text/plain": [
       "list"
      ]
     },
     "execution_count": 365,
     "metadata": {},
     "output_type": "execute_result"
    }
   ],
   "source": [
    "type(user_data_dict_list)"
   ]
  },
  {
   "cell_type": "code",
   "execution_count": 366,
   "metadata": {},
   "outputs": [],
   "source": [
    "import pandas as pd\n",
    "df = pd.DataFrame(user_data_dict_list)"
   ]
  },
  {
   "cell_type": "code",
   "execution_count": 367,
   "metadata": {},
   "outputs": [
    {
     "data": {
      "text/html": [
       "<div>\n",
       "<style scoped>\n",
       "    .dataframe tbody tr th:only-of-type {\n",
       "        vertical-align: middle;\n",
       "    }\n",
       "\n",
       "    .dataframe tbody tr th {\n",
       "        vertical-align: top;\n",
       "    }\n",
       "\n",
       "    .dataframe thead th {\n",
       "        text-align: right;\n",
       "    }\n",
       "</style>\n",
       "<table border=\"1\" class=\"dataframe\">\n",
       "  <thead>\n",
       "    <tr style=\"text-align: right;\">\n",
       "      <th></th>\n",
       "      <th>createdAt</th>\n",
       "      <th>followers</th>\n",
       "      <th>favourites</th>\n",
       "      <th>location</th>\n",
       "      <th>userId</th>\n",
       "      <th>NaN</th>\n",
       "    </tr>\n",
       "  </thead>\n",
       "  <tbody>\n",
       "    <tr>\n",
       "      <th>0</th>\n",
       "      <td>2015-07-02T18:09:04</td>\n",
       "      <td>162</td>\n",
       "      <td>7561</td>\n",
       "      <td>['none', 'none', 'none', 'none', 'none']</td>\n",
       "      <td>3355494989</td>\n",
       "      <td>NaN</td>\n",
       "    </tr>\n",
       "    <tr>\n",
       "      <th>1</th>\n",
       "      <td>2019-05-01T09:00:18</td>\n",
       "      <td>5</td>\n",
       "      <td>540</td>\n",
       "      <td>['none', 'none', 'none', 'none', 'none']</td>\n",
       "      <td>1123512455848767489</td>\n",
       "      <td>NaN</td>\n",
       "    </tr>\n",
       "    <tr>\n",
       "      <th>2</th>\n",
       "      <td>2013-09-18T11:23:17</td>\n",
       "      <td>28</td>\n",
       "      <td>53</td>\n",
       "      <td>['none', 'none', 'none', 'none', 'none']</td>\n",
       "      <td>1879078620</td>\n",
       "      <td>NaN</td>\n",
       "    </tr>\n",
       "    <tr>\n",
       "      <th>3</th>\n",
       "      <td>2015-05-20T09:29:34</td>\n",
       "      <td>5</td>\n",
       "      <td>20</td>\n",
       "      <td>['none', 'none', 'none', 'none', 'none']</td>\n",
       "      <td>3221276989</td>\n",
       "      <td>NaN</td>\n",
       "    </tr>\n",
       "    <tr>\n",
       "      <th>4</th>\n",
       "      <td>2017-12-19T14:08:29</td>\n",
       "      <td>45</td>\n",
       "      <td>1651</td>\n",
       "      <td>['none', 'none', 'none', 'none', 'none']</td>\n",
       "      <td>943120858196922368</td>\n",
       "      <td>NaN</td>\n",
       "    </tr>\n",
       "    <tr>\n",
       "      <th>...</th>\n",
       "      <td>...</td>\n",
       "      <td>...</td>\n",
       "      <td>...</td>\n",
       "      <td>...</td>\n",
       "      <td>...</td>\n",
       "      <td>...</td>\n",
       "    </tr>\n",
       "    <tr>\n",
       "      <th>498</th>\n",
       "      <td>2018-11-29T08:21:35</td>\n",
       "      <td>64</td>\n",
       "      <td>1433</td>\n",
       "      <td>[None, None, None, None, None]</td>\n",
       "      <td>1068057369131851776</td>\n",
       "      <td>NaN</td>\n",
       "    </tr>\n",
       "    <tr>\n",
       "      <th>499</th>\n",
       "      <td>2020-04-09T15:41:57</td>\n",
       "      <td>11</td>\n",
       "      <td>1</td>\n",
       "      <td>['none', 'none', 'none', 'none', 'none']</td>\n",
       "      <td>1248274935916756999</td>\n",
       "      <td>NaN</td>\n",
       "    </tr>\n",
       "    <tr>\n",
       "      <th>500</th>\n",
       "      <td>2016-09-24T03:39:34</td>\n",
       "      <td>39</td>\n",
       "      <td>20175</td>\n",
       "      <td>['none', 'none', 'none', 'none', 'none']</td>\n",
       "      <td>779525656799383552</td>\n",
       "      <td>NaN</td>\n",
       "    </tr>\n",
       "    <tr>\n",
       "      <th>501</th>\n",
       "      <td>2015-11-20T00:40:58</td>\n",
       "      <td>88</td>\n",
       "      <td>955</td>\n",
       "      <td>['none', 'none', 'none', 'none', 'none']</td>\n",
       "      <td>4295336292</td>\n",
       "      <td>NaN</td>\n",
       "    </tr>\n",
       "    <tr>\n",
       "      <th>502</th>\n",
       "      <td>2010-04-18T21:56:01</td>\n",
       "      <td>65</td>\n",
       "      <td>2</td>\n",
       "      <td>['none', 'none', 'none', 'none', 'none']</td>\n",
       "      <td>134589540</td>\n",
       "      <td>NaN</td>\n",
       "    </tr>\n",
       "  </tbody>\n",
       "</table>\n",
       "<p>503 rows × 6 columns</p>\n",
       "</div>"
      ],
      "text/plain": [
       "               createdAt followers favourites  \\\n",
       "0    2015-07-02T18:09:04       162       7561   \n",
       "1    2019-05-01T09:00:18         5        540   \n",
       "2    2013-09-18T11:23:17        28         53   \n",
       "3    2015-05-20T09:29:34         5         20   \n",
       "4    2017-12-19T14:08:29        45       1651   \n",
       "..                   ...       ...        ...   \n",
       "498  2018-11-29T08:21:35        64       1433   \n",
       "499  2020-04-09T15:41:57        11          1   \n",
       "500  2016-09-24T03:39:34        39      20175   \n",
       "501  2015-11-20T00:40:58        88        955   \n",
       "502  2010-04-18T21:56:01        65          2   \n",
       "\n",
       "                                     location               userId  NaN  \n",
       "0    ['none', 'none', 'none', 'none', 'none']           3355494989  NaN  \n",
       "1    ['none', 'none', 'none', 'none', 'none']  1123512455848767489  NaN  \n",
       "2    ['none', 'none', 'none', 'none', 'none']           1879078620  NaN  \n",
       "3    ['none', 'none', 'none', 'none', 'none']           3221276989  NaN  \n",
       "4    ['none', 'none', 'none', 'none', 'none']   943120858196922368  NaN  \n",
       "..                                        ...                  ...  ...  \n",
       "498            [None, None, None, None, None]  1068057369131851776  NaN  \n",
       "499  ['none', 'none', 'none', 'none', 'none']  1248274935916756999  NaN  \n",
       "500  ['none', 'none', 'none', 'none', 'none']   779525656799383552  NaN  \n",
       "501  ['none', 'none', 'none', 'none', 'none']           4295336292  NaN  \n",
       "502  ['none', 'none', 'none', 'none', 'none']            134589540  NaN  \n",
       "\n",
       "[503 rows x 6 columns]"
      ]
     },
     "execution_count": 367,
     "metadata": {},
     "output_type": "execute_result"
    }
   ],
   "source": [
    "df"
   ]
  },
  {
   "cell_type": "code",
   "execution_count": 368,
   "metadata": {},
   "outputs": [],
   "source": [
    "df=df[df.columns.dropna()]"
   ]
  },
  {
   "cell_type": "code",
   "execution_count": 369,
   "metadata": {},
   "outputs": [
    {
     "ename": "KeyError",
     "evalue": "\"['INVALID'] not found in axis\"",
     "output_type": "error",
     "traceback": [
      "\u001b[0;31m---------------------------------------------------------------------------\u001b[0m",
      "\u001b[0;31mKeyError\u001b[0m                                  Traceback (most recent call last)",
      "\u001b[0;32m/tmp/ipykernel_3878/4091232113.py\u001b[0m in \u001b[0;36m<module>\u001b[0;34m\u001b[0m\n\u001b[0;32m----> 1\u001b[0;31m \u001b[0mdf\u001b[0m\u001b[0;34m.\u001b[0m\u001b[0mdrop\u001b[0m\u001b[0;34m(\u001b[0m\u001b[0;34m'INVALID'\u001b[0m\u001b[0;34m,\u001b[0m \u001b[0maxis\u001b[0m\u001b[0;34m=\u001b[0m\u001b[0;36m1\u001b[0m\u001b[0;34m,\u001b[0m \u001b[0minplace\u001b[0m\u001b[0;34m=\u001b[0m\u001b[0;32mTrue\u001b[0m\u001b[0;34m)\u001b[0m\u001b[0;34m\u001b[0m\u001b[0;34m\u001b[0m\u001b[0m\n\u001b[0m",
      "\u001b[0;32m~/miniconda3/lib/python3.7/site-packages/pandas/util/_decorators.py\u001b[0m in \u001b[0;36mwrapper\u001b[0;34m(*args, **kwargs)\u001b[0m\n\u001b[1;32m    309\u001b[0m                     \u001b[0mstacklevel\u001b[0m\u001b[0;34m=\u001b[0m\u001b[0mstacklevel\u001b[0m\u001b[0;34m,\u001b[0m\u001b[0;34m\u001b[0m\u001b[0;34m\u001b[0m\u001b[0m\n\u001b[1;32m    310\u001b[0m                 )\n\u001b[0;32m--> 311\u001b[0;31m             \u001b[0;32mreturn\u001b[0m \u001b[0mfunc\u001b[0m\u001b[0;34m(\u001b[0m\u001b[0;34m*\u001b[0m\u001b[0margs\u001b[0m\u001b[0;34m,\u001b[0m \u001b[0;34m**\u001b[0m\u001b[0mkwargs\u001b[0m\u001b[0;34m)\u001b[0m\u001b[0;34m\u001b[0m\u001b[0;34m\u001b[0m\u001b[0m\n\u001b[0m\u001b[1;32m    312\u001b[0m \u001b[0;34m\u001b[0m\u001b[0m\n\u001b[1;32m    313\u001b[0m         \u001b[0;32mreturn\u001b[0m \u001b[0mwrapper\u001b[0m\u001b[0;34m\u001b[0m\u001b[0;34m\u001b[0m\u001b[0m\n",
      "\u001b[0;32m~/miniconda3/lib/python3.7/site-packages/pandas/core/frame.py\u001b[0m in \u001b[0;36mdrop\u001b[0;34m(self, labels, axis, index, columns, level, inplace, errors)\u001b[0m\n\u001b[1;32m   4911\u001b[0m             \u001b[0mlevel\u001b[0m\u001b[0;34m=\u001b[0m\u001b[0mlevel\u001b[0m\u001b[0;34m,\u001b[0m\u001b[0;34m\u001b[0m\u001b[0;34m\u001b[0m\u001b[0m\n\u001b[1;32m   4912\u001b[0m             \u001b[0minplace\u001b[0m\u001b[0;34m=\u001b[0m\u001b[0minplace\u001b[0m\u001b[0;34m,\u001b[0m\u001b[0;34m\u001b[0m\u001b[0;34m\u001b[0m\u001b[0m\n\u001b[0;32m-> 4913\u001b[0;31m             \u001b[0merrors\u001b[0m\u001b[0;34m=\u001b[0m\u001b[0merrors\u001b[0m\u001b[0;34m,\u001b[0m\u001b[0;34m\u001b[0m\u001b[0;34m\u001b[0m\u001b[0m\n\u001b[0m\u001b[1;32m   4914\u001b[0m         )\n\u001b[1;32m   4915\u001b[0m \u001b[0;34m\u001b[0m\u001b[0m\n",
      "\u001b[0;32m~/miniconda3/lib/python3.7/site-packages/pandas/core/generic.py\u001b[0m in \u001b[0;36mdrop\u001b[0;34m(self, labels, axis, index, columns, level, inplace, errors)\u001b[0m\n\u001b[1;32m   4148\u001b[0m         \u001b[0;32mfor\u001b[0m \u001b[0maxis\u001b[0m\u001b[0;34m,\u001b[0m \u001b[0mlabels\u001b[0m \u001b[0;32min\u001b[0m \u001b[0maxes\u001b[0m\u001b[0;34m.\u001b[0m\u001b[0mitems\u001b[0m\u001b[0;34m(\u001b[0m\u001b[0;34m)\u001b[0m\u001b[0;34m:\u001b[0m\u001b[0;34m\u001b[0m\u001b[0;34m\u001b[0m\u001b[0m\n\u001b[1;32m   4149\u001b[0m             \u001b[0;32mif\u001b[0m \u001b[0mlabels\u001b[0m \u001b[0;32mis\u001b[0m \u001b[0;32mnot\u001b[0m \u001b[0;32mNone\u001b[0m\u001b[0;34m:\u001b[0m\u001b[0;34m\u001b[0m\u001b[0;34m\u001b[0m\u001b[0m\n\u001b[0;32m-> 4150\u001b[0;31m                 \u001b[0mobj\u001b[0m \u001b[0;34m=\u001b[0m \u001b[0mobj\u001b[0m\u001b[0;34m.\u001b[0m\u001b[0m_drop_axis\u001b[0m\u001b[0;34m(\u001b[0m\u001b[0mlabels\u001b[0m\u001b[0;34m,\u001b[0m \u001b[0maxis\u001b[0m\u001b[0;34m,\u001b[0m \u001b[0mlevel\u001b[0m\u001b[0;34m=\u001b[0m\u001b[0mlevel\u001b[0m\u001b[0;34m,\u001b[0m \u001b[0merrors\u001b[0m\u001b[0;34m=\u001b[0m\u001b[0merrors\u001b[0m\u001b[0;34m)\u001b[0m\u001b[0;34m\u001b[0m\u001b[0;34m\u001b[0m\u001b[0m\n\u001b[0m\u001b[1;32m   4151\u001b[0m \u001b[0;34m\u001b[0m\u001b[0m\n\u001b[1;32m   4152\u001b[0m         \u001b[0;32mif\u001b[0m \u001b[0minplace\u001b[0m\u001b[0;34m:\u001b[0m\u001b[0;34m\u001b[0m\u001b[0;34m\u001b[0m\u001b[0m\n",
      "\u001b[0;32m~/miniconda3/lib/python3.7/site-packages/pandas/core/generic.py\u001b[0m in \u001b[0;36m_drop_axis\u001b[0;34m(self, labels, axis, level, errors)\u001b[0m\n\u001b[1;32m   4183\u001b[0m                 \u001b[0mnew_axis\u001b[0m \u001b[0;34m=\u001b[0m \u001b[0maxis\u001b[0m\u001b[0;34m.\u001b[0m\u001b[0mdrop\u001b[0m\u001b[0;34m(\u001b[0m\u001b[0mlabels\u001b[0m\u001b[0;34m,\u001b[0m \u001b[0mlevel\u001b[0m\u001b[0;34m=\u001b[0m\u001b[0mlevel\u001b[0m\u001b[0;34m,\u001b[0m \u001b[0merrors\u001b[0m\u001b[0;34m=\u001b[0m\u001b[0merrors\u001b[0m\u001b[0;34m)\u001b[0m\u001b[0;34m\u001b[0m\u001b[0;34m\u001b[0m\u001b[0m\n\u001b[1;32m   4184\u001b[0m             \u001b[0;32melse\u001b[0m\u001b[0;34m:\u001b[0m\u001b[0;34m\u001b[0m\u001b[0;34m\u001b[0m\u001b[0m\n\u001b[0;32m-> 4185\u001b[0;31m                 \u001b[0mnew_axis\u001b[0m \u001b[0;34m=\u001b[0m \u001b[0maxis\u001b[0m\u001b[0;34m.\u001b[0m\u001b[0mdrop\u001b[0m\u001b[0;34m(\u001b[0m\u001b[0mlabels\u001b[0m\u001b[0;34m,\u001b[0m \u001b[0merrors\u001b[0m\u001b[0;34m=\u001b[0m\u001b[0merrors\u001b[0m\u001b[0;34m)\u001b[0m\u001b[0;34m\u001b[0m\u001b[0;34m\u001b[0m\u001b[0m\n\u001b[0m\u001b[1;32m   4186\u001b[0m             \u001b[0mresult\u001b[0m \u001b[0;34m=\u001b[0m \u001b[0mself\u001b[0m\u001b[0;34m.\u001b[0m\u001b[0mreindex\u001b[0m\u001b[0;34m(\u001b[0m\u001b[0;34m**\u001b[0m\u001b[0;34m{\u001b[0m\u001b[0maxis_name\u001b[0m\u001b[0;34m:\u001b[0m \u001b[0mnew_axis\u001b[0m\u001b[0;34m}\u001b[0m\u001b[0;34m)\u001b[0m\u001b[0;34m\u001b[0m\u001b[0;34m\u001b[0m\u001b[0m\n\u001b[1;32m   4187\u001b[0m \u001b[0;34m\u001b[0m\u001b[0m\n",
      "\u001b[0;32m~/miniconda3/lib/python3.7/site-packages/pandas/core/indexes/base.py\u001b[0m in \u001b[0;36mdrop\u001b[0;34m(self, labels, errors)\u001b[0m\n\u001b[1;32m   6015\u001b[0m         \u001b[0;32mif\u001b[0m \u001b[0mmask\u001b[0m\u001b[0;34m.\u001b[0m\u001b[0many\u001b[0m\u001b[0;34m(\u001b[0m\u001b[0;34m)\u001b[0m\u001b[0;34m:\u001b[0m\u001b[0;34m\u001b[0m\u001b[0;34m\u001b[0m\u001b[0m\n\u001b[1;32m   6016\u001b[0m             \u001b[0;32mif\u001b[0m \u001b[0merrors\u001b[0m \u001b[0;34m!=\u001b[0m \u001b[0;34m\"ignore\"\u001b[0m\u001b[0;34m:\u001b[0m\u001b[0;34m\u001b[0m\u001b[0;34m\u001b[0m\u001b[0m\n\u001b[0;32m-> 6017\u001b[0;31m                 \u001b[0;32mraise\u001b[0m \u001b[0mKeyError\u001b[0m\u001b[0;34m(\u001b[0m\u001b[0;34mf\"{labels[mask]} not found in axis\"\u001b[0m\u001b[0;34m)\u001b[0m\u001b[0;34m\u001b[0m\u001b[0;34m\u001b[0m\u001b[0m\n\u001b[0m\u001b[1;32m   6018\u001b[0m             \u001b[0mindexer\u001b[0m \u001b[0;34m=\u001b[0m \u001b[0mindexer\u001b[0m\u001b[0;34m[\u001b[0m\u001b[0;34m~\u001b[0m\u001b[0mmask\u001b[0m\u001b[0;34m]\u001b[0m\u001b[0;34m\u001b[0m\u001b[0;34m\u001b[0m\u001b[0m\n\u001b[1;32m   6019\u001b[0m         \u001b[0;32mreturn\u001b[0m \u001b[0mself\u001b[0m\u001b[0;34m.\u001b[0m\u001b[0mdelete\u001b[0m\u001b[0;34m(\u001b[0m\u001b[0mindexer\u001b[0m\u001b[0;34m)\u001b[0m\u001b[0;34m\u001b[0m\u001b[0;34m\u001b[0m\u001b[0m\n",
      "\u001b[0;31mKeyError\u001b[0m: \"['INVALID'] not found in axis\""
     ]
    }
   ],
   "source": [
    "df.drop('INVALID', axis=1, inplace=True) "
   ]
  },
  {
   "cell_type": "code",
   "execution_count": 370,
   "metadata": {},
   "outputs": [
    {
     "data": {
      "text/html": [
       "<div>\n",
       "<style scoped>\n",
       "    .dataframe tbody tr th:only-of-type {\n",
       "        vertical-align: middle;\n",
       "    }\n",
       "\n",
       "    .dataframe tbody tr th {\n",
       "        vertical-align: top;\n",
       "    }\n",
       "\n",
       "    .dataframe thead th {\n",
       "        text-align: right;\n",
       "    }\n",
       "</style>\n",
       "<table border=\"1\" class=\"dataframe\">\n",
       "  <thead>\n",
       "    <tr style=\"text-align: right;\">\n",
       "      <th></th>\n",
       "      <th>createdAt</th>\n",
       "      <th>followers</th>\n",
       "      <th>favourites</th>\n",
       "      <th>location</th>\n",
       "      <th>userId</th>\n",
       "    </tr>\n",
       "  </thead>\n",
       "  <tbody>\n",
       "    <tr>\n",
       "      <th>0</th>\n",
       "      <td>2015-07-02T18:09:04</td>\n",
       "      <td>162</td>\n",
       "      <td>7561</td>\n",
       "      <td>['none', 'none', 'none', 'none', 'none']</td>\n",
       "      <td>3355494989</td>\n",
       "    </tr>\n",
       "    <tr>\n",
       "      <th>1</th>\n",
       "      <td>2019-05-01T09:00:18</td>\n",
       "      <td>5</td>\n",
       "      <td>540</td>\n",
       "      <td>['none', 'none', 'none', 'none', 'none']</td>\n",
       "      <td>1123512455848767489</td>\n",
       "    </tr>\n",
       "    <tr>\n",
       "      <th>2</th>\n",
       "      <td>2013-09-18T11:23:17</td>\n",
       "      <td>28</td>\n",
       "      <td>53</td>\n",
       "      <td>['none', 'none', 'none', 'none', 'none']</td>\n",
       "      <td>1879078620</td>\n",
       "    </tr>\n",
       "    <tr>\n",
       "      <th>3</th>\n",
       "      <td>2015-05-20T09:29:34</td>\n",
       "      <td>5</td>\n",
       "      <td>20</td>\n",
       "      <td>['none', 'none', 'none', 'none', 'none']</td>\n",
       "      <td>3221276989</td>\n",
       "    </tr>\n",
       "    <tr>\n",
       "      <th>4</th>\n",
       "      <td>2017-12-19T14:08:29</td>\n",
       "      <td>45</td>\n",
       "      <td>1651</td>\n",
       "      <td>['none', 'none', 'none', 'none', 'none']</td>\n",
       "      <td>943120858196922368</td>\n",
       "    </tr>\n",
       "    <tr>\n",
       "      <th>...</th>\n",
       "      <td>...</td>\n",
       "      <td>...</td>\n",
       "      <td>...</td>\n",
       "      <td>...</td>\n",
       "      <td>...</td>\n",
       "    </tr>\n",
       "    <tr>\n",
       "      <th>498</th>\n",
       "      <td>2018-11-29T08:21:35</td>\n",
       "      <td>64</td>\n",
       "      <td>1433</td>\n",
       "      <td>[None, None, None, None, None]</td>\n",
       "      <td>1068057369131851776</td>\n",
       "    </tr>\n",
       "    <tr>\n",
       "      <th>499</th>\n",
       "      <td>2020-04-09T15:41:57</td>\n",
       "      <td>11</td>\n",
       "      <td>1</td>\n",
       "      <td>['none', 'none', 'none', 'none', 'none']</td>\n",
       "      <td>1248274935916756999</td>\n",
       "    </tr>\n",
       "    <tr>\n",
       "      <th>500</th>\n",
       "      <td>2016-09-24T03:39:34</td>\n",
       "      <td>39</td>\n",
       "      <td>20175</td>\n",
       "      <td>['none', 'none', 'none', 'none', 'none']</td>\n",
       "      <td>779525656799383552</td>\n",
       "    </tr>\n",
       "    <tr>\n",
       "      <th>501</th>\n",
       "      <td>2015-11-20T00:40:58</td>\n",
       "      <td>88</td>\n",
       "      <td>955</td>\n",
       "      <td>['none', 'none', 'none', 'none', 'none']</td>\n",
       "      <td>4295336292</td>\n",
       "    </tr>\n",
       "    <tr>\n",
       "      <th>502</th>\n",
       "      <td>2010-04-18T21:56:01</td>\n",
       "      <td>65</td>\n",
       "      <td>2</td>\n",
       "      <td>['none', 'none', 'none', 'none', 'none']</td>\n",
       "      <td>134589540</td>\n",
       "    </tr>\n",
       "  </tbody>\n",
       "</table>\n",
       "<p>503 rows × 5 columns</p>\n",
       "</div>"
      ],
      "text/plain": [
       "               createdAt followers favourites  \\\n",
       "0    2015-07-02T18:09:04       162       7561   \n",
       "1    2019-05-01T09:00:18         5        540   \n",
       "2    2013-09-18T11:23:17        28         53   \n",
       "3    2015-05-20T09:29:34         5         20   \n",
       "4    2017-12-19T14:08:29        45       1651   \n",
       "..                   ...       ...        ...   \n",
       "498  2018-11-29T08:21:35        64       1433   \n",
       "499  2020-04-09T15:41:57        11          1   \n",
       "500  2016-09-24T03:39:34        39      20175   \n",
       "501  2015-11-20T00:40:58        88        955   \n",
       "502  2010-04-18T21:56:01        65          2   \n",
       "\n",
       "                                     location               userId  \n",
       "0    ['none', 'none', 'none', 'none', 'none']           3355494989  \n",
       "1    ['none', 'none', 'none', 'none', 'none']  1123512455848767489  \n",
       "2    ['none', 'none', 'none', 'none', 'none']           1879078620  \n",
       "3    ['none', 'none', 'none', 'none', 'none']           3221276989  \n",
       "4    ['none', 'none', 'none', 'none', 'none']   943120858196922368  \n",
       "..                                        ...                  ...  \n",
       "498            [None, None, None, None, None]  1068057369131851776  \n",
       "499  ['none', 'none', 'none', 'none', 'none']  1248274935916756999  \n",
       "500  ['none', 'none', 'none', 'none', 'none']   779525656799383552  \n",
       "501  ['none', 'none', 'none', 'none', 'none']           4295336292  \n",
       "502  ['none', 'none', 'none', 'none', 'none']            134589540  \n",
       "\n",
       "[503 rows x 5 columns]"
      ]
     },
     "execution_count": 370,
     "metadata": {},
     "output_type": "execute_result"
    }
   ],
   "source": [
    "df"
   ]
  },
  {
   "cell_type": "code",
   "execution_count": 312,
   "metadata": {},
   "outputs": [],
   "source": [
    "df.to_csv(result_file, index=False)"
   ]
  }
 ],
 "metadata": {
  "kernelspec": {
   "display_name": "base",
   "language": "python",
   "name": "python3"
  },
  "language_info": {
   "codemirror_mode": {
    "name": "ipython",
    "version": 3
   },
   "file_extension": ".py",
   "mimetype": "text/x-python",
   "name": "python",
   "nbconvert_exporter": "python",
   "pygments_lexer": "ipython3",
   "version": "3.7.16"
  },
  "orig_nbformat": 4
 },
 "nbformat": 4,
 "nbformat_minor": 2
}
