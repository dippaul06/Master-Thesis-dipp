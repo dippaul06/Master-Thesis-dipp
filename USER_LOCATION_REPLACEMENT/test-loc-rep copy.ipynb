{
 "cells": [
  {
   "cell_type": "code",
   "execution_count": null,
   "metadata": {},
   "outputs": [],
   "source": [
    "import csv\n",
    "import pandas as pd"
   ]
  },
  {
   "cell_type": "code",
   "execution_count": null,
   "metadata": {},
   "outputs": [],
   "source": [
    "user_file = '/home/dipp/Github/Master-Thesis-dipp/USER_LOCATION_REPLACEMENT/userAll_sample_500 copy.csv'\n",
    "location_file = '/home/dipp/Github/Master-Thesis-dipp/USER_LOCATION_REPLACEMENT/frequentplaces1814031_sample.txt'\n",
    "location_resolved_file = '/home/dipp/Github/Master-Thesis-dipp/USER_LOCATION_REPLACEMENT/frequentplaces1814031_sample.txt.resolved'\n",
    "result_file = '/home/dipp/Github/Master-Thesis-dipp/USER_LOCATION_REPLACEMENT/new_res_sample_.csv'"
   ]
  },
  {
   "cell_type": "code",
   "execution_count": null,
   "metadata": {},
   "outputs": [],
   "source": [
    "with open(location_file) as lf:\n",
    "  location_data = lf.read().lower().split(\"\\n\")\n",
    "with open(location_resolved_file) as lrf:\n",
    "  location_res_data = lrf.read().split(\"\\n\")\n",
    "location_data_dict = dict(p for p in zip(location_data,location_res_data))"
   ]
  },
  {
   "cell_type": "code",
   "execution_count": null,
   "metadata": {},
   "outputs": [],
   "source": [
    "cols = ['createdAt', 'followers', 'favourites', 'location', 'userId']\n",
    "no_match = \"['none', 'none', 'none', 'none', 'none']\""
   ]
  },
  {
   "cell_type": "code",
   "execution_count": 43,
   "metadata": {},
   "outputs": [
    {
     "name": "stdout",
     "output_type": "stream",
     "text": [
      "No. of Data:  503\n",
      "No of Value:  256\n"
     ]
    }
   ],
   "source": [
    "with open(user_file, newline='', encoding='utf-8') as uf:\n",
    "    user_data = csv.DictReader((x.replace('\\0', '') for x in uf), fieldnames=cols)\n",
    "    user_data_dict_list = []\n",
    "    No_of_Data = 0\n",
    "    No_of_None = 0\n",
    "    No_of_Value = 0\n",
    "\n",
    "    for line in user_data:\n",
    "        No_of_Data += 1\n",
    "        try: \n",
    "            line_in_lower_case = line['location'].lower()\n",
    "            res_location = location_data_dict.get(line_in_lower_case, None)\n",
    "        except AttributeError:\n",
    "            res_location = \"['none', 'none', 'none', 'none', 'none']\"\n",
    "            \n",
    "        if(res_location == None):\n",
    "            res_location = \"['none', 'none', 'none', 'none', 'none']\"\n",
    "            #No_of_None += 1  \n",
    "        if(res_location == ''):\n",
    "            res_location = \"['none', 'none', 'none', 'none', 'none']\"\n",
    "            #No_of_None += 1\n",
    "        else:\n",
    "            No_of_Value += 1\n",
    "\n",
    "        line['location'] = res_location\n",
    "        user_data_dict_list.append(line)\n",
    "    \n",
    "\n",
    "    print(\"No. of Data: \", No_of_Data)\n",
    "    #print(\"No of None: \", No_of_None)\n",
    "    print(\"No of Value: \", No_of_Value)\n",
    "        \n",
    "    "
   ]
  },
  {
   "cell_type": "code",
   "execution_count": 41,
   "metadata": {},
   "outputs": [],
   "source": [
    "df = pd.DataFrame(user_data_dict_list)\n",
    "df=df[df.columns.dropna()]\n",
    "#df.drop('INVALID', axis=1, inplace=True) \n",
    "df.to_csv(result_file, index=False)"
   ]
  }
 ],
 "metadata": {
  "kernelspec": {
   "display_name": "base",
   "language": "python",
   "name": "python3"
  },
  "language_info": {
   "codemirror_mode": {
    "name": "ipython",
    "version": 3
   },
   "file_extension": ".py",
   "mimetype": "text/x-python",
   "name": "python",
   "nbconvert_exporter": "python",
   "pygments_lexer": "ipython3",
   "version": "3.7.16"
  },
  "orig_nbformat": 4
 },
 "nbformat": 4,
 "nbformat_minor": 2
}
