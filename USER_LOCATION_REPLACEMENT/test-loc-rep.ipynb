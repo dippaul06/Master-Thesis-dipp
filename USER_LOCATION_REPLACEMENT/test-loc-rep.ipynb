{
 "cells": [
  {
   "cell_type": "code",
   "execution_count": 17,
   "metadata": {},
   "outputs": [],
   "source": [
    "import csv\n",
    "import pandas as pd"
   ]
  },
  {
   "cell_type": "code",
   "execution_count": 18,
   "metadata": {},
   "outputs": [],
   "source": [
    "user_file = '/home/dipp/Github/Master-Thesis-dipp/USER_LOCATION_REPLACEMENT/userAll_sample_500 copy.csv'\n",
    "location_file = '/home/dipp/Github/Master-Thesis-dipp/USER_LOCATION_REPLACEMENT/frequentplaces1814031_sample.txt'\n",
    "location_resolved_file = '/home/dipp/Github/Master-Thesis-dipp/USER_LOCATION_REPLACEMENT/frequentplaces1814031_sample.txt.resolved'\n",
    "result_file = '/home/dipp/Github/Master-Thesis-dipp/USER_LOCATION_REPLACEMENT/new_res_sample_.csv'"
   ]
  },
  {
   "cell_type": "code",
   "execution_count": 19,
   "metadata": {},
   "outputs": [],
   "source": [
    "def is_equal_hashing(a, b, hashing=hash):\n",
    "    return len(a) == len(b) and hashing(a) == hashing(b) and a == b"
   ]
  },
  {
   "cell_type": "code",
   "execution_count": 20,
   "metadata": {},
   "outputs": [],
   "source": [
    "\n",
    "with open(location_file) as lf:\n",
    "    loc_data = lf.read()\n",
    "    loc_data_dict = {}\n",
    "    i = 0\n",
    "    for l in loc_data.split(\"\\n\"):\n",
    "        loc_data_dict[i] = l.lower()\n",
    "        i+=1\n",
    "\n",
    "\n",
    "with open(location_resolved_file) as lrf:\n",
    "    loc_res_data = lrf.read()\n",
    "    loc_res_data_dict = {}\n",
    "    i = 0\n",
    "    for l in loc_res_data.split(\"\\n\"):\n",
    "        loc_res_data_dict[i] = l\n",
    "        i+=1"
   ]
  },
  {
   "cell_type": "code",
   "execution_count": 21,
   "metadata": {},
   "outputs": [
    {
     "name": "stdout",
     "output_type": "stream",
     "text": [
      "{0: 'los angeles, ca', 1: 'chicago, il', 2: 'venezuela', 3: 'new york', 4: 'berlin'}\n",
      "{0: \"['US', 'United States', 'CA', 'California', 'Los Angeles']\", 1: \"['US', 'United States', 'IL', 'Illinois', 'Chicago']\", 2: \"['VE', 'Venezuela', None, None, None]\", 3: \"['US', 'United States', 'NY', 'New York', 'New York']\", 4: \"['DE', 'Germany', 'Berlin', 'Berlin', 'Berlin']\"}\n"
     ]
    }
   ],
   "source": [
    "from itertools import islice\n",
    "\n",
    "print(dict(islice(loc_data_dict.items(), 5)))\n",
    "print(dict(islice(loc_res_data_dict.items(), 5)))"
   ]
  },
  {
   "cell_type": "code",
   "execution_count": 22,
   "metadata": {},
   "outputs": [],
   "source": [
    "cols = ['createdAt', 'followers', 'favourites', 'location', 'userId']\n",
    "user_data_dic = dict.fromkeys(cols)\n",
    "no_match = \"['none', 'none', 'none', 'none', 'none']\""
   ]
  },
  {
   "cell_type": "code",
   "execution_count": 23,
   "metadata": {},
   "outputs": [
    {
     "name": "stdout",
     "output_type": "stream",
     "text": [
      "No. Of Data:  503\n",
      "No. of Match:  323\n",
      "No. of No Match 180\n"
     ]
    }
   ],
   "source": [
    "with open(user_file, newline='', encoding='utf-8') as uf:\n",
    "    user_data = csv.DictReader((x.replace('\\0', '') for x in uf), fieldnames=cols)\n",
    "    No_of_Data = 0\n",
    "    No_of_Match = 0\n",
    "    No_of_No_Match = 0\n",
    "    user_data_dict_list = []\n",
    "    for line in user_data:\n",
    "        No_of_Data += 1\n",
    "        counter = 0\n",
    "        for key, value in loc_data_dict.items():\n",
    "            \n",
    "            try:\n",
    "                if(is_equal_hashing(line['location'].lower(), value) == True):\n",
    "                    counter = 1\n",
    "                    line['location'] = loc_res_data_dict[key]\n",
    "                    user_data_dict_list.append(line)\n",
    "                    No_of_Match += 1\n",
    "                    \n",
    "\n",
    "            except AttributeError:\n",
    "                line['location'] = no_match\n",
    "                user_data_dict_list.append(line)\n",
    "                counter = 1\n",
    "                No_of_No_Match +=1\n",
    "                \n",
    "\n",
    "            \n",
    "        if (counter == 0):\n",
    "            line['location'] = no_match\n",
    "            user_data_dict_list.append(line)\n",
    "            No_of_No_Match += 1\n",
    "        \n",
    "        counter = 1\n",
    "\n",
    "\n",
    "print('No. Of Data: ', No_of_Data)\n",
    "print('No. of Match: ', No_of_Match)\n",
    "print('No. of No Match', No_of_No_Match)\n",
    "\n",
    "        \n",
    "            "
   ]
  },
  {
   "cell_type": "code",
   "execution_count": 24,
   "metadata": {},
   "outputs": [],
   "source": [
    "df = pd.DataFrame(user_data_dict_list)\n",
    "df=df[df.columns.dropna()]\n",
    "#df.drop('INVALID', axis=1, inplace=True) \n",
    "df.to_csv(result_file, index=False)"
   ]
  }
 ],
 "metadata": {
  "kernelspec": {
   "display_name": "base",
   "language": "python",
   "name": "python3"
  },
  "language_info": {
   "codemirror_mode": {
    "name": "ipython",
    "version": 3
   },
   "file_extension": ".py",
   "mimetype": "text/x-python",
   "name": "python",
   "nbconvert_exporter": "python",
   "pygments_lexer": "ipython3",
   "version": "3.7.16"
  },
  "orig_nbformat": 4
 },
 "nbformat": 4,
 "nbformat_minor": 2
}
