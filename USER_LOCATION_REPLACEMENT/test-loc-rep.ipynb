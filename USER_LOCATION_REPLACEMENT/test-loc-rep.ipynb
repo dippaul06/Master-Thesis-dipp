{
 "cells": [
  {
   "cell_type": "code",
   "execution_count": null,
   "metadata": {},
   "outputs": [],
   "source": [
    "import csv\n",
    "import pandas as pd"
   ]
  },
  {
   "cell_type": "code",
   "execution_count": null,
   "metadata": {},
   "outputs": [],
   "source": [
    "user_file = '/home/dipp/Github/Master-Thesis-dipp/USER_LOCATION_REPLACEMENT/userAll_sample_500 copy.csv'\n",
    "location_file = '/home/dipp/Github/Master-Thesis-dipp/USER_LOCATION_REPLACEMENT/frequentplaces1814031_sample.txt'\n",
    "location_resolved_file = '/home/dipp/Github/Master-Thesis-dipp/USER_LOCATION_REPLACEMENT/frequentplaces1814031_sample.txt.resolved'\n",
    "result_file = '/home/dipp/Github/Master-Thesis-dipp/USER_LOCATION_REPLACEMENT/new_res_sample_.csv'"
   ]
  },
  {
   "cell_type": "code",
   "execution_count": null,
   "metadata": {},
   "outputs": [],
   "source": [
    "def is_equal_hashing(a, b, hashing=hash):\n",
    "    return len(a) == len(b) and hashing(a) == hashing(b) and a == b"
   ]
  },
  {
   "cell_type": "code",
   "execution_count": null,
   "metadata": {},
   "outputs": [],
   "source": [
    "### EXP ---- works\n",
    "with open(location_file) as lf:\n",
    "    loc_data = lf.read()\n",
    "    loc_data_dict = {}\n",
    "    i = 0\n",
    "    for l in loc_data.split(\"\\n\"):\n",
    "        loc_data_dict[i] = l.lower()\n",
    "        i+=1\n",
    "\n",
    "\n",
    "with open(location_resolved_file) as lrf:\n",
    "    loc_res_data = lrf.read()\n",
    "    loc_res_data_dict = {}\n",
    "    i = 0\n",
    "    for l in loc_res_data.split(\"\\n\"):\n",
    "        loc_res_data_dict[i] = l\n",
    "        i+=1"
   ]
  },
  {
   "cell_type": "code",
   "execution_count": null,
   "metadata": {},
   "outputs": [],
   "source": [
    "cols = ['createdAt', 'followers', 'favourites', 'location', 'userId']\n",
    "user_data_dic = dict.fromkeys(cols)\n",
    "no_match = \"['none', 'none', 'none', 'none', 'none']\""
   ]
  },
  {
   "cell_type": "code",
   "execution_count": null,
   "metadata": {},
   "outputs": [],
   "source": [
    "### Original\n",
    "\n",
    "with open(user_file, newline='', encoding='utf-8') as uf:\n",
    "    #user_data = csv.DictReader(uf, fieldnames=cols)\n",
    "    user_data = csv.DictReader((x.replace('\\0', '') for x in uf), fieldnames=cols)\n",
    "    #reader = csv.reader(x.replace('\\0', '') for x in mycsv)\n",
    "    user_data_dict_list = []\n",
    "    for line in user_data:\n",
    "        user_data_dict_list.append(line)"
   ]
  },
  {
   "attachments": {},
   "cell_type": "markdown",
   "metadata": {},
   "source": [
    "### EXP"
   ]
  },
  {
   "cell_type": "code",
   "execution_count": null,
   "metadata": {},
   "outputs": [],
   "source": [
    "with open(user_file, newline='', encoding='utf-8') as uf:\n",
    "    user_data = csv.DictReader((x.replace('\\0', '') for x in uf), fieldnames=cols)\n",
    "    for line in user_data:\n",
    "\n",
    "        #print(line)\n",
    "\n",
    "        for key, value in loc_data_dict.items():\n",
    "            \n",
    "            try:\n",
    "                if(is_equal_hashing(line['location'].lower(), value) == True):\n",
    "                    #line['location'] = loc_res_data_dict[key]\n",
    "                    #user_data_dict_list.append(line)\n",
    "                    print('Y')\n",
    "                #else:\n",
    "                    #line['location'] = no_match\n",
    "                    #user_data_dict_list.append(line)\n",
    "                #    print('N')\n",
    "\n",
    "            except AttributeError:\n",
    "                #line['location'] = no_match\n",
    "                #user_data_dict_list.append(line)\n",
    "                print('X')\n",
    "        \n",
    "        \n",
    "            "
   ]
  },
  {
   "cell_type": "code",
   "execution_count": null,
   "metadata": {},
   "outputs": [],
   "source": [
    "df = pd.DataFrame(user_data_dict_list)\n",
    "df=df[df.columns.dropna()]\n",
    "#df.drop('INVALID', axis=1, inplace=True) \n",
    "df.to_csv(result_file, index=False)"
   ]
  },
  {
   "attachments": {},
   "cell_type": "markdown",
   "metadata": {},
   "source": [
    "### EXP ZONE"
   ]
  },
  {
   "cell_type": "code",
   "execution_count": null,
   "metadata": {},
   "outputs": [],
   "source": [
    "a = \"Los Angeles, CA\"\n",
    "b = \"Los Angeles, CA\"\n",
    "#b = b.rstrip()"
   ]
  },
  {
   "cell_type": "code",
   "execution_count": null,
   "metadata": {},
   "outputs": [],
   "source": [
    "def is_equal_hashing(a, b, hashing=hash):\n",
    "    return len(a) == len(b) and hashing(a) == hashing(b) and a == b"
   ]
  },
  {
   "cell_type": "code",
   "execution_count": null,
   "metadata": {},
   "outputs": [],
   "source": [
    "is_equal_hashing(a,b)"
   ]
  },
  {
   "cell_type": "code",
   "execution_count": null,
   "metadata": {},
   "outputs": [],
   "source": [
    "from collections import OrderedDict\n",
    "\n",
    "\n",
    "test_1 = {0: 'los angeles, ca',\n",
    " 1: 'chicago, il',\n",
    " 2: 'venezuela',\n",
    " 3: 'new york',\n",
    " 4: 'berlin'}\n",
    "\n",
    "test_2 = {0: \"['US', 'United States', 'CA', 'California', 'Los Angeles']\",\n",
    " 1: \"['US', 'United States', 'IL', 'Illinois', 'Chicago']\",\n",
    " 2: \"['VE', 'Venezuela', None, None, None]\",\n",
    " 3: \"['US', 'United States', 'NY', 'New York', 'New York']\",\n",
    " 4: \"['DE', 'Germany', 'Berlin', 'Berlin', 'Berlin']\"}\n",
    "\n",
    "test_data = 'new york'"
   ]
  },
  {
   "cell_type": "code",
   "execution_count": null,
   "metadata": {},
   "outputs": [],
   "source": [
    "test_1[1]"
   ]
  },
  {
   "cell_type": "code",
   "execution_count": null,
   "metadata": {},
   "outputs": [],
   "source": [
    "j = 0\n",
    "for j in range(len(test_1)):\n",
    "    print(test_1[i])"
   ]
  },
  {
   "cell_type": "code",
   "execution_count": null,
   "metadata": {},
   "outputs": [],
   "source": [
    "def hashing_test(data):\n",
    "    for key, value in \n"
   ]
  }
 ],
 "metadata": {
  "kernelspec": {
   "display_name": "base",
   "language": "python",
   "name": "python3"
  },
  "language_info": {
   "codemirror_mode": {
    "name": "ipython",
    "version": 3
   },
   "file_extension": ".py",
   "mimetype": "text/x-python",
   "name": "python",
   "nbconvert_exporter": "python",
   "pygments_lexer": "ipython3",
   "version": "3.7.16"
  },
  "orig_nbformat": 4
 },
 "nbformat": 4,
 "nbformat_minor": 2
}
