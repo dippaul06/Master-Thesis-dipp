{
 "cells": [
  {
   "cell_type": "code",
   "execution_count": 1,
   "metadata": {},
   "outputs": [],
   "source": [
    "import csv\n",
    "import pandas as pd\n",
    "import itertools\n",
    "from collections import defaultdict"
   ]
  },
  {
   "cell_type": "code",
   "execution_count": 2,
   "metadata": {},
   "outputs": [],
   "source": [
    "Full_Location_Data = '/home/dipp/Github/Master-Thesis-dipp/Extracting_Locations_that_has_Value/test_data.csv'\n",
    "Res_Data = '/home/dipp/Github/Master-Thesis-dipp/Extracting_Locations_that_has_Value/res.csv'"
   ]
  },
  {
   "cell_type": "code",
   "execution_count": 3,
   "metadata": {},
   "outputs": [],
   "source": [
    "res_dict = {}\n",
    "req_keys = ['i','j']\n",
    "no_match = \"['none', 'none', 'none', 'none', 'none']\"\n",
    "no_match_1 = '[None, None, None, None, None]'\n",
    "test_list = []\n",
    "total_data = 0\n",
    "resolved_data = 0"
   ]
  },
  {
   "cell_type": "code",
   "execution_count": 10,
   "metadata": {},
   "outputs": [
    {
     "name": "stdout",
     "output_type": "stream",
     "text": [
      "['CA', 'Canada', 'ON', 'Ontario', None]],[['CA', 'Canada', 'QC', 'Québec', 'Québec']\n",
      "6\n",
      "<class 'int'>\n",
      "['US', 'United States', 'CA', 'California', 'El Segundo']],[['RU', 'Russia', 'Sverdlovsk Oblast', 'Sverdlovsk Oblast', 'Yekaterinburg']\n",
      "6\n",
      "<class 'int'>\n",
      "['US', 'United States', 'CA', 'California', 'Los Angeles']],[['US', 'United States', 'CA', 'California', None]\n",
      "6\n",
      "<class 'int'>\n",
      "['US', 'United States', 'CT', 'Connecticut', 'Manchester']],[['US', 'United States', 'OH', 'Ohio', 'Columbus']\n",
      "6\n",
      "<class 'int'>\n",
      "['US', 'United States', 'OH', 'Ohio', None]],[['US', 'United States', 'OH', 'Ohio', None]\n",
      "6\n",
      "<class 'int'>\n",
      "['US', 'United States', 'NY', 'New York', 'New York']],[['US', 'United States', 'CA', 'California', 'Sacramento']\n",
      "6\n",
      "<class 'int'>\n",
      "['GB', 'United Kingdom', 'England', 'England', 'London']],[['MY', 'Malaysia', 'Federal Territory of Kuala Lumpur', 'Federal Territory of Kuala Lumpur', 'Kuala Lumpur']\n",
      "6\n",
      "<class 'int'>\n",
      "['IN', 'India', None, None, None]],[['IN', 'India', None, None, None]\n",
      "12\n",
      "<class 'int'>\n",
      "['IN', 'India', None, None, None]],[['IN', 'India', None, None, None]\n",
      "13\n",
      "<class 'int'>\n",
      "['KR', 'South Korea', 'Seoul', 'Seoul', None]],[['US', 'United States', 'IL', 'Illinois', 'Urbana']\n",
      "6\n",
      "<class 'int'>\n",
      "['US', 'United States', 'NY', 'New York', 'New York']],[['US', 'United States', 'SD', 'South Dakota', 'Sioux Falls']\n",
      "6\n",
      "<class 'int'>\n",
      "['BE', 'Belgium', 'Brussels', 'Brussels', 'Brussels']],[['US', 'United States', 'CA', 'California', 'Sunnyvale']\n",
      "6\n",
      "<class 'int'>\n",
      "['ES', 'Spain', 'CN', 'Canary Islands', None]],[['ES', 'Spain', 'CN', 'Canary Islands', 'Santa Cruz de Tenerife']\n",
      "6\n",
      "<class 'int'>\n",
      "['AU', 'Australia', 'NSW', 'New South Wales', 'Sydney']],[['AU', 'Australia', 'VIC', 'Victoria', 'Bendigo']\n",
      "6\n",
      "<class 'int'>\n",
      "['IN', 'India', 'KA', 'Karnataka', 'Bengaluru']],[['IN', 'India', None, None, None]\n",
      "6\n",
      "<class 'int'>\n"
     ]
    }
   ],
   "source": [
    "with open(Full_Location_Data, newline='', encoding='utf-8') as fd:\n",
    "    base_location_data = csv.DictReader((x.replace('\\0', '') for x in fd))\n",
    "\n",
    "    for line in base_location_data:\n",
    "        #print(line)\n",
    "        total_data += 1\n",
    "        a = line['i']\n",
    "        #print(a)\n",
    "        b = line['j']\n",
    "        if(a!=no_match and b!=no_match and a!=no_match_1 and b!=no_match_1):\n",
    "            c = a+']'+','+'['+b\n",
    "            print(c)\n",
    "            d = res_dict.get(c)\n",
    "            print(d)\n",
    "            if(d == None):\n",
    "                resolved_data += 1\n",
    "                res_dict[c] = 1\n",
    "            else:\n",
    "                res_dict[c] = d+1\n",
    "            print(type(d))\n",
    "    "
   ]
  },
  {
   "cell_type": "code",
   "execution_count": null,
   "metadata": {},
   "outputs": [],
   "source": [
    "file1 = open(Res_Data, \"a\")  # append mode\n",
    "file1.write('i,j,count'+'\\n')\n",
    "file1.close()"
   ]
  },
  {
   "cell_type": "code",
   "execution_count": null,
   "metadata": {},
   "outputs": [],
   "source": [
    "file1 = open(Res_Data, \"a\")\n",
    "for a,b in res_dict.items():\n",
    "    c = a.split('],[')\n",
    "    file1.writelines(str(c[0]) + ',' + str(c[1]) + ',' + str(b) + '\\n')\n",
    "    file1.flush()\n",
    "\n",
    "file1.close()"
   ]
  },
  {
   "cell_type": "code",
   "execution_count": null,
   "metadata": {},
   "outputs": [
    {
     "name": "stdout",
     "output_type": "stream",
     "text": [
      "Total Data:  499\n",
      "Total Resolved Data:  14\n"
     ]
    }
   ],
   "source": [
    "print('Total Data: ', total_data)\n",
    "print('Total Resolved Data: ', resolved_data)"
   ]
  }
 ],
 "metadata": {
  "kernelspec": {
   "display_name": "base",
   "language": "python",
   "name": "python3"
  },
  "language_info": {
   "codemirror_mode": {
    "name": "ipython",
    "version": 3
   },
   "file_extension": ".py",
   "mimetype": "text/x-python",
   "name": "python",
   "nbconvert_exporter": "python",
   "pygments_lexer": "ipython3",
   "version": "3.7.16"
  },
  "orig_nbformat": 4
 },
 "nbformat": 4,
 "nbformat_minor": 2
}
