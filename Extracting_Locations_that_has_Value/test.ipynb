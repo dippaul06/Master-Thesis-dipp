{
 "cells": [
  {
   "cell_type": "code",
   "execution_count": 6,
   "metadata": {},
   "outputs": [],
   "source": [
    "import csv\n",
    "import pandas as pd\n",
    "import itertools\n",
    "from collections import defaultdict"
   ]
  },
  {
   "cell_type": "code",
   "execution_count": 7,
   "metadata": {},
   "outputs": [],
   "source": [
    "Full_Location_Data = '/home/dipp/Github/Master-Thesis-dipp/Extracting_Locations_that_has_Value/test_data.csv'\n",
    "Res_Data = '/home/dipp/Github/Master-Thesis-dipp/Extracting_Locations_that_has_Value/res.csv'"
   ]
  },
  {
   "cell_type": "code",
   "execution_count": 8,
   "metadata": {},
   "outputs": [],
   "source": [
    "res_dict = {}\n",
    "req_keys = ['i','j']\n",
    "no_match = \"['none', 'none', 'none', 'none', 'none']\"\n",
    "no_match_1 = '[None, None, None, None, None]'\n",
    "test_list = []\n",
    "total_data = 0\n",
    "resolved_data = 0"
   ]
  },
  {
   "cell_type": "code",
   "execution_count": 9,
   "metadata": {},
   "outputs": [
    {
     "name": "stdout",
     "output_type": "stream",
     "text": [
      "<class 'NoneType'>\n",
      "<class 'NoneType'>\n",
      "<class 'NoneType'>\n",
      "<class 'NoneType'>\n",
      "<class 'NoneType'>\n",
      "<class 'NoneType'>\n",
      "<class 'NoneType'>\n",
      "<class 'NoneType'>\n",
      "<class 'int'>\n",
      "<class 'NoneType'>\n",
      "<class 'NoneType'>\n",
      "<class 'NoneType'>\n",
      "<class 'NoneType'>\n",
      "<class 'NoneType'>\n",
      "<class 'NoneType'>\n"
     ]
    }
   ],
   "source": [
    "with open(Full_Location_Data, newline='', encoding='utf-8') as fd:\n",
    "    base_location_data = csv.DictReader((x.replace('\\0', '') for x in fd))\n",
    "\n",
    "    for line in base_location_data:\n",
    "        total_data += 1\n",
    "        a = line['i']\n",
    "        b = line['j']\n",
    "        if(a!=no_match and b!=no_match and a!=no_match_1 and b!=no_match_1):\n",
    "            c = a+']'+','+'['+b\n",
    "            d = res_dict.get(c)\n",
    "            if(d == None):\n",
    "                resolved_data += 1\n",
    "                res_dict[c] = 1\n",
    "            else:\n",
    "                res_dict[c] = d+1\n",
    "            print(type(d))\n",
    "    "
   ]
  },
  {
   "cell_type": "code",
   "execution_count": null,
   "metadata": {},
   "outputs": [],
   "source": [
    "file1 = open(Res_Data, \"a\")  # append mode\n",
    "file1.write('i,j,count'+'\\n')\n",
    "file1.close()"
   ]
  },
  {
   "cell_type": "code",
   "execution_count": null,
   "metadata": {},
   "outputs": [],
   "source": [
    "file1 = open(Res_Data, \"a\")\n",
    "for a,b in res_dict.items():\n",
    "    c = a.split('],[')\n",
    "    file1.writelines(str(c[0]) + ',' + str(c[1]) + ',' + str(b) + '\\n')\n",
    "    file1.flush()\n",
    "\n",
    "file1.close()"
   ]
  },
  {
   "cell_type": "code",
   "execution_count": null,
   "metadata": {},
   "outputs": [
    {
     "name": "stdout",
     "output_type": "stream",
     "text": [
      "Total Data:  499\n",
      "Total Resolved Data:  14\n"
     ]
    }
   ],
   "source": [
    "print('Total Data: ', total_data)\n",
    "print('Total Resolved Data: ', resolved_data)"
   ]
  }
 ],
 "metadata": {
  "kernelspec": {
   "display_name": "base",
   "language": "python",
   "name": "python3"
  },
  "language_info": {
   "codemirror_mode": {
    "name": "ipython",
    "version": 3
   },
   "file_extension": ".py",
   "mimetype": "text/x-python",
   "name": "python",
   "nbconvert_exporter": "python",
   "pygments_lexer": "ipython3",
   "version": "3.7.16"
  },
  "orig_nbformat": 4
 },
 "nbformat": 4,
 "nbformat_minor": 2
}
