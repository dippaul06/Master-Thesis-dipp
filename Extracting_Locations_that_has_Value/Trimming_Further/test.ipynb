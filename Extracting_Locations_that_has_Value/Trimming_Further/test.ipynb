{
 "cells": [
  {
   "cell_type": "code",
   "execution_count": 4,
   "metadata": {},
   "outputs": [],
   "source": [
    "import csv\n",
    "import pandas as pd"
   ]
  },
  {
   "cell_type": "code",
   "execution_count": 5,
   "metadata": {},
   "outputs": [],
   "source": [
    "loc_data = '/home/dipp/Github/Master-Thesis-dipp/Extracting_Locations_that_has_Value/Trimming_Further/test_data.csv'\n",
    "res_Data = '/home/dipp/Github/Master-Thesis-dipp/Extracting_Locations_that_has_Value/Trimming_Further/res_data.csv'"
   ]
  },
  {
   "cell_type": "code",
   "execution_count": 179,
   "metadata": {},
   "outputs": [],
   "source": [
    "cols = ['i','j','count']\n",
    "res_dict = {}"
   ]
  },
  {
   "cell_type": "code",
   "execution_count": null,
   "metadata": {},
   "outputs": [],
   "source": [
    "with open(loc_data, newline='', encoding='utf-8') as fd:\n",
    "    base_location_data = csv.DictReader(fd, delimiter=']', fieldnames=cols)\n",
    "    next(base_location_data,None)\n",
    "    \n",
    "    for line in base_location_data:\n",
    "        try:\n",
    "            try:\n",
    "                \n",
    "                a = line['i'].split()\n",
    "                b = line['j'].split()\n",
    "                if(a != None and b != None):\n",
    "                    c = a[0].replace('[','')\n",
    "                    d = b[0].replace(',[','')\n",
    "\n",
    "                    source_country = c.replace(',','')\n",
    "                    dest_country = d.replace(',','')\n",
    "                    count = float(line['count'].replace(',',''))\n",
    "\n",
    "                        \n",
    "                    temp_data = source_country+','+dest_country\n",
    "                            \n",
    "\n",
    "                    d = res_dict.get(temp_data)\n",
    "                        \n",
    "                    if(d == None):\n",
    "                            res_dict[temp_data] = int(count)\n",
    "                    else:\n",
    "                        res_dict[temp_data] = int(count) + int(d)\n",
    "            \n",
    "            except Exception as e: \n",
    "                print(e)\n",
    "    \n",
    "        except(AttributeError):\n",
    "            No_of_None += 1\n",
    "            continue"
   ]
  },
  {
   "cell_type": "code",
   "execution_count": 6,
   "metadata": {},
   "outputs": [
    {
     "name": "stdout",
     "output_type": "stream",
     "text": [
      "############ START ################\n",
      "############ MAKING LOCATION DICT #############\n",
      "################ LOCATION DICT MADE #####################\n",
      "########## WRITING TO FILE ###########\n",
      "####### RESULTS WRITTEN TO FILE ###########\n",
      "No. of Columns:  6\n",
      "No. of None 0\n",
      "######## DONE ########\n"
     ]
    }
   ],
   "source": [
    "cols = ['i','j','count']\n",
    "res_dict = {}\n",
    "No_of_None = 0\n",
    "\n",
    "print(\"############ START ################\")\n",
    "\n",
    "\n",
    "print(\"############ MAKING LOCATION DICT #############\")\n",
    "\n",
    "with open(loc_data, newline='', encoding='utf-8') as fd:\n",
    "    base_location_data = csv.DictReader(fd, delimiter=']', fieldnames=cols)\n",
    "    next(base_location_data,None)\n",
    "    \n",
    "    for line in base_location_data:\n",
    "        try:\n",
    "            try:\n",
    "                if(line != None):\n",
    "                    a = line['i'].split()\n",
    "                    b = line['j'].split()\n",
    "                    if(a != None and b != None):\n",
    "                        c = a[0].replace('[','')\n",
    "                        d = b[0].replace(',[','')\n",
    "\n",
    "                        source_country = c.replace(',','')\n",
    "                        dest_country = d.replace(',','')\n",
    "                        count = float(line['count'].replace(',',''))\n",
    "\n",
    "                        \n",
    "                        temp_data = source_country+','+dest_country\n",
    "                            \n",
    "\n",
    "                        d = res_dict.get(temp_data)\n",
    "                        \n",
    "                        if(d == None):\n",
    "                            res_dict[temp_data] = int(count)\n",
    "                        else:\n",
    "                            res_dict[temp_data] = int(count) + int(d)\n",
    "            except Exception as e: \n",
    "                print(e)\n",
    "    \n",
    "        except(AttributeError):\n",
    "            No_of_None += 1\n",
    "            continue\n",
    "\n",
    "\n",
    "print(\"################ LOCATION DICT MADE #####################\")\n",
    "\n",
    "file1 = open(res_Data, \"a\")  # append mode\n",
    "file1.write('i,j,count'+'\\n')\n",
    "file1.close()\n",
    "\n",
    "No_of_columns = 0\n",
    "\n",
    "print(\"########## WRITING TO FILE ###########\")\n",
    "file1 = open(res_Data, \"a\")\n",
    "for a,b in res_dict.items():\n",
    "    No_of_columns += 1\n",
    "    c = a.split(',')\n",
    "    file1.writelines(str(c[0]) + ',' + str(c[1]) + ',' + str(b) + '\\n')\n",
    "    file1.flush()\n",
    "\n",
    "file1.close()\n",
    "print(\"####### RESULTS WRITTEN TO FILE ###########\")\n",
    "\n",
    "print(\"No. of Columns: \", No_of_columns)\n",
    "print(\"No. of None\", No_of_None)\n",
    "\n",
    "print(\"######## DONE ########\")"
   ]
  },
  {
   "cell_type": "code",
   "execution_count": 180,
   "metadata": {},
   "outputs": [],
   "source": [
    "with open(test_Data, newline='', encoding='utf-8') as fd:\n",
    "    base_location_data = csv.DictReader(fd, delimiter=str(']'), fieldnames=cols)\n",
    "    next(base_location_data,None)\n",
    "\n",
    "    for line in base_location_data:\n",
    "        \n",
    "        a = line['i'].split()\n",
    "        b = line['j'].split()\n",
    "\n",
    "        c = a[0].replace('[','')\n",
    "        d = b[0].replace(',[','')\n",
    "\n",
    "        source_country = c.replace(',','')\n",
    "        dest_country = d.replace(',','')\n",
    "        count = line['count'].replace(',','')\n",
    "\n",
    "        temp_data = source_country+','+dest_country\n",
    "        \n",
    "\n",
    "        d = res_dict.get(temp_data)\n",
    "\n",
    "        if(d == None):\n",
    "            res_dict[temp_data] = int(float(count))\n",
    "        else:\n",
    "            res_dict[temp_data] = int(float(count)) + d\n",
    "\n"
   ]
  },
  {
   "cell_type": "code",
   "execution_count": 181,
   "metadata": {},
   "outputs": [
    {
     "data": {
      "text/plain": [
       "{\"'CA','CA'\": 25,\n",
       " \"'US','RU'\": 8,\n",
       " \"'US','US'\": 91613,\n",
       " \"'GB','MY'\": 3668,\n",
       " \"'IN','IN'\": 921323,\n",
       " \"'KR','US'\": 11128}"
      ]
     },
     "execution_count": 181,
     "metadata": {},
     "output_type": "execute_result"
    }
   ],
   "source": [
    "res_dict"
   ]
  },
  {
   "cell_type": "code",
   "execution_count": 182,
   "metadata": {},
   "outputs": [],
   "source": [
    "file1 = open(res_Data, \"a\")  # append mode\n",
    "file1.write('i,j,count'+'\\n')\n",
    "file1.close()"
   ]
  },
  {
   "cell_type": "code",
   "execution_count": 183,
   "metadata": {},
   "outputs": [],
   "source": [
    "No_of_columns = 0"
   ]
  },
  {
   "cell_type": "code",
   "execution_count": 184,
   "metadata": {},
   "outputs": [
    {
     "name": "stdout",
     "output_type": "stream",
     "text": [
      "No. of Columns:  6\n"
     ]
    }
   ],
   "source": [
    "file1 = open(res_Data, \"a\")\n",
    "for a,b in res_dict.items():\n",
    "    No_of_columns += 1\n",
    "    c = a.split(',')\n",
    "    file1.writelines(str(c[0]) + ',' + str(c[1]) + ',' + str(b) + '\\n')\n",
    "    file1.flush()\n",
    "\n",
    "file1.close()\n",
    "\n",
    "print(\"No. of Columns: \", No_of_columns)"
   ]
  }
 ],
 "metadata": {
  "kernelspec": {
   "display_name": "base",
   "language": "python",
   "name": "python3"
  },
  "language_info": {
   "codemirror_mode": {
    "name": "ipython",
    "version": 3
   },
   "file_extension": ".py",
   "mimetype": "text/x-python",
   "name": "python",
   "nbconvert_exporter": "python",
   "pygments_lexer": "ipython3",
   "version": "3.7.16"
  },
  "orig_nbformat": 4
 },
 "nbformat": 4,
 "nbformat_minor": 2
}
