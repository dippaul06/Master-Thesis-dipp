{
 "cells": [
  {
   "cell_type": "code",
   "execution_count": 1,
   "metadata": {},
   "outputs": [],
   "source": [
    "import pandas as pd\n",
    "import orjson\n",
    "import json\n",
    "import ijson\n",
    "import re"
   ]
  },
  {
   "cell_type": "code",
   "execution_count": 2,
   "metadata": {},
   "outputs": [
    {
     "name": "stdout",
     "output_type": "stream",
     "text": [
      "<class 'str'>\n"
     ]
    }
   ],
   "source": [
    "##This converts the DateTime for CreatedAT\n",
    "\n",
    "with open(\"/home/dipp/Github/Master-Thesis-dipp/USERID/usersAllDipp copy.json\", \"r+\") as f:\n",
    "    file = f.readlines()\n",
    "\n",
    "    regex = r\"\\d{4}-\\d{2}-\\d{2}T\\d{2}:\\d{2}:\\d{2}\"\n",
    "    i=0\n",
    "\n",
    "    for i in range(len(file)):\n",
    "        date = file[i]\n",
    "        x = re.search(regex, date)\n",
    "        subst = f'\"{x.group()}\"'\n",
    "        result = re.sub(regex, subst, date, 0)\n",
    "        file[i] = result\n",
    "        \n",
    "    \n",
    "    \n",
    "    file_str = ''.join(map(str, file))\n",
    "    print(type(file_str))\n",
    "    \n",
    "    f.seek(0)\n",
    "    f.write(file_str)\n",
    "    f.truncate()"
   ]
  },
  {
   "cell_type": "code",
   "execution_count": 18,
   "metadata": {},
   "outputs": [
    {
     "data": {
      "text/plain": [
       "['{\"createdAt\":\"2018-08-24T19:33:07\",\"followers\":12,\"favourites\":125,\"name\":\"Brenda\",\"verified\":false,\"description\":\"\",\"statuses\":105,\"location\":\"The Woodlands, TX\",\"screenName\":\"returntobrenda\",\"lang\":\"\",\"userId\":1033074745070247936,\"friends\":32}\\n',\n",
       " '{\"createdAt\":\"2020-02-23T03:53:13\",\"followers\":369,\"favourites\":46189,\"name\":\"Cancelado Melquiades 🔥🎓💥🐻🌶\",\"verified\":false,\"description\":\"\",\"statuses\":7220,\"location\":\"\",\"screenName\":\"Samara61811078\",\"lang\":\"\",\"userId\":1231426644914642950,\"friends\":313}\\n',\n",
       " '{\"createdAt\":\"2021-05-14T22:44:36\",\"followers\":4,\"favourites\":64,\"name\":\"Merve Aykut\",\"verified\":false,\"description\":\"\",\"statuses\":58,\"location\":\"\",\"screenName\":\"MerveAy74455863\",\"lang\":\"\",\"userId\":1393336345452482563,\"friends\":44}\\n',\n",
       " '{\"createdAt\":\"2011-11-01T11:54:27\",\"followers\":126,\"favourites\":71929,\"name\":\"🤔\",\"verified\":false,\"description\":\"Does this count as bio? 🤔\",\"statuses\":611,\"location\":\"Kedah, Malaysia\",\"screenName\":\"rrwordz\",\"lang\":\"\",\"userId\":402659333,\"friends\":1700}\\n',\n",
       " '{\"createdAt\":\"2017-10-31T09:39:47\",\"followers\":301,\"favourites\":290,\"name\":\"Terroradictos\",\"verified\":false,\"description\":\"Análisis y crítica sociocultural del terror -Reportajes, entrevistas, artículos de opinión, podcast...-\\\\nNo hay nada que de más miedo que la realidad.\",\"statuses\":358,\"location\":\"\",\"screenName\":\"_Terroradictos\",\"lang\":\"\",\"userId\":925296231605301248,\"friends\":183}\\n',\n",
       " '{\"createdAt\":\"2020-06-01T01:09:38\",\"followers\":22,\"favourites\":146,\"name\":\"Seas\",\"verified\":false,\"description\":\"soy uno más del montón\",\"statuses\":125,\"location\":\"Corrientes, Argentina\",\"screenName\":\"seas_evc\",\"lang\":\"\",\"userId\":1267261946149122048,\"friends\":35}\\n',\n",
       " '{\"createdAt\":\"2019-03-10T08:16:59\",\"followers\":151,\"favourites\":1491,\"name\":\"kayyy\",\"verified\":false,\"description\":\"🥵\",\"statuses\":3374,\"location\":\"korea\",\"screenName\":\"aneykaaaa\",\"lang\":\"\",\"userId\":1104657389024731136,\"friends\":92}\\n',\n",
       " '{\"createdAt\":\"2018-10-14T13:39:02\",\"followers\":5,\"favourites\":1390,\"name\":\"Mme Mad Rabbit\",\"verified\":false,\"description\":\"\",\"statuses\":436,\"location\":\"\",\"screenName\":\"MmeRabbit\",\"lang\":\"\",\"userId\":1051467415983464448,\"friends\":164}\\n',\n",
       " '{\"createdAt\":\"2010-04-17T19:58:36\",\"followers\":2241,\"favourites\":1001,\"name\":\"Chris Shade\",\"verified\":false,\"description\":\"Current administrator. Recovering principal. Former teacher. Forever educator. Writing blogs. Giving keynotes. Delivering workshops. Learning guitar.\",\"statuses\":3634,\"location\":\"Denton, TX\",\"screenName\":\"underwhoseshade\",\"lang\":\"\",\"userId\":134219787,\"friends\":1804}\\n',\n",
       " '{\"createdAt\":\"2006-03-21T20:50:14\",\"followers\":5962883,\"favourites\":37770,\"name\":\"jack⚡️\",\"verified\":true,\"description\":\"#bitcoin\",\"statuses\":28095,\"location\":\"🌊\",\"screenName\":\"jack\",\"lang\":\"\",\"userId\":12,\"friends\":4482}']"
      ]
     },
     "execution_count": 18,
     "metadata": {},
     "output_type": "execute_result"
    }
   ],
   "source": [
    "file"
   ]
  },
  {
   "cell_type": "code",
   "execution_count": 19,
   "metadata": {},
   "outputs": [
    {
     "ename": "ValueError",
     "evalue": "Invalid file path or buffer object type: <class 'list'>",
     "output_type": "error",
     "traceback": [
      "\u001b[0;31m---------------------------------------------------------------------------\u001b[0m",
      "\u001b[0;31mValueError\u001b[0m                                Traceback (most recent call last)",
      "\u001b[0;32m/tmp/ipykernel_10137/1001963546.py\u001b[0m in \u001b[0;36m<module>\u001b[0;34m\u001b[0m\n\u001b[0;32m----> 1\u001b[0;31m \u001b[0mdf\u001b[0m \u001b[0;34m=\u001b[0m \u001b[0mpd\u001b[0m\u001b[0;34m.\u001b[0m\u001b[0mread_csv\u001b[0m\u001b[0;34m(\u001b[0m\u001b[0mfile\u001b[0m\u001b[0;34m,\u001b[0m \u001b[0msep\u001b[0m\u001b[0;34m=\u001b[0m\u001b[0;34m\"\\n\"\u001b[0m\u001b[0;34m)\u001b[0m\u001b[0;34m\u001b[0m\u001b[0;34m\u001b[0m\u001b[0m\n\u001b[0m",
      "\u001b[0;32m~/miniconda3/lib/python3.7/site-packages/pandas/util/_decorators.py\u001b[0m in \u001b[0;36mwrapper\u001b[0;34m(*args, **kwargs)\u001b[0m\n\u001b[1;32m    309\u001b[0m                     \u001b[0mstacklevel\u001b[0m\u001b[0;34m=\u001b[0m\u001b[0mstacklevel\u001b[0m\u001b[0;34m,\u001b[0m\u001b[0;34m\u001b[0m\u001b[0;34m\u001b[0m\u001b[0m\n\u001b[1;32m    310\u001b[0m                 )\n\u001b[0;32m--> 311\u001b[0;31m             \u001b[0;32mreturn\u001b[0m \u001b[0mfunc\u001b[0m\u001b[0;34m(\u001b[0m\u001b[0;34m*\u001b[0m\u001b[0margs\u001b[0m\u001b[0;34m,\u001b[0m \u001b[0;34m**\u001b[0m\u001b[0mkwargs\u001b[0m\u001b[0;34m)\u001b[0m\u001b[0;34m\u001b[0m\u001b[0;34m\u001b[0m\u001b[0m\n\u001b[0m\u001b[1;32m    312\u001b[0m \u001b[0;34m\u001b[0m\u001b[0m\n\u001b[1;32m    313\u001b[0m         \u001b[0;32mreturn\u001b[0m \u001b[0mwrapper\u001b[0m\u001b[0;34m\u001b[0m\u001b[0;34m\u001b[0m\u001b[0m\n",
      "\u001b[0;32m~/miniconda3/lib/python3.7/site-packages/pandas/io/parsers/readers.py\u001b[0m in \u001b[0;36mread_csv\u001b[0;34m(filepath_or_buffer, sep, delimiter, header, names, index_col, usecols, squeeze, prefix, mangle_dupe_cols, dtype, engine, converters, true_values, false_values, skipinitialspace, skiprows, skipfooter, nrows, na_values, keep_default_na, na_filter, verbose, skip_blank_lines, parse_dates, infer_datetime_format, keep_date_col, date_parser, dayfirst, cache_dates, iterator, chunksize, compression, thousands, decimal, lineterminator, quotechar, quoting, doublequote, escapechar, comment, encoding, encoding_errors, dialect, error_bad_lines, warn_bad_lines, on_bad_lines, delim_whitespace, low_memory, memory_map, float_precision, storage_options)\u001b[0m\n\u001b[1;32m    584\u001b[0m     \u001b[0mkwds\u001b[0m\u001b[0;34m.\u001b[0m\u001b[0mupdate\u001b[0m\u001b[0;34m(\u001b[0m\u001b[0mkwds_defaults\u001b[0m\u001b[0;34m)\u001b[0m\u001b[0;34m\u001b[0m\u001b[0;34m\u001b[0m\u001b[0m\n\u001b[1;32m    585\u001b[0m \u001b[0;34m\u001b[0m\u001b[0m\n\u001b[0;32m--> 586\u001b[0;31m     \u001b[0;32mreturn\u001b[0m \u001b[0m_read\u001b[0m\u001b[0;34m(\u001b[0m\u001b[0mfilepath_or_buffer\u001b[0m\u001b[0;34m,\u001b[0m \u001b[0mkwds\u001b[0m\u001b[0;34m)\u001b[0m\u001b[0;34m\u001b[0m\u001b[0;34m\u001b[0m\u001b[0m\n\u001b[0m\u001b[1;32m    587\u001b[0m \u001b[0;34m\u001b[0m\u001b[0m\n\u001b[1;32m    588\u001b[0m \u001b[0;34m\u001b[0m\u001b[0m\n",
      "\u001b[0;32m~/miniconda3/lib/python3.7/site-packages/pandas/io/parsers/readers.py\u001b[0m in \u001b[0;36m_read\u001b[0;34m(filepath_or_buffer, kwds)\u001b[0m\n\u001b[1;32m    480\u001b[0m \u001b[0;34m\u001b[0m\u001b[0m\n\u001b[1;32m    481\u001b[0m     \u001b[0;31m# Create the parser.\u001b[0m\u001b[0;34m\u001b[0m\u001b[0;34m\u001b[0m\u001b[0;34m\u001b[0m\u001b[0m\n\u001b[0;32m--> 482\u001b[0;31m     \u001b[0mparser\u001b[0m \u001b[0;34m=\u001b[0m \u001b[0mTextFileReader\u001b[0m\u001b[0;34m(\u001b[0m\u001b[0mfilepath_or_buffer\u001b[0m\u001b[0;34m,\u001b[0m \u001b[0;34m**\u001b[0m\u001b[0mkwds\u001b[0m\u001b[0;34m)\u001b[0m\u001b[0;34m\u001b[0m\u001b[0;34m\u001b[0m\u001b[0m\n\u001b[0m\u001b[1;32m    483\u001b[0m \u001b[0;34m\u001b[0m\u001b[0m\n\u001b[1;32m    484\u001b[0m     \u001b[0;32mif\u001b[0m \u001b[0mchunksize\u001b[0m \u001b[0;32mor\u001b[0m \u001b[0miterator\u001b[0m\u001b[0;34m:\u001b[0m\u001b[0;34m\u001b[0m\u001b[0;34m\u001b[0m\u001b[0m\n",
      "\u001b[0;32m~/miniconda3/lib/python3.7/site-packages/pandas/io/parsers/readers.py\u001b[0m in \u001b[0;36m__init__\u001b[0;34m(self, f, engine, **kwds)\u001b[0m\n\u001b[1;32m    809\u001b[0m             \u001b[0mself\u001b[0m\u001b[0;34m.\u001b[0m\u001b[0moptions\u001b[0m\u001b[0;34m[\u001b[0m\u001b[0;34m\"has_index_names\"\u001b[0m\u001b[0;34m]\u001b[0m \u001b[0;34m=\u001b[0m \u001b[0mkwds\u001b[0m\u001b[0;34m[\u001b[0m\u001b[0;34m\"has_index_names\"\u001b[0m\u001b[0;34m]\u001b[0m\u001b[0;34m\u001b[0m\u001b[0;34m\u001b[0m\u001b[0m\n\u001b[1;32m    810\u001b[0m \u001b[0;34m\u001b[0m\u001b[0m\n\u001b[0;32m--> 811\u001b[0;31m         \u001b[0mself\u001b[0m\u001b[0;34m.\u001b[0m\u001b[0m_engine\u001b[0m \u001b[0;34m=\u001b[0m \u001b[0mself\u001b[0m\u001b[0;34m.\u001b[0m\u001b[0m_make_engine\u001b[0m\u001b[0;34m(\u001b[0m\u001b[0mself\u001b[0m\u001b[0;34m.\u001b[0m\u001b[0mengine\u001b[0m\u001b[0;34m)\u001b[0m\u001b[0;34m\u001b[0m\u001b[0;34m\u001b[0m\u001b[0m\n\u001b[0m\u001b[1;32m    812\u001b[0m \u001b[0;34m\u001b[0m\u001b[0m\n\u001b[1;32m    813\u001b[0m     \u001b[0;32mdef\u001b[0m \u001b[0mclose\u001b[0m\u001b[0;34m(\u001b[0m\u001b[0mself\u001b[0m\u001b[0;34m)\u001b[0m\u001b[0;34m:\u001b[0m\u001b[0;34m\u001b[0m\u001b[0;34m\u001b[0m\u001b[0m\n",
      "\u001b[0;32m~/miniconda3/lib/python3.7/site-packages/pandas/io/parsers/readers.py\u001b[0m in \u001b[0;36m_make_engine\u001b[0;34m(self, engine)\u001b[0m\n\u001b[1;32m   1038\u001b[0m             )\n\u001b[1;32m   1039\u001b[0m         \u001b[0;31m# error: Too many arguments for \"ParserBase\"\u001b[0m\u001b[0;34m\u001b[0m\u001b[0;34m\u001b[0m\u001b[0;34m\u001b[0m\u001b[0m\n\u001b[0;32m-> 1040\u001b[0;31m         \u001b[0;32mreturn\u001b[0m \u001b[0mmapping\u001b[0m\u001b[0;34m[\u001b[0m\u001b[0mengine\u001b[0m\u001b[0;34m]\u001b[0m\u001b[0;34m(\u001b[0m\u001b[0mself\u001b[0m\u001b[0;34m.\u001b[0m\u001b[0mf\u001b[0m\u001b[0;34m,\u001b[0m \u001b[0;34m**\u001b[0m\u001b[0mself\u001b[0m\u001b[0;34m.\u001b[0m\u001b[0moptions\u001b[0m\u001b[0;34m)\u001b[0m  \u001b[0;31m# type: ignore[call-arg]\u001b[0m\u001b[0;34m\u001b[0m\u001b[0;34m\u001b[0m\u001b[0m\n\u001b[0m\u001b[1;32m   1041\u001b[0m \u001b[0;34m\u001b[0m\u001b[0m\n\u001b[1;32m   1042\u001b[0m     \u001b[0;32mdef\u001b[0m \u001b[0m_failover_to_python\u001b[0m\u001b[0;34m(\u001b[0m\u001b[0mself\u001b[0m\u001b[0;34m)\u001b[0m\u001b[0;34m:\u001b[0m\u001b[0;34m\u001b[0m\u001b[0;34m\u001b[0m\u001b[0m\n",
      "\u001b[0;32m~/miniconda3/lib/python3.7/site-packages/pandas/io/parsers/c_parser_wrapper.py\u001b[0m in \u001b[0;36m__init__\u001b[0;34m(self, src, **kwds)\u001b[0m\n\u001b[1;32m     49\u001b[0m \u001b[0;34m\u001b[0m\u001b[0m\n\u001b[1;32m     50\u001b[0m         \u001b[0;31m# open handles\u001b[0m\u001b[0;34m\u001b[0m\u001b[0;34m\u001b[0m\u001b[0;34m\u001b[0m\u001b[0m\n\u001b[0;32m---> 51\u001b[0;31m         \u001b[0mself\u001b[0m\u001b[0;34m.\u001b[0m\u001b[0m_open_handles\u001b[0m\u001b[0;34m(\u001b[0m\u001b[0msrc\u001b[0m\u001b[0;34m,\u001b[0m \u001b[0mkwds\u001b[0m\u001b[0;34m)\u001b[0m\u001b[0;34m\u001b[0m\u001b[0;34m\u001b[0m\u001b[0m\n\u001b[0m\u001b[1;32m     52\u001b[0m         \u001b[0;32massert\u001b[0m \u001b[0mself\u001b[0m\u001b[0;34m.\u001b[0m\u001b[0mhandles\u001b[0m \u001b[0;32mis\u001b[0m \u001b[0;32mnot\u001b[0m \u001b[0;32mNone\u001b[0m\u001b[0;34m\u001b[0m\u001b[0;34m\u001b[0m\u001b[0m\n\u001b[1;32m     53\u001b[0m \u001b[0;34m\u001b[0m\u001b[0m\n",
      "\u001b[0;32m~/miniconda3/lib/python3.7/site-packages/pandas/io/parsers/base_parser.py\u001b[0m in \u001b[0;36m_open_handles\u001b[0;34m(self, src, kwds)\u001b[0m\n\u001b[1;32m    227\u001b[0m             \u001b[0mmemory_map\u001b[0m\u001b[0;34m=\u001b[0m\u001b[0mkwds\u001b[0m\u001b[0;34m.\u001b[0m\u001b[0mget\u001b[0m\u001b[0;34m(\u001b[0m\u001b[0;34m\"memory_map\"\u001b[0m\u001b[0;34m,\u001b[0m \u001b[0;32mFalse\u001b[0m\u001b[0;34m)\u001b[0m\u001b[0;34m,\u001b[0m\u001b[0;34m\u001b[0m\u001b[0;34m\u001b[0m\u001b[0m\n\u001b[1;32m    228\u001b[0m             \u001b[0mstorage_options\u001b[0m\u001b[0;34m=\u001b[0m\u001b[0mkwds\u001b[0m\u001b[0;34m.\u001b[0m\u001b[0mget\u001b[0m\u001b[0;34m(\u001b[0m\u001b[0;34m\"storage_options\"\u001b[0m\u001b[0;34m,\u001b[0m \u001b[0;32mNone\u001b[0m\u001b[0;34m)\u001b[0m\u001b[0;34m,\u001b[0m\u001b[0;34m\u001b[0m\u001b[0;34m\u001b[0m\u001b[0m\n\u001b[0;32m--> 229\u001b[0;31m             \u001b[0merrors\u001b[0m\u001b[0;34m=\u001b[0m\u001b[0mkwds\u001b[0m\u001b[0;34m.\u001b[0m\u001b[0mget\u001b[0m\u001b[0;34m(\u001b[0m\u001b[0;34m\"encoding_errors\"\u001b[0m\u001b[0;34m,\u001b[0m \u001b[0;34m\"strict\"\u001b[0m\u001b[0;34m)\u001b[0m\u001b[0;34m,\u001b[0m\u001b[0;34m\u001b[0m\u001b[0;34m\u001b[0m\u001b[0m\n\u001b[0m\u001b[1;32m    230\u001b[0m         )\n\u001b[1;32m    231\u001b[0m \u001b[0;34m\u001b[0m\u001b[0m\n",
      "\u001b[0;32m~/miniconda3/lib/python3.7/site-packages/pandas/io/common.py\u001b[0m in \u001b[0;36mget_handle\u001b[0;34m(path_or_buf, mode, encoding, compression, memory_map, is_text, errors, storage_options)\u001b[0m\n\u001b[1;32m    612\u001b[0m         \u001b[0mcompression\u001b[0m\u001b[0;34m=\u001b[0m\u001b[0mcompression\u001b[0m\u001b[0;34m,\u001b[0m\u001b[0;34m\u001b[0m\u001b[0;34m\u001b[0m\u001b[0m\n\u001b[1;32m    613\u001b[0m         \u001b[0mmode\u001b[0m\u001b[0;34m=\u001b[0m\u001b[0mmode\u001b[0m\u001b[0;34m,\u001b[0m\u001b[0;34m\u001b[0m\u001b[0;34m\u001b[0m\u001b[0m\n\u001b[0;32m--> 614\u001b[0;31m         \u001b[0mstorage_options\u001b[0m\u001b[0;34m=\u001b[0m\u001b[0mstorage_options\u001b[0m\u001b[0;34m,\u001b[0m\u001b[0;34m\u001b[0m\u001b[0;34m\u001b[0m\u001b[0m\n\u001b[0m\u001b[1;32m    615\u001b[0m     )\n\u001b[1;32m    616\u001b[0m \u001b[0;34m\u001b[0m\u001b[0m\n",
      "\u001b[0;32m~/miniconda3/lib/python3.7/site-packages/pandas/io/common.py\u001b[0m in \u001b[0;36m_get_filepath_or_buffer\u001b[0;34m(filepath_or_buffer, encoding, compression, mode, storage_options)\u001b[0m\n\u001b[1;32m    394\u001b[0m     \u001b[0;32mif\u001b[0m \u001b[0;32mnot\u001b[0m \u001b[0mis_file_like\u001b[0m\u001b[0;34m(\u001b[0m\u001b[0mfilepath_or_buffer\u001b[0m\u001b[0;34m)\u001b[0m\u001b[0;34m:\u001b[0m\u001b[0;34m\u001b[0m\u001b[0;34m\u001b[0m\u001b[0m\n\u001b[1;32m    395\u001b[0m         \u001b[0mmsg\u001b[0m \u001b[0;34m=\u001b[0m \u001b[0;34mf\"Invalid file path or buffer object type: {type(filepath_or_buffer)}\"\u001b[0m\u001b[0;34m\u001b[0m\u001b[0;34m\u001b[0m\u001b[0m\n\u001b[0;32m--> 396\u001b[0;31m         \u001b[0;32mraise\u001b[0m \u001b[0mValueError\u001b[0m\u001b[0;34m(\u001b[0m\u001b[0mmsg\u001b[0m\u001b[0;34m)\u001b[0m\u001b[0;34m\u001b[0m\u001b[0;34m\u001b[0m\u001b[0m\n\u001b[0m\u001b[1;32m    397\u001b[0m \u001b[0;34m\u001b[0m\u001b[0m\n\u001b[1;32m    398\u001b[0m     return IOArgs(\n",
      "\u001b[0;31mValueError\u001b[0m: Invalid file path or buffer object type: <class 'list'>"
     ]
    }
   ],
   "source": [
    "df = pd.read_csv(file, sep=\"\\n\")"
   ]
  },
  {
   "cell_type": "code",
   "execution_count": 14,
   "metadata": {},
   "outputs": [
    {
     "name": "stderr",
     "output_type": "stream",
     "text": [
      "/home/dipp/miniconda3/lib/python3.7/site-packages/ipykernel_launcher.py:3: DeprecationWarning: string or file could not be read to its end due to unmatched data; this will raise a ValueError in the future.\n",
      "  This is separate from the ipykernel package so we can avoid doing imports until\n"
     ]
    }
   ],
   "source": [
    "import numpy as np\n",
    "\n",
    "a = np.fromstring(file_str, sep= '}')"
   ]
  },
  {
   "cell_type": "code",
   "execution_count": 7,
   "metadata": {},
   "outputs": [
    {
     "data": {
      "text/plain": [
       "_yajl2.parse"
      ]
     },
     "execution_count": 7,
     "metadata": {},
     "output_type": "execute_result"
    }
   ],
   "source": [
    "#Let's Try orjson\n",
    "\n",
    "data = ijson.parse(\"/home/dipp/Github/Master-Thesis-dipp/USERID/usersAllDipp copy.json\")\n"
   ]
  },
  {
   "cell_type": "code",
   "execution_count": 20,
   "metadata": {},
   "outputs": [],
   "source": [
    "df = pd.read_json(\"/home/dipp/Github/Master-Thesis-dipp/USERID/usersAllDipp copy.json\", lines=True)"
   ]
  },
  {
   "cell_type": "code",
   "execution_count": 21,
   "metadata": {},
   "outputs": [
    {
     "data": {
      "text/html": [
       "<div>\n",
       "<style scoped>\n",
       "    .dataframe tbody tr th:only-of-type {\n",
       "        vertical-align: middle;\n",
       "    }\n",
       "\n",
       "    .dataframe tbody tr th {\n",
       "        vertical-align: top;\n",
       "    }\n",
       "\n",
       "    .dataframe thead th {\n",
       "        text-align: right;\n",
       "    }\n",
       "</style>\n",
       "<table border=\"1\" class=\"dataframe\">\n",
       "  <thead>\n",
       "    <tr style=\"text-align: right;\">\n",
       "      <th></th>\n",
       "      <th>createdAt</th>\n",
       "      <th>followers</th>\n",
       "      <th>favourites</th>\n",
       "      <th>name</th>\n",
       "      <th>verified</th>\n",
       "      <th>description</th>\n",
       "      <th>statuses</th>\n",
       "      <th>location</th>\n",
       "      <th>screenName</th>\n",
       "      <th>lang</th>\n",
       "      <th>userId</th>\n",
       "      <th>friends</th>\n",
       "    </tr>\n",
       "  </thead>\n",
       "  <tbody>\n",
       "    <tr>\n",
       "      <th>0</th>\n",
       "      <td>2018-08-24T19:33:07</td>\n",
       "      <td>12</td>\n",
       "      <td>125</td>\n",
       "      <td>Brenda</td>\n",
       "      <td>False</td>\n",
       "      <td></td>\n",
       "      <td>105</td>\n",
       "      <td>The Woodlands, TX</td>\n",
       "      <td>returntobrenda</td>\n",
       "      <td></td>\n",
       "      <td>1033074745070247936</td>\n",
       "      <td>32</td>\n",
       "    </tr>\n",
       "    <tr>\n",
       "      <th>1</th>\n",
       "      <td>2020-02-23T03:53:13</td>\n",
       "      <td>369</td>\n",
       "      <td>46189</td>\n",
       "      <td>Cancelado Melquiades 🔥🎓💥🐻🌶</td>\n",
       "      <td>False</td>\n",
       "      <td></td>\n",
       "      <td>7220</td>\n",
       "      <td></td>\n",
       "      <td>Samara61811078</td>\n",
       "      <td></td>\n",
       "      <td>1231426644914642950</td>\n",
       "      <td>313</td>\n",
       "    </tr>\n",
       "    <tr>\n",
       "      <th>2</th>\n",
       "      <td>2021-05-14T22:44:36</td>\n",
       "      <td>4</td>\n",
       "      <td>64</td>\n",
       "      <td>Merve Aykut</td>\n",
       "      <td>False</td>\n",
       "      <td></td>\n",
       "      <td>58</td>\n",
       "      <td></td>\n",
       "      <td>MerveAy74455863</td>\n",
       "      <td></td>\n",
       "      <td>1393336345452482563</td>\n",
       "      <td>44</td>\n",
       "    </tr>\n",
       "    <tr>\n",
       "      <th>3</th>\n",
       "      <td>2011-11-01T11:54:27</td>\n",
       "      <td>126</td>\n",
       "      <td>71929</td>\n",
       "      <td>🤔</td>\n",
       "      <td>False</td>\n",
       "      <td>Does this count as bio? 🤔</td>\n",
       "      <td>611</td>\n",
       "      <td>Kedah, Malaysia</td>\n",
       "      <td>rrwordz</td>\n",
       "      <td></td>\n",
       "      <td>402659333</td>\n",
       "      <td>1700</td>\n",
       "    </tr>\n",
       "    <tr>\n",
       "      <th>4</th>\n",
       "      <td>2017-10-31T09:39:47</td>\n",
       "      <td>301</td>\n",
       "      <td>290</td>\n",
       "      <td>Terroradictos</td>\n",
       "      <td>False</td>\n",
       "      <td>Análisis y crítica sociocultural del terror -R...</td>\n",
       "      <td>358</td>\n",
       "      <td></td>\n",
       "      <td>_Terroradictos</td>\n",
       "      <td></td>\n",
       "      <td>925296231605301248</td>\n",
       "      <td>183</td>\n",
       "    </tr>\n",
       "    <tr>\n",
       "      <th>5</th>\n",
       "      <td>2020-06-01T01:09:38</td>\n",
       "      <td>22</td>\n",
       "      <td>146</td>\n",
       "      <td>Seas</td>\n",
       "      <td>False</td>\n",
       "      <td>soy uno más del montón</td>\n",
       "      <td>125</td>\n",
       "      <td>Corrientes, Argentina</td>\n",
       "      <td>seas_evc</td>\n",
       "      <td></td>\n",
       "      <td>1267261946149122048</td>\n",
       "      <td>35</td>\n",
       "    </tr>\n",
       "    <tr>\n",
       "      <th>6</th>\n",
       "      <td>2019-03-10T08:16:59</td>\n",
       "      <td>151</td>\n",
       "      <td>1491</td>\n",
       "      <td>kayyy</td>\n",
       "      <td>False</td>\n",
       "      <td>🥵</td>\n",
       "      <td>3374</td>\n",
       "      <td>korea</td>\n",
       "      <td>aneykaaaa</td>\n",
       "      <td></td>\n",
       "      <td>1104657389024731136</td>\n",
       "      <td>92</td>\n",
       "    </tr>\n",
       "    <tr>\n",
       "      <th>7</th>\n",
       "      <td>2018-10-14T13:39:02</td>\n",
       "      <td>5</td>\n",
       "      <td>1390</td>\n",
       "      <td>Mme Mad Rabbit</td>\n",
       "      <td>False</td>\n",
       "      <td></td>\n",
       "      <td>436</td>\n",
       "      <td></td>\n",
       "      <td>MmeRabbit</td>\n",
       "      <td></td>\n",
       "      <td>1051467415983464448</td>\n",
       "      <td>164</td>\n",
       "    </tr>\n",
       "    <tr>\n",
       "      <th>8</th>\n",
       "      <td>2010-04-17T19:58:36</td>\n",
       "      <td>2241</td>\n",
       "      <td>1001</td>\n",
       "      <td>Chris Shade</td>\n",
       "      <td>False</td>\n",
       "      <td>Current administrator. Recovering principal. F...</td>\n",
       "      <td>3634</td>\n",
       "      <td>Denton, TX</td>\n",
       "      <td>underwhoseshade</td>\n",
       "      <td></td>\n",
       "      <td>134219787</td>\n",
       "      <td>1804</td>\n",
       "    </tr>\n",
       "    <tr>\n",
       "      <th>9</th>\n",
       "      <td>2006-03-21T20:50:14</td>\n",
       "      <td>5962883</td>\n",
       "      <td>37770</td>\n",
       "      <td>jack⚡️</td>\n",
       "      <td>True</td>\n",
       "      <td>#bitcoin</td>\n",
       "      <td>28095</td>\n",
       "      <td>🌊</td>\n",
       "      <td>jack</td>\n",
       "      <td></td>\n",
       "      <td>12</td>\n",
       "      <td>4482</td>\n",
       "    </tr>\n",
       "  </tbody>\n",
       "</table>\n",
       "</div>"
      ],
      "text/plain": [
       "             createdAt  followers  favourites                        name  \\\n",
       "0  2018-08-24T19:33:07         12         125                      Brenda   \n",
       "1  2020-02-23T03:53:13        369       46189  Cancelado Melquiades 🔥🎓💥🐻🌶   \n",
       "2  2021-05-14T22:44:36          4          64                 Merve Aykut   \n",
       "3  2011-11-01T11:54:27        126       71929                           🤔   \n",
       "4  2017-10-31T09:39:47        301         290               Terroradictos   \n",
       "5  2020-06-01T01:09:38         22         146                        Seas   \n",
       "6  2019-03-10T08:16:59        151        1491                       kayyy   \n",
       "7  2018-10-14T13:39:02          5        1390              Mme Mad Rabbit   \n",
       "8  2010-04-17T19:58:36       2241        1001                 Chris Shade   \n",
       "9  2006-03-21T20:50:14    5962883       37770                      jack⚡️   \n",
       "\n",
       "   verified                                        description  statuses  \\\n",
       "0     False                                                          105   \n",
       "1     False                                                         7220   \n",
       "2     False                                                           58   \n",
       "3     False                          Does this count as bio? 🤔       611   \n",
       "4     False  Análisis y crítica sociocultural del terror -R...       358   \n",
       "5     False                             soy uno más del montón       125   \n",
       "6     False                                                  🥵      3374   \n",
       "7     False                                                          436   \n",
       "8     False  Current administrator. Recovering principal. F...      3634   \n",
       "9      True                                           #bitcoin     28095   \n",
       "\n",
       "                location       screenName lang               userId  friends  \n",
       "0      The Woodlands, TX   returntobrenda       1033074745070247936       32  \n",
       "1                          Samara61811078       1231426644914642950      313  \n",
       "2                         MerveAy74455863       1393336345452482563       44  \n",
       "3        Kedah, Malaysia          rrwordz                 402659333     1700  \n",
       "4                          _Terroradictos        925296231605301248      183  \n",
       "5  Corrientes, Argentina         seas_evc       1267261946149122048       35  \n",
       "6                  korea        aneykaaaa       1104657389024731136       92  \n",
       "7                               MmeRabbit       1051467415983464448      164  \n",
       "8             Denton, TX  underwhoseshade                 134219787     1804  \n",
       "9                      🌊             jack                        12     4482  "
      ]
     },
     "execution_count": 21,
     "metadata": {},
     "output_type": "execute_result"
    }
   ],
   "source": [
    "df"
   ]
  },
  {
   "cell_type": "code",
   "execution_count": 22,
   "metadata": {},
   "outputs": [
    {
     "data": {
      "text/html": [
       "<div>\n",
       "<style scoped>\n",
       "    .dataframe tbody tr th:only-of-type {\n",
       "        vertical-align: middle;\n",
       "    }\n",
       "\n",
       "    .dataframe tbody tr th {\n",
       "        vertical-align: top;\n",
       "    }\n",
       "\n",
       "    .dataframe thead th {\n",
       "        text-align: right;\n",
       "    }\n",
       "</style>\n",
       "<table border=\"1\" class=\"dataframe\">\n",
       "  <thead>\n",
       "    <tr style=\"text-align: right;\">\n",
       "      <th></th>\n",
       "      <th>createdAt</th>\n",
       "      <th>followers</th>\n",
       "      <th>favourites</th>\n",
       "      <th>location</th>\n",
       "      <th>userId</th>\n",
       "    </tr>\n",
       "  </thead>\n",
       "  <tbody>\n",
       "    <tr>\n",
       "      <th>0</th>\n",
       "      <td>2018-08-24T19:33:07</td>\n",
       "      <td>12</td>\n",
       "      <td>125</td>\n",
       "      <td>The Woodlands, TX</td>\n",
       "      <td>1033074745070247936</td>\n",
       "    </tr>\n",
       "    <tr>\n",
       "      <th>1</th>\n",
       "      <td>2020-02-23T03:53:13</td>\n",
       "      <td>369</td>\n",
       "      <td>46189</td>\n",
       "      <td></td>\n",
       "      <td>1231426644914642950</td>\n",
       "    </tr>\n",
       "    <tr>\n",
       "      <th>2</th>\n",
       "      <td>2021-05-14T22:44:36</td>\n",
       "      <td>4</td>\n",
       "      <td>64</td>\n",
       "      <td></td>\n",
       "      <td>1393336345452482563</td>\n",
       "    </tr>\n",
       "    <tr>\n",
       "      <th>3</th>\n",
       "      <td>2011-11-01T11:54:27</td>\n",
       "      <td>126</td>\n",
       "      <td>71929</td>\n",
       "      <td>Kedah, Malaysia</td>\n",
       "      <td>402659333</td>\n",
       "    </tr>\n",
       "    <tr>\n",
       "      <th>4</th>\n",
       "      <td>2017-10-31T09:39:47</td>\n",
       "      <td>301</td>\n",
       "      <td>290</td>\n",
       "      <td></td>\n",
       "      <td>925296231605301248</td>\n",
       "    </tr>\n",
       "    <tr>\n",
       "      <th>5</th>\n",
       "      <td>2020-06-01T01:09:38</td>\n",
       "      <td>22</td>\n",
       "      <td>146</td>\n",
       "      <td>Corrientes, Argentina</td>\n",
       "      <td>1267261946149122048</td>\n",
       "    </tr>\n",
       "    <tr>\n",
       "      <th>6</th>\n",
       "      <td>2019-03-10T08:16:59</td>\n",
       "      <td>151</td>\n",
       "      <td>1491</td>\n",
       "      <td>korea</td>\n",
       "      <td>1104657389024731136</td>\n",
       "    </tr>\n",
       "    <tr>\n",
       "      <th>7</th>\n",
       "      <td>2018-10-14T13:39:02</td>\n",
       "      <td>5</td>\n",
       "      <td>1390</td>\n",
       "      <td></td>\n",
       "      <td>1051467415983464448</td>\n",
       "    </tr>\n",
       "    <tr>\n",
       "      <th>8</th>\n",
       "      <td>2010-04-17T19:58:36</td>\n",
       "      <td>2241</td>\n",
       "      <td>1001</td>\n",
       "      <td>Denton, TX</td>\n",
       "      <td>134219787</td>\n",
       "    </tr>\n",
       "    <tr>\n",
       "      <th>9</th>\n",
       "      <td>2006-03-21T20:50:14</td>\n",
       "      <td>5962883</td>\n",
       "      <td>37770</td>\n",
       "      <td>🌊</td>\n",
       "      <td>12</td>\n",
       "    </tr>\n",
       "  </tbody>\n",
       "</table>\n",
       "</div>"
      ],
      "text/plain": [
       "             createdAt  followers  favourites               location  \\\n",
       "0  2018-08-24T19:33:07         12         125      The Woodlands, TX   \n",
       "1  2020-02-23T03:53:13        369       46189                          \n",
       "2  2021-05-14T22:44:36          4          64                          \n",
       "3  2011-11-01T11:54:27        126       71929        Kedah, Malaysia   \n",
       "4  2017-10-31T09:39:47        301         290                          \n",
       "5  2020-06-01T01:09:38         22         146  Corrientes, Argentina   \n",
       "6  2019-03-10T08:16:59        151        1491                  korea   \n",
       "7  2018-10-14T13:39:02          5        1390                          \n",
       "8  2010-04-17T19:58:36       2241        1001             Denton, TX   \n",
       "9  2006-03-21T20:50:14    5962883       37770                      🌊   \n",
       "\n",
       "                userId  \n",
       "0  1033074745070247936  \n",
       "1  1231426644914642950  \n",
       "2  1393336345452482563  \n",
       "3            402659333  \n",
       "4   925296231605301248  \n",
       "5  1267261946149122048  \n",
       "6  1104657389024731136  \n",
       "7  1051467415983464448  \n",
       "8            134219787  \n",
       "9                   12  "
      ]
     },
     "execution_count": 22,
     "metadata": {},
     "output_type": "execute_result"
    }
   ],
   "source": [
    "cols = [0,1,2,7,10]\n",
    "df = df[df.columns[cols]]\n",
    "df"
   ]
  },
  {
   "cell_type": "code",
   "execution_count": 19,
   "metadata": {},
   "outputs": [
    {
     "name": "stdout",
     "output_type": "stream",
     "text": [
      "\n",
      "CSV String:\n",
      " None\n"
     ]
    }
   ],
   "source": [
    "test_csv_data = df.to_csv('test.csv', index = False)"
   ]
  },
  {
   "cell_type": "code",
   "execution_count": 12,
   "metadata": {},
   "outputs": [
    {
     "name": "stdout",
     "output_type": "stream",
     "text": [
      "############################# START #########################################\n",
      "######################## READ THE FILE ###############################################\n",
      "############################## DONE THE REGEX WORK ###############################################\n",
      "Skipped:  1\n",
      "############################### STRING CONVERTION DONE #####################################################\n",
      "################################# STRATING THE WRITE OPERATION ###############################################################\n",
      "################################# WRITE OPERATION DONE ###############################################################\n",
      "################################## DONE #############################################################\n"
     ]
    }
   ],
   "source": [
    "import re\n",
    "\n",
    "##This converts the DateTime for CreatedAT\n",
    "print(\"############################# START #########################################\")\n",
    "\n",
    "#with open(\"/global/D1/projects/umod/dipp/playground/Backup/usersAllDipp.json\", \"r+\") as f:\n",
    "with open(\"/home/dipp/Github/Master-Thesis-dipp/USERID/usersAllDipp copy.json\", \"r+\") as f:\n",
    "    file = f.readlines()\n",
    "    print(\"######################## READ THE FILE ###############################################\")\n",
    "\n",
    "    regex = r\"\\d{4}-\\d{2}-\\d{2}T\\d{2}:\\d{2}:\\d{2}\"\n",
    "    i=0\n",
    "    counts=0\n",
    "    file_01 = [] \n",
    "\n",
    "    for i in range(len(file)):\n",
    "        date = file[i]\n",
    "        x = re.search(regex, date)\n",
    "        #subst = '\"{}\"'.format(x.group())\n",
    "        try:\n",
    "            subst = f'\"{x.group()}\"'\n",
    "            result = re.sub(regex, subst, date, 0)\n",
    "            file_01.append(result)\n",
    "        except AttributeError:\n",
    "            #subst = f'\"{x}\"'\n",
    "            #result = re.sub(regex, subst, date, 0)\n",
    "            #file[i] = result\n",
    "            counts += 1\n",
    "            continue\n",
    "\n",
    "        #result = re.sub(regex, subst, date, 0)\n",
    "        #file[i] = result\n",
    "\n",
    "    print(\"############################## DONE THE REGEX WORK ###############################################\")   \n",
    "    print(\"Skipped: \" ,  counts) \n",
    "    file_str = ''.join(map(str, file_01))\n",
    "    print(\"############################### STRING CONVERTION DONE #####################################################\")\n",
    "        \n",
    "    f.seek(0)\n",
    "    print(\"################################# STRATING THE WRITE OPERATION ###############################################################\")\n",
    "    f.write(file_str)\n",
    "    print(\"################################# WRITE OPERATION DONE ###############################################################\")\n",
    "    f.truncate()\n",
    "    print(\"################################## DONE #############################################################\")\n",
    "    \n",
    "    "
   ]
  },
  {
   "cell_type": "code",
   "execution_count": 4,
   "metadata": {},
   "outputs": [
    {
     "name": "stdout",
     "output_type": "stream",
     "text": [
      "############################# START #########################################\n",
      "######################## READ THE FILE ###############################################\n",
      "############################## DONE THE REGEX WORK ###############################################\n",
      "Skipped:  0\n"
     ]
    }
   ],
   "source": [
    "import re\n",
    "\n",
    "##This converts the DateTime for CreatedAT\n",
    "print(\"############################# START #########################################\")\n",
    "\n",
    "#with open(\"/global/D1/projects/umod/dipp/playground/Backup/usersAllDipp.json\", \"r+\") as f:\n",
    "with open(\"/home/dipp/Github/Master-Thesis-dipp/USERID/usersAllDipp copy.json\", \"r+\") as f:\n",
    "    file = f.readlines()\n",
    "    print(\"######################## READ THE FILE ###############################################\")\n",
    "\n",
    "    regex = r\"\\d{4}-\\d{2}-\\d{2}T\\d{2}:\\d{2}:\\d{2}\"\n",
    "    i=0\n",
    "    counts=0\n",
    "    file_01 = [] \n",
    "\n",
    "    for i in range(len(file)):\n",
    "        date = file[i]\n",
    "        x = re.search(regex, date)\n",
    "        #subst = '\"{}\"'.format(x.group())\n",
    "        try:\n",
    "            subst = f'\"{x.group()}\"'\n",
    "            result = re.sub(regex, subst, date, 0)\n",
    "            file_01.append(result)\n",
    "        except AttributeError:\n",
    "            #subst = f'\"{x}\"'\n",
    "            #result = re.sub(regex, subst, date, 0)\n",
    "            #file[i] = result\n",
    "            counts += 1\n",
    "            continue\n",
    "\n",
    "        #result = re.sub(regex, subst, date, 0)\n",
    "        #file[i] = result\n",
    "\n",
    "    print(\"############################## DONE THE REGEX WORK ###############################################\")   \n",
    "    print(\"Skipped: \" ,  counts) "
   ]
  },
  {
   "cell_type": "code",
   "execution_count": 5,
   "metadata": {},
   "outputs": [
    {
     "data": {
      "text/plain": [
       "['{\"createdAt\":\"2018-08-24T19:33:07\",\"followers\":12,\"favourites\":125,\"name\":\"Brenda\",\"verified\":false,\"description\":\"\",\"statuses\":105,\"location\":\"The Woodlands, TX\",\"screenName\":\"returntobrenda\",\"lang\":\"\",\"userId\":1033074745070247936,\"friends\":32}\\n',\n",
       " '{\"createdAt\":\"2020-02-23T03:53:13\",\"followers\":369,\"favourites\":46189,\"name\":\"Cancelado Melquiades 🔥🎓💥🐻🌶\",\"verified\":false,\"description\":\"\",\"statuses\":7220,\"location\":\"\",\"screenName\":\"Samara61811078\",\"lang\":\"\",\"userId\":1231426644914642950,\"friends\":313}\\n',\n",
       " '{\"createdAt\":\"2021-05-14T22:44:36\",\"followers\":4,\"favourites\":64,\"name\":\"Merve Aykut\",\"verified\":false,\"description\":\"\",\"statuses\":58,\"location\":\"\",\"screenName\":\"MerveAy74455863\",\"lang\":\"\",\"userId\":1393336345452482563,\"friends\":44}\\n',\n",
       " '{\"createdAt\":\"2011-11-01T11:54:27\",\"followers\":126,\"favourites\":71929,\"name\":\"🤔\",\"verified\":false,\"description\":\"Does this count as bio? 🤔\",\"statuses\":611,\"location\":\"Kedah, Malaysia\",\"screenName\":\"rrwordz\",\"lang\":\"\",\"userId\":402659333,\"friends\":1700}\\n',\n",
       " '{\"createdAt\":\"2017-10-31T09:39:47\",\"followers\":301,\"favourites\":290,\"name\":\"Terroradictos\",\"verified\":false,\"description\":\"Análisis y crítica sociocultural del terror -Reportajes, entrevistas, artículos de opinión, podcast...-\\\\nNo hay nada que de más miedo que la realidad.\",\"statuses\":358,\"location\":\"\",\"screenName\":\"_Terroradictos\",\"lang\":\"\",\"userId\":925296231605301248,\"friends\":183}\\n',\n",
       " '{\"createdAt\":\"2020-06-01T01:09:38\",\"followers\":22,\"favourites\":146,\"name\":\"Seas\",\"verified\":false,\"description\":\"soy uno más del montón\",\"statuses\":125,\"location\":\"Corrientes, Argentina\",\"screenName\":\"seas_evc\",\"lang\":\"\",\"userId\":1267261946149122048,\"friends\":35}\\n',\n",
       " '{\"createdAt\":\"2019-03-10T08:16:59\",\"followers\":151,\"favourites\":1491,\"name\":\"kayyy\",\"verified\":false,\"description\":\"🥵\",\"statuses\":3374,\"location\":\"korea\",\"screenName\":\"aneykaaaa\",\"lang\":\"\",\"userId\":1104657389024731136,\"friends\":92}\\n',\n",
       " '{\"createdAt\":\"2018-10-14T13:39:02\",\"followers\":5,\"favourites\":1390,\"name\":\"Mme Mad Rabbit\",\"verified\":false,\"description\":\"\",\"statuses\":436,\"location\":\"\",\"screenName\":\"MmeRabbit\",\"lang\":\"\",\"userId\":1051467415983464448,\"friends\":164}\\n',\n",
       " '{\"createdAt\":\"2010-04-17T19:58:36\",\"followers\":2241,\"favourites\":1001,\"name\":\"Chris Shade\",\"verified\":false,\"description\":\"Current administrator. Recovering principal. Former teacher. Forever educator. Writing blogs. Giving keynotes. Delivering workshops. Learning guitar.\",\"statuses\":3634,\"location\":\"Denton, TX\",\"screenName\":\"underwhoseshade\",\"lang\":\"\",\"userId\":134219787,\"friends\":1804}\\n',\n",
       " '{\"createdAt\":\"2006-03-21T20:50:14\",\"followers\":5962883,\"favourites\":37770,\"name\":\"jack⚡️\",\"verified\":true,\"description\":\"#bitcoin\",\"statuses\":28095,\"location\":\"🌊\",\"screenName\":\"jack\",\"lang\":\"\",\"userId\":12,\"friends\":4482}']"
      ]
     },
     "execution_count": 5,
     "metadata": {},
     "output_type": "execute_result"
    }
   ],
   "source": [
    "file_01"
   ]
  },
  {
   "cell_type": "code",
   "execution_count": 5,
   "metadata": {},
   "outputs": [],
   "source": [
    "file_str = ''.join(map(str, file_01))\n",
    "ds = {item: ord(item) for item in file_str}"
   ]
  },
  {
   "cell_type": "code",
   "execution_count": 8,
   "metadata": {},
   "outputs": [
    {
     "ename": "SyntaxError",
     "evalue": "invalid syntax (<unknown>, line 2)",
     "output_type": "error",
     "traceback": [
      "Traceback \u001b[0;36m(most recent call last)\u001b[0m:\n",
      "  File \u001b[1;32m\"/home/dipp/miniconda3/lib/python3.7/site-packages/IPython/core/interactiveshell.py\"\u001b[0m, line \u001b[1;32m3457\u001b[0m, in \u001b[1;35mrun_code\u001b[0m\n    exec(code_obj, self.user_global_ns, self.user_ns)\n",
      "  File \u001b[1;32m\"/tmp/ipykernel_11481/3898925056.py\"\u001b[0m, line \u001b[1;32m2\u001b[0m, in \u001b[1;35m<module>\u001b[0m\n    test = ast.literal_eval(file_str)\n",
      "  File \u001b[1;32m\"/home/dipp/miniconda3/lib/python3.7/ast.py\"\u001b[0m, line \u001b[1;32m46\u001b[0m, in \u001b[1;35mliteral_eval\u001b[0m\n    node_or_string = parse(node_or_string, mode='eval')\n",
      "\u001b[0;36m  File \u001b[0;32m\"/home/dipp/miniconda3/lib/python3.7/ast.py\"\u001b[0;36m, line \u001b[0;32m35\u001b[0;36m, in \u001b[0;35mparse\u001b[0;36m\u001b[0m\n\u001b[0;31m    return compile(source, filename, mode, PyCF_ONLY_AST)\u001b[0m\n",
      "\u001b[0;36m  File \u001b[0;32m\"<unknown>\"\u001b[0;36m, line \u001b[0;32m2\u001b[0m\n\u001b[0;31m    {\"createdAt\":\"2020-02-23T03:53:13\",\"followers\":369,\"favourites\":46189,\"name\":\"Cancelado Melquiades 🔥🎓💥🐻🌶\",\"verified\":false,\"description\":\"\",\"statuses\":7220,\"location\":\"\",\"screenName\":\"Samara61811078\",\"lang\":\"\",\"userId\":1231426644914642950,\"friends\":313}\u001b[0m\n\u001b[0m    ^\u001b[0m\n\u001b[0;31mSyntaxError\u001b[0m\u001b[0;31m:\u001b[0m invalid syntax\n"
     ]
    }
   ],
   "source": [
    "import ast\n",
    "test = ast.literal_eval(file_str)"
   ]
  },
  {
   "cell_type": "code",
   "execution_count": 6,
   "metadata": {},
   "outputs": [
    {
     "ename": "TypeError",
     "evalue": "load() missing 1 required positional argument: 'Loader'",
     "output_type": "error",
     "traceback": [
      "\u001b[0;31m---------------------------------------------------------------------------\u001b[0m",
      "\u001b[0;31mTypeError\u001b[0m                                 Traceback (most recent call last)",
      "\u001b[0;32m/tmp/ipykernel_25284/29529082.py\u001b[0m in \u001b[0;36m<module>\u001b[0;34m\u001b[0m\n\u001b[1;32m      1\u001b[0m \u001b[0;32mimport\u001b[0m \u001b[0myaml\u001b[0m\u001b[0;34m\u001b[0m\u001b[0;34m\u001b[0m\u001b[0m\n\u001b[0;32m----> 2\u001b[0;31m \u001b[0md\u001b[0m \u001b[0;34m=\u001b[0m \u001b[0myaml\u001b[0m\u001b[0;34m.\u001b[0m\u001b[0mload\u001b[0m\u001b[0;34m(\u001b[0m\u001b[0mfile_01\u001b[0m\u001b[0;34m)\u001b[0m\u001b[0;34m\u001b[0m\u001b[0;34m\u001b[0m\u001b[0m\n\u001b[0m",
      "\u001b[0;31mTypeError\u001b[0m: load() missing 1 required positional argument: 'Loader'"
     ]
    }
   ],
   "source": [
    "import yaml\n",
    "d = yaml.load(file_01, Loader=yaml.FullLoader)"
   ]
  }
 ],
 "metadata": {
  "kernelspec": {
   "display_name": "base",
   "language": "python",
   "name": "python3"
  },
  "language_info": {
   "codemirror_mode": {
    "name": "ipython",
    "version": 3
   },
   "file_extension": ".py",
   "mimetype": "text/x-python",
   "name": "python",
   "nbconvert_exporter": "python",
   "pygments_lexer": "ipython3",
   "version": "3.7.16"
  },
  "orig_nbformat": 4,
  "vscode": {
   "interpreter": {
    "hash": "3eebd31d5c0f5c4a4e485d05d70c8fdb16e2a998b120847d1da31dd1c4eeb912"
   }
  }
 },
 "nbformat": 4,
 "nbformat_minor": 2
}
