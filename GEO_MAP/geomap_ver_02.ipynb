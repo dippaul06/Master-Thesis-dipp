{
 "cells": [
  {
   "cell_type": "code",
   "execution_count": 88,
   "metadata": {},
   "outputs": [],
   "source": [
    "import csv\n",
    "import folium"
   ]
  },
  {
   "cell_type": "code",
   "execution_count": 89,
   "metadata": {},
   "outputs": [],
   "source": [
    "data_file = '/home/dipp/Github/Master-Thesis-dipp/GEO_MAP/Data/Country_Data.csv'\n",
    "result_file = '/home/dipp/Github/Master-Thesis-dipp/GEO_MAP/RESULTS/geo_map_ver_02.html'"
   ]
  },
  {
   "cell_type": "code",
   "execution_count": 90,
   "metadata": {},
   "outputs": [],
   "source": [
    "#Reading the CSV File\n",
    "\n",
    "m = folium.Map(tiles='cartodbpositron', zoom_start=20)\n",
    "m_1 = folium.Map(tiles='cartodbpositron', zoom_start=20)\n",
    "\n",
    "\n",
    "with open(data_file, newline='') as csvfile:\n",
    "    reader = csv.DictReader(csvfile)\n",
    "    for row in reader:\n",
    "        try:\n",
    "            count = int(row['Connections'])\n",
    "            lat = row['Latitude']\n",
    "            lon = row['Longitude']\n",
    "            radius = 35\n",
    "            population = int(row['Population'])\n",
    "            popup_text = count\n",
    "            popup_text_01 = float(count/population) * 100\n",
    "\n",
    "\n",
    "\n",
    "            folium.CircleMarker(location = [lat, lon], radius=radius, tooltip=count, color=\"cornflowerblue\", stroke=False, fill=True, fill_opacity=0.6, opacity=1).add_to(m)\n",
    "\n",
    "            folium.map.Marker( location = [lat, lon], icon=folium.DivIcon(icon_size=(150,36),icon_anchor=(0,0),html='<div style=\"font-size: 7pt\", font-weight: 900>%s</div>' %count), popup= popup_text).add_to(m)\n",
    "\n",
    "            #folium.CircleMarker(location = [lat, lon], radius=radius, tooltip=count, color=\"cornflowerblue\", stroke=False, fill=True, fill_opacity=0.6, opacity=1).add_to(m_1)\n",
    "\n",
    "           # folium.map.Marker( location = [lat, lon], icon=folium.DivIcon(icon_size=(150,36),icon_anchor=(0,0),html='<div style=\"font-size: 7pt\", font-weight: 900>%s</div>' %popup_text_01), popup= popup_text_01).add_to(m_1)\n",
    "\n",
    "            \n",
    "        except Exception:\n",
    "            print(row['Country Code'], row['Country Name'], row['Population'])\n",
    "\n"
   ]
  },
  {
   "cell_type": "code",
   "execution_count": 91,
   "metadata": {},
   "outputs": [],
   "source": [
    "## Results Save\n",
    "m.save(result_file)"
   ]
  }
 ],
 "metadata": {
  "kernelspec": {
   "display_name": "new-conda",
   "language": "python",
   "name": "python3"
  },
  "language_info": {
   "codemirror_mode": {
    "name": "ipython",
    "version": 3
   },
   "file_extension": ".py",
   "mimetype": "text/x-python",
   "name": "python",
   "nbconvert_exporter": "python",
   "pygments_lexer": "ipython3",
   "version": "3.11.2"
  },
  "orig_nbformat": 4
 },
 "nbformat": 4,
 "nbformat_minor": 2
}
