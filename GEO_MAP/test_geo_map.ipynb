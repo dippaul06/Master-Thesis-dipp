{
 "cells": [
  {
   "cell_type": "code",
   "execution_count": 1,
   "metadata": {},
   "outputs": [],
   "source": [
    "import csv\n",
    "import geopandas"
   ]
  },
  {
   "cell_type": "code",
   "execution_count": 2,
   "metadata": {},
   "outputs": [],
   "source": [
    "test_data = \"/home/dipp/Github/Master-Thesis-dipp/GEO_MAP/test_data.csv\""
   ]
  },
  {
   "cell_type": "code",
   "execution_count": 3,
   "metadata": {},
   "outputs": [
    {
     "name": "stdout",
     "output_type": "stream",
     "text": [
      "'US'\n",
      "'GB'\n",
      "'GB'\n",
      "'IN'\n"
     ]
    }
   ],
   "source": [
    "with open(test_data, newline='', encoding='utf-8') as td:\n",
    "    data_01 = csv.DictReader(td)\n",
    "    for line in data_01:\n",
    "        a = line['i'].split()\n",
    "        b = line['j'].split()\n",
    "        #print(a)\n",
    "        c = a[0].replace('[', '')\n",
    "        d = b[0].replace('[', '')\n",
    "\n",
    "        e = c.replace(',', '')\n",
    "        f = d.replace(',', '')\n",
    "        print(e)\n",
    "        print(f)"
   ]
  },
  {
   "cell_type": "code",
   "execution_count": 5,
   "metadata": {},
   "outputs": [
    {
     "data": {
      "text/html": [
       "<div>\n",
       "<style scoped>\n",
       "    .dataframe tbody tr th:only-of-type {\n",
       "        vertical-align: middle;\n",
       "    }\n",
       "\n",
       "    .dataframe tbody tr th {\n",
       "        vertical-align: top;\n",
       "    }\n",
       "\n",
       "    .dataframe thead th {\n",
       "        text-align: right;\n",
       "    }\n",
       "</style>\n",
       "<table border=\"1\" class=\"dataframe\">\n",
       "  <thead>\n",
       "    <tr style=\"text-align: right;\">\n",
       "      <th></th>\n",
       "      <th>i</th>\n",
       "      <th>j</th>\n",
       "      <th>contacts</th>\n",
       "      <th>mentions</th>\n",
       "      <th>geometry</th>\n",
       "    </tr>\n",
       "  </thead>\n",
       "  <tbody>\n",
       "    <tr>\n",
       "      <th>0</th>\n",
       "      <td>['US', 'United States', 'NY', 'New York', 'New...</td>\n",
       "      <td>['GB', 'United Kingdom', 'England', 'England',...</td>\n",
       "      <td>2</td>\n",
       "      <td>10</td>\n",
       "      <td>None</td>\n",
       "    </tr>\n",
       "    <tr>\n",
       "      <th>1</th>\n",
       "      <td>['GB', 'United Kingdom', 'England', 'England',...</td>\n",
       "      <td>['IN', 'India', None, None, None]</td>\n",
       "      <td>4</td>\n",
       "      <td>15</td>\n",
       "      <td>None</td>\n",
       "    </tr>\n",
       "  </tbody>\n",
       "</table>\n",
       "</div>"
      ],
      "text/plain": [
       "                                                   i  \\\n",
       "0  ['US', 'United States', 'NY', 'New York', 'New...   \n",
       "1  ['GB', 'United Kingdom', 'England', 'England',...   \n",
       "\n",
       "                                                   j contacts mentions  \\\n",
       "0  ['GB', 'United Kingdom', 'England', 'England',...        2       10   \n",
       "1                  ['IN', 'India', None, None, None]        4       15   \n",
       "\n",
       "  geometry  \n",
       "0     None  \n",
       "1     None  "
      ]
     },
     "execution_count": 5,
     "metadata": {},
     "output_type": "execute_result"
    }
   ],
   "source": [
    "#path_to_data = geopandas.datasets.get_path(test_data)\n",
    "gdf = geopandas.read_file(test_data)\n",
    "\n",
    "gdf"
   ]
  },
  {
   "cell_type": "code",
   "execution_count": 6,
   "metadata": {},
   "outputs": [
    {
     "name": "stderr",
     "output_type": "stream",
     "text": [
      "/home/dipp/miniconda3/lib/python3.7/site-packages/ipykernel_launcher.py:1: FutureWarning: In a future version of pandas all arguments of DataFrame.set_index except for the argument 'keys' will be keyword-only\n",
      "  \"\"\"Entry point for launching an IPython kernel.\n"
     ]
    },
    {
     "data": {
      "text/plain": [
       "i\n",
       "['US', 'United States', 'NY', 'New York', 'New York']       NaN\n",
       "['GB', 'United Kingdom', 'England', 'England', 'Bristol']   NaN\n",
       "Name: area, dtype: float64"
      ]
     },
     "execution_count": 6,
     "metadata": {},
     "output_type": "execute_result"
    }
   ],
   "source": [
    "gdf = gdf.set_index(\"i\", 'j')\n",
    "gdf['area'] = gdf.area\n",
    "gdf['area']"
   ]
  },
  {
   "cell_type": "code",
   "execution_count": 7,
   "metadata": {},
   "outputs": [
    {
     "data": {
      "text/plain": [
       "<AxesSubplot:>"
      ]
     },
     "execution_count": 7,
     "metadata": {},
     "output_type": "execute_result"
    },
    {
     "data": {
      "image/png": "[encoded data removed]",
      "text/plain": [
       "<Figure size 640x480 with 2 Axes>"
      ]
     },
     "metadata": {},
     "output_type": "display_data"
    }
   ],
   "source": [
    "gdf.plot(\"area\", legend=True)"
   ]
  }
 ],
 "metadata": {
  "kernelspec": {
   "display_name": "base",
   "language": "python",
   "name": "python3"
  },
  "language_info": {
   "codemirror_mode": {
    "name": "ipython",
    "version": 3
   },
   "file_extension": ".py",
   "mimetype": "text/x-python",
   "name": "python",
   "nbconvert_exporter": "python",
   "pygments_lexer": "ipython3",
   "version": "3.7.16"
  },
  "orig_nbformat": 4
 },
 "nbformat": 4,
 "nbformat_minor": 2
}
