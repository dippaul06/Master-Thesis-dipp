{
 "cells": [
  {
   "cell_type": "code",
   "execution_count": 22,
   "metadata": {},
   "outputs": [],
   "source": [
    "import csv\n",
    "from geopy.geocoders import Nominatim\n",
    "from time import sleep\n",
    "from countryinfo import CountryInfo\n",
    "import pycountry\n",
    "import pypopulation"
   ]
  },
  {
   "cell_type": "code",
   "execution_count": 23,
   "metadata": {},
   "outputs": [],
   "source": [
    "data_file = '/home/dipp/Github/Master-Thesis-dipp/GEO_MAP/Data/sorted_country_code_with_count_new.csv'\n",
    "csv_generated_file = '/home/dipp/Github/Master-Thesis-dipp/GEO_MAP/Country Data Extraction/Country_Data.csv'"
   ]
  },
  {
   "cell_type": "code",
   "execution_count": 24,
   "metadata": {},
   "outputs": [
    {
     "name": "stdout",
     "output_type": "stream",
     "text": [
      "GR\n",
      "Exception at GeoPy\n",
      "TC\n",
      "Exception at CountryInfo\n",
      "RS\n",
      "Exception at CountryInfo\n",
      "VI\n",
      "Exception at CountryInfo\n",
      "MM\n",
      "Exception at CountryInfo\n",
      "AQ\n",
      "Exception at CountryInfo\n",
      "ME\n",
      "Exception at CountryInfo\n",
      "VA\n",
      "Exception at CountryInfo\n"
     ]
    }
   ],
   "source": [
    "#Same Country\n",
    "same_country_dict = {}\n",
    "\n",
    "with open(data_file, newline='', encoding='utf-8') as fd:\n",
    "    text_data = csv.DictReader(fd)\n",
    "    count = 0\n",
    "    for line in text_data:\n",
    "        if((line['i']==line['j']) and (line['i']!= 'None') and (line['j']!='None')):\n",
    "            count += 1\n",
    "            #Country Code\n",
    "            loc_code = line['i'].replace(\"'\",'')\n",
    "\n",
    "            try:\n",
    "                #Country Name\n",
    "                country = pycountry.countries.get(alpha_2=loc_code)\n",
    "                country_name = country.name\n",
    "                \n",
    "            except Exception:\n",
    "                print(loc_code)\n",
    "                print('Exception at Pycountry')\n",
    "                continue\n",
    "            try:\n",
    "                #Lat and long\n",
    "                loc = Nominatim(user_agent='GetLoc')\n",
    "                getloc = loc.geocode(loc_code)\n",
    "                lat = getloc.latitude\n",
    "                lon = getloc.longitude\n",
    "            except Exception:\n",
    "                print(loc_code)\n",
    "                print('Exception at GeoPy')\n",
    "                continue\n",
    "            try:\n",
    "                #Population\n",
    "                country_1 = CountryInfo(loc_code)\n",
    "                population = country_1.population()\n",
    "            except Exception:\n",
    "                print(loc_code)\n",
    "                print('Exception at CountryInfo')\n",
    "                continue\n",
    "            try:\n",
    "                #Population\n",
    "                \n",
    "                population = pypopulation.get_population(loc_code)\n",
    "            except Exception:\n",
    "                print(loc_code)\n",
    "                print('Exception at Pypopulation')\n",
    "                continue"
   ]
  },
  {
   "cell_type": "code",
   "execution_count": 25,
   "metadata": {},
   "outputs": [],
   "source": [
    "#Same Country\n",
    "same_country_dict = {}\n",
    "\n",
    "with open(data_file, newline='', encoding='utf-8') as fd:\n",
    "    text_data = csv.DictReader(fd)\n",
    "    count = 0\n",
    "    for line in text_data:\n",
    "        if((line['i']==line['j']) and (line['i']!= 'None') and (line['j']!='None')):\n",
    "            count += 1\n",
    "            #Country Code\n",
    "            loc_code = line['i'].replace(\"'\",'')\n",
    "            \n",
    "            try:\n",
    "                #Country Name\n",
    "                country = pycountry.countries.get(alpha_2=loc_code)\n",
    "                country_name = country.name\n",
    "                #Connections\n",
    "                connections = int(line['count'])\n",
    "                #Lat and long\n",
    "                loc = Nominatim(user_agent='GetLoc')\n",
    "                getloc = loc.geocode(loc_code)\n",
    "                lat = getloc.latitude\n",
    "                lon = getloc.longitude\n",
    "                #Population\n",
    "                population = pypopulation.get_population(loc_code)\n",
    "                    \n",
    "                #Saving all in a Dict\n",
    "                same_country_dict[loc_code] = [loc_code, country_name, connections, lat, lon, population]\n",
    "                sleep(1)\n",
    "            except Exception:\n",
    "                print(loc_code)\n",
    "                continue\n"
   ]
  },
  {
   "cell_type": "code",
   "execution_count": 2,
   "metadata": {},
   "outputs": [
    {
     "ename": "NameError",
     "evalue": "name 'same_country_dict' is not defined",
     "output_type": "error",
     "traceback": [
      "\u001b[0;31m---------------------------------------------------------------------------\u001b[0m",
      "\u001b[0;31mNameError\u001b[0m                                 Traceback (most recent call last)",
      "Cell \u001b[0;32mIn[2], line 1\u001b[0m\n\u001b[0;32m----> 1\u001b[0m same_country_dict[\u001b[39m'\u001b[39m\u001b[39mtw\u001b[39m\u001b[39m'\u001b[39m]\n",
      "\u001b[0;31mNameError\u001b[0m: name 'same_country_dict' is not defined"
     ]
    }
   ],
   "source": [
    "same_country_dict"
   ]
  },
  {
   "cell_type": "code",
   "execution_count": 1,
   "metadata": {},
   "outputs": [
    {
     "ename": "NameError",
     "evalue": "name 'same_country_dict' is not defined",
     "output_type": "error",
     "traceback": [
      "\u001b[0;31m---------------------------------------------------------------------------\u001b[0m",
      "\u001b[0;31mNameError\u001b[0m                                 Traceback (most recent call last)",
      "Cell \u001b[0;32mIn[1], line 1\u001b[0m\n\u001b[0;32m----> 1\u001b[0m same_country_dict[\u001b[39m'\u001b[39m\u001b[39mTW\u001b[39m\u001b[39m'\u001b[39m]\n",
      "\u001b[0;31mNameError\u001b[0m: name 'same_country_dict' is not defined"
     ]
    }
   ],
   "source": [
    "same_country_dict['TW']"
   ]
  },
  {
   "cell_type": "code",
   "execution_count": 27,
   "metadata": {},
   "outputs": [],
   "source": [
    "with open(csv_generated_file, 'w', newline='') as csvfile:\n",
    "    fieldnames = ['Country Code', 'Country Name', 'Connections', 'Latitude', 'Longitude', 'Population']\n",
    "    writer = csv.DictWriter(csvfile, fieldnames=fieldnames)\n",
    "\n",
    "    writer.writeheader()\n",
    "    for a,b in same_country_dict.items():\n",
    "        Country_code = b[0]\n",
    "        Country_Name = b[1]\n",
    "        Connections = b[2]\n",
    "        Lat = b[3]\n",
    "        Long = b[4]\n",
    "        Population = b[5]\n",
    "\n",
    "        writer.writerow({'Country Code':Country_code, 'Country Name': Country_Name, 'Connections':Connections, 'Latitude':Lat, 'Longitude':Long, 'Population':Population})\n"
   ]
  },
  {
   "cell_type": "code",
   "execution_count": 29,
   "metadata": {},
   "outputs": [
    {
     "name": "stdout",
     "output_type": "stream",
     "text": [
      "EU\n"
     ]
    }
   ],
   "source": [
    "import pycountry_convert as pc\n",
    "continent_name = pc.country_alpha2_to_continent_code('DE')\n",
    "print(continent_name)\n"
   ]
  },
  {
   "cell_type": "code",
   "execution_count": 30,
   "metadata": {},
   "outputs": [],
   "source": [
    "import pycountry_convert as pc\n",
    "csv_Europe_generated_file = '/home/dipp/Github/Master-Thesis-dipp/GEO_MAP/Country Data Extraction/Europe_Country_Data.csv'"
   ]
  },
  {
   "cell_type": "code",
   "execution_count": 32,
   "metadata": {},
   "outputs": [
    {
     "name": "stdout",
     "output_type": "stream",
     "text": [
      "TL\n",
      "AQ\n",
      "VA\n"
     ]
    }
   ],
   "source": [
    "with open(csv_Europe_generated_file, 'w', newline='') as csvfile:\n",
    "    fieldnames = ['Country Code', 'Country Name', 'Connections', 'Latitude', 'Longitude', 'Population']\n",
    "    writer = csv.DictWriter(csvfile, fieldnames=fieldnames)\n",
    "\n",
    "    writer.writeheader()\n",
    "    for a,b in same_country_dict.items():\n",
    "        Country_code = b[0]\n",
    "        Country_Name = b[1]\n",
    "        Connections = b[2]\n",
    "        Lat = b[3]\n",
    "        Long = b[4]\n",
    "        Population = b[5]\n",
    "        \n",
    "        try: \n",
    "            continent_name = pc.country_alpha2_to_continent_code(Country_code)\n",
    "            if(continent_name == 'EU'):\n",
    "                writer.writerow({'Country Code':Country_code, 'Country Name': Country_Name, 'Connections':Connections, 'Latitude':Lat, 'Longitude':Long, 'Population':Population})\n",
    "        except Exception:\n",
    "            print(Country_code)\n",
    "            continue"
   ]
  }
 ],
 "metadata": {
  "kernelspec": {
   "display_name": "new-conda",
   "language": "python",
   "name": "python3"
  },
  "language_info": {
   "codemirror_mode": {
    "name": "ipython",
    "version": 3
   },
   "file_extension": ".py",
   "mimetype": "text/x-python",
   "name": "python",
   "nbconvert_exporter": "python",
   "pygments_lexer": "ipython3",
   "version": "3.11.2"
  },
  "orig_nbformat": 4
 },
 "nbformat": 4,
 "nbformat_minor": 2
}
