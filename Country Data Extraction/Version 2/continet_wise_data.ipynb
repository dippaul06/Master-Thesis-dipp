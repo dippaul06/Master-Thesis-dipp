{
 "cells": [
  {
   "cell_type": "code",
   "execution_count": 1,
   "metadata": {},
   "outputs": [],
   "source": [
    "import csv\n",
    "import pandas as pd\n",
    "import pycountry_convert as pc"
   ]
  },
  {
   "cell_type": "code",
   "execution_count": 2,
   "metadata": {},
   "outputs": [],
   "source": [
    "country_data = '/home/dipp/Github/Master-Thesis-dipp/Country Data Extraction/Version 2/Location_with_only_country_code_V2_Latest.csv'\n",
    "result = '/home/dipp/Github/Master-Thesis-dipp/Country Data Extraction/Version 2/Continent.csv'"
   ]
  },
  {
   "cell_type": "code",
   "execution_count": 21,
   "metadata": {},
   "outputs": [],
   "source": [
    "def get_continent(country_code):\n",
    "    try:\n",
    "        continent_name = pc.country_alpha2_to_continent_code(country_code)\n",
    "\n",
    "        return continent_name\n",
    "    except:\n",
    "        return None"
   ]
  },
  {
   "cell_type": "code",
   "execution_count": 22,
   "metadata": {},
   "outputs": [],
   "source": [
    "continent_dict = {}\n",
    "source_tweet = 0\n",
    "destination_tweet = 0"
   ]
  },
  {
   "cell_type": "code",
   "execution_count": 23,
   "metadata": {},
   "outputs": [],
   "source": [
    "with open(country_data, 'r') as cd:\n",
    "    raw_data = csv.DictReader(cd)\n",
    "\n",
    "    for line in raw_data:\n",
    "        if(line['i'] != 'None' and line['j']!= 'None'):\n",
    "            source = line['i'].replace(\"'\",'')\n",
    "            destination = line['j'].replace(\"'\",'')\n",
    "            tweets = int(float(line['count']))\n",
    "\n",
    "            source_con = get_continent(source)\n",
    "            destination_con = get_continent(destination)\n",
    "\n",
    "            if(source_con != None and destination_con!= None):\n",
    "\n",
    "                source_tweet = continent_dict.get((source_con + '_source'))\n",
    "                destination_tweet = continent_dict.get((destination_con + '_destination'))\n",
    "\n",
    "                if(source_tweet != None):\n",
    "                    continent_dict[(source_con + '_source')] = source_tweet + tweets\n",
    "                if(source_tweet == None):\n",
    "                    continent_dict[(source_con + '_source')] = tweets\n",
    "                if(destination_tweet != None):\n",
    "                    continent_dict[(destination_con + '_destination')] = destination_tweet + tweets\n",
    "                if(destination_tweet == None):\n",
    "                    continent_dict[(destination_con + '_destination')] = tweets\n",
    "\n",
    "\n",
    "\n",
    "            source_tweet = 0\n",
    "            destination_tweet = 0"
   ]
  },
  {
   "cell_type": "code",
   "execution_count": 24,
   "metadata": {},
   "outputs": [
    {
     "data": {
      "text/plain": [
       "{'NA_source': 44432603,\n",
       " 'NA_destination': 43283435,\n",
       " 'EU_destination': 9369661,\n",
       " 'EU_source': 8984263,\n",
       " 'AS_destination': 9480874,\n",
       " 'AS_source': 9269827,\n",
       " 'OC_source': 1224160,\n",
       " 'OC_destination': 1346328,\n",
       " 'SA_source': 2018971,\n",
       " 'SA_destination': 2193198,\n",
       " 'AF_source': 2141494,\n",
       " 'AF_destination': 2397822}"
      ]
     },
     "execution_count": 24,
     "metadata": {},
     "output_type": "execute_result"
    }
   ],
   "source": [
    "continent_dict"
   ]
  },
  {
   "cell_type": "code",
   "execution_count": 25,
   "metadata": {},
   "outputs": [
    {
     "data": {
      "text/html": [
       "<div>\n",
       "<style scoped>\n",
       "    .dataframe tbody tr th:only-of-type {\n",
       "        vertical-align: middle;\n",
       "    }\n",
       "\n",
       "    .dataframe tbody tr th {\n",
       "        vertical-align: top;\n",
       "    }\n",
       "\n",
       "    .dataframe thead th {\n",
       "        text-align: right;\n",
       "    }\n",
       "</style>\n",
       "<table border=\"1\" class=\"dataframe\">\n",
       "  <thead>\n",
       "    <tr style=\"text-align: right;\">\n",
       "      <th></th>\n",
       "      <th>Continent</th>\n",
       "      <th>number of tweets</th>\n",
       "    </tr>\n",
       "  </thead>\n",
       "  <tbody>\n",
       "    <tr>\n",
       "      <th>0</th>\n",
       "      <td>NA_source</td>\n",
       "      <td>44432603</td>\n",
       "    </tr>\n",
       "    <tr>\n",
       "      <th>1</th>\n",
       "      <td>NA_destination</td>\n",
       "      <td>43283435</td>\n",
       "    </tr>\n",
       "    <tr>\n",
       "      <th>2</th>\n",
       "      <td>EU_destination</td>\n",
       "      <td>9369661</td>\n",
       "    </tr>\n",
       "    <tr>\n",
       "      <th>3</th>\n",
       "      <td>EU_source</td>\n",
       "      <td>8984263</td>\n",
       "    </tr>\n",
       "    <tr>\n",
       "      <th>4</th>\n",
       "      <td>AS_destination</td>\n",
       "      <td>9480874</td>\n",
       "    </tr>\n",
       "    <tr>\n",
       "      <th>5</th>\n",
       "      <td>AS_source</td>\n",
       "      <td>9269827</td>\n",
       "    </tr>\n",
       "    <tr>\n",
       "      <th>6</th>\n",
       "      <td>OC_source</td>\n",
       "      <td>1224160</td>\n",
       "    </tr>\n",
       "    <tr>\n",
       "      <th>7</th>\n",
       "      <td>OC_destination</td>\n",
       "      <td>1346328</td>\n",
       "    </tr>\n",
       "    <tr>\n",
       "      <th>8</th>\n",
       "      <td>SA_source</td>\n",
       "      <td>2018971</td>\n",
       "    </tr>\n",
       "    <tr>\n",
       "      <th>9</th>\n",
       "      <td>SA_destination</td>\n",
       "      <td>2193198</td>\n",
       "    </tr>\n",
       "    <tr>\n",
       "      <th>10</th>\n",
       "      <td>AF_source</td>\n",
       "      <td>2141494</td>\n",
       "    </tr>\n",
       "    <tr>\n",
       "      <th>11</th>\n",
       "      <td>AF_destination</td>\n",
       "      <td>2397822</td>\n",
       "    </tr>\n",
       "  </tbody>\n",
       "</table>\n",
       "</div>"
      ],
      "text/plain": [
       "         Continent  number of tweets\n",
       "0        NA_source          44432603\n",
       "1   NA_destination          43283435\n",
       "2   EU_destination           9369661\n",
       "3        EU_source           8984263\n",
       "4   AS_destination           9480874\n",
       "5        AS_source           9269827\n",
       "6        OC_source           1224160\n",
       "7   OC_destination           1346328\n",
       "8        SA_source           2018971\n",
       "9   SA_destination           2193198\n",
       "10       AF_source           2141494\n",
       "11  AF_destination           2397822"
      ]
     },
     "execution_count": 25,
     "metadata": {},
     "output_type": "execute_result"
    }
   ],
   "source": [
    "df = pd.DataFrame(list(continent_dict.items()), columns=['Continent', 'number of tweets'])\n",
    "df"
   ]
  },
  {
   "cell_type": "code",
   "execution_count": 26,
   "metadata": {},
   "outputs": [],
   "source": [
    "df.to_csv(result, index=False)"
   ]
  },
  {
   "cell_type": "code",
   "execution_count": 52,
   "metadata": {},
   "outputs": [],
   "source": [
    "total = 0\n",
    "count = 0\n",
    "internal_count = 0\n",
    "cross_border_count = 0\n",
    "unique = 0\n",
    "with open(country_data, 'r') as cd:\n",
    "    raw_data = csv.DictReader(cd)\n",
    "\n",
    "    for line in raw_data:\n",
    "        total = total + int(float(line['count']))\n",
    "        if(line['i'] != 'None' and line['j']!= 'None'):\n",
    "            source = line['i'].replace(\"'\",'')\n",
    "            destination = line['j'].replace(\"'\",'')\n",
    "            tweets = int(float(line['count']))\n",
    "            \n",
    "            if(source == 'IN' or destination == 'IN'):\n",
    "                count = count + tweets\n",
    "            if(source == 'IN' and destination == 'IN'):\n",
    "                internal_count = internal_count + tweets\n",
    "            #if(source == 'US' and destination != 'US'):\n",
    "            #    cross_border_count = cross_border_count + tweets\n",
    "            if(source != destination):\n",
    "                unique = unique + tweets\n",
    "            if(source != 'IN' and destination == 'IN'):\n",
    "                cross_border_count = cross_border_count + tweets"
   ]
  },
  {
   "cell_type": "code",
   "execution_count": 53,
   "metadata": {},
   "outputs": [
    {
     "data": {
      "text/plain": [
       "12350834"
      ]
     },
     "execution_count": 53,
     "metadata": {},
     "output_type": "execute_result"
    }
   ],
   "source": [
    "unique"
   ]
  },
  {
   "cell_type": "code",
   "execution_count": 32,
   "metadata": {},
   "outputs": [
    {
     "data": {
      "text/plain": [
       "68123351"
      ]
     },
     "execution_count": 32,
     "metadata": {},
     "output_type": "execute_result"
    }
   ],
   "source": [
    "total"
   ]
  },
  {
   "cell_type": "code",
   "execution_count": 33,
   "metadata": {},
   "outputs": [
    {
     "data": {
      "text/plain": [
       "6547775"
      ]
     },
     "execution_count": 33,
     "metadata": {},
     "output_type": "execute_result"
    }
   ],
   "source": [
    "count"
   ]
  },
  {
   "cell_type": "code",
   "execution_count": 34,
   "metadata": {},
   "outputs": [
    {
     "data": {
      "text/plain": [
       "5133941"
      ]
     },
     "execution_count": 34,
     "metadata": {},
     "output_type": "execute_result"
    }
   ],
   "source": [
    "internal_count"
   ]
  },
  {
   "cell_type": "code",
   "execution_count": 54,
   "metadata": {},
   "outputs": [
    {
     "data": {
      "text/plain": [
       "667105"
      ]
     },
     "execution_count": 54,
     "metadata": {},
     "output_type": "execute_result"
    }
   ],
   "source": [
    "cross_border_count"
   ]
  }
 ],
 "metadata": {
  "kernelspec": {
   "display_name": "new-conda",
   "language": "python",
   "name": "python3"
  },
  "language_info": {
   "codemirror_mode": {
    "name": "ipython",
    "version": 3
   },
   "file_extension": ".py",
   "mimetype": "text/x-python",
   "name": "python",
   "nbconvert_exporter": "python",
   "pygments_lexer": "ipython3",
   "version": "3.11.2"
  }
 },
 "nbformat": 4,
 "nbformat_minor": 2
}
