{
 "cells": [
  {
   "cell_type": "code",
   "execution_count": 23,
   "metadata": {},
   "outputs": [],
   "source": [
    "import csv\n",
    "import pandas as pd"
   ]
  },
  {
   "cell_type": "code",
   "execution_count": 24,
   "metadata": {},
   "outputs": [],
   "source": [
    "location_user = '/home/dipp/Github/Master-Thesis-dipp/Location_to_Location_Graph/test_1.csv'\n",
    "user_graph = '/home/dipp/Github/Master-Thesis-dipp/Location_to_Location_Graph/test2.csv'\n",
    "res_file = '/home/dipp/Github/Master-Thesis-dipp/Location_to_Location_Graph/res.csv'"
   ]
  },
  {
   "cell_type": "code",
   "execution_count": 25,
   "metadata": {},
   "outputs": [],
   "source": [
    "with open(location_user,  newline='', encoding='utf-8') as lu:\n",
    "    loc_user_dict = {row[\"userId\"]: row[\"location\"] for row in csv.DictReader(lu, (\"createdAt\",\"followers\",\"favourites\",\"location\",\"userId\"))}"
   ]
  },
  {
   "cell_type": "code",
   "execution_count": 26,
   "metadata": {},
   "outputs": [
    {
     "data": {
      "text/plain": [
       "{'userId': 'location',\n",
       " '3355494989': \"['none', 'none', 'none', 'none', 'none']\",\n",
       " '1123512455848767489': \"['none', 'none', 'none', 'none', 'none']\",\n",
       " '1879078620': \"['none', 'none', 'none', 'none', 'none']\",\n",
       " '3221276989': \"['none', 'none', 'none', 'none', 'none']\",\n",
       " '943120858196922368': \"['none', 'none', 'none', 'none', 'none']\",\n",
       " '942985685241298945': \"['US', 'United States', 'NY', 'New York', 'New York']\",\n",
       " '268453658': \"['GB', 'United Kingdom', 'England', 'England', 'Bristol']\"}"
      ]
     },
     "execution_count": 26,
     "metadata": {},
     "output_type": "execute_result"
    }
   ],
   "source": [
    "loc_user_dict"
   ]
  },
  {
   "cell_type": "code",
   "execution_count": 27,
   "metadata": {},
   "outputs": [
    {
     "name": "stdout",
     "output_type": "stream",
     "text": [
      "['GB', 'United Kingdom', 'England', 'England', 'Bristol']\n",
      "['US', 'United States', 'NY', 'New York', 'New York']\n",
      "None\n",
      "None\n",
      "None\n",
      "None\n",
      "None\n",
      "None\n",
      "None\n",
      "None\n"
     ]
    }
   ],
   "source": [
    "with open(user_graph, newline='', encoding='utf-8') as ug:\n",
    "    user_graph_data = csv.DictReader((x.replace('\\0', '') for x in ug))\n",
    "    loc_to_loc_user = []\n",
    "    some_to_some = 0\n",
    "    some_to_none = 0\n",
    "    none_to_some = 0\n",
    "    none_to_none = 0\n",
    "\n",
    "    for line in user_graph_data:\n",
    "        res_s = loc_user_dict.get(line['i'])\n",
    "        res_d = loc_user_dict.get(line['j'])\n",
    "        print(res_s)\n",
    "        print(res_d)\n",
    "\n",
    "        if(res_s == None):\n",
    "            if(res_d == None):\n",
    "                none_to_none += 1\n",
    "            else:\n",
    "                none_to_some += 1\n",
    "        if(res_s != None):\n",
    "            if(res_d == None):\n",
    "                some_to_none += 1\n",
    "            else:\n",
    "                some_to_some += 1\n",
    "        \n",
    "        if(res_s == None):\n",
    "            res_s = \"['none', 'none', 'none', 'none', 'none']\"\n",
    "        if(res_d == None):\n",
    "            res_d = \"['none', 'none', 'none', 'none', 'none']\"\n",
    "\n",
    "\n",
    "        line['i'] = res_s\n",
    "        line['j'] = res_d\n",
    "        loc_to_loc_user.append(line)\n"
   ]
  },
  {
   "cell_type": "code",
   "execution_count": 28,
   "metadata": {},
   "outputs": [
    {
     "data": {
      "text/plain": [
       "[OrderedDict([('i',\n",
       "               \"['GB', 'United Kingdom', 'England', 'England', 'Bristol']\"),\n",
       "              ('j', \"['US', 'United States', 'NY', 'New York', 'New York']\"),\n",
       "              ('contacts', '1'),\n",
       "              ('mentions', '0')]),\n",
       " OrderedDict([('i', \"['none', 'none', 'none', 'none', 'none']\"),\n",
       "              ('j', \"['none', 'none', 'none', 'none', 'none']\"),\n",
       "              ('contacts', '1'),\n",
       "              ('mentions', '0')]),\n",
       " OrderedDict([('i', \"['none', 'none', 'none', 'none', 'none']\"),\n",
       "              ('j', \"['none', 'none', 'none', 'none', 'none']\"),\n",
       "              ('contacts', '32'),\n",
       "              ('mentions', '0')]),\n",
       " OrderedDict([('i', \"['none', 'none', 'none', 'none', 'none']\"),\n",
       "              ('j', \"['none', 'none', 'none', 'none', 'none']\"),\n",
       "              ('contacts', '3'),\n",
       "              ('mentions', '0')]),\n",
       " OrderedDict([('i', \"['none', 'none', 'none', 'none', 'none']\"),\n",
       "              ('j', \"['none', 'none', 'none', 'none', 'none']\"),\n",
       "              ('contacts', '6'),\n",
       "              ('mentions', '0')])]"
      ]
     },
     "execution_count": 28,
     "metadata": {},
     "output_type": "execute_result"
    }
   ],
   "source": [
    "loc_to_loc_user"
   ]
  },
  {
   "cell_type": "code",
   "execution_count": 29,
   "metadata": {},
   "outputs": [
    {
     "name": "stdout",
     "output_type": "stream",
     "text": [
      "Source has value and Destination has value:  1\n",
      "Source has value and Destination is None:  0\n",
      "Source is None and Destination has value:  0\n",
      "Source is None and Destination is None:  4\n"
     ]
    }
   ],
   "source": [
    "print(\"Source has value and Destination has value: \", some_to_some)\n",
    "print(\"Source has value and Destination is None: \", some_to_none)\n",
    "print(\"Source is None and Destination has value: \", none_to_some)\n",
    "print(\"Source is None and Destination is None: \", none_to_none)"
   ]
  },
  {
   "cell_type": "code",
   "execution_count": 30,
   "metadata": {},
   "outputs": [
    {
     "data": {
      "text/plain": [
       "[OrderedDict([('i',\n",
       "               \"['GB', 'United Kingdom', 'England', 'England', 'Bristol']\"),\n",
       "              ('j', \"['US', 'United States', 'NY', 'New York', 'New York']\"),\n",
       "              ('contacts', '1'),\n",
       "              ('mentions', '0')]),\n",
       " OrderedDict([('i', \"['none', 'none', 'none', 'none', 'none']\"),\n",
       "              ('j', \"['none', 'none', 'none', 'none', 'none']\"),\n",
       "              ('contacts', '1'),\n",
       "              ('mentions', '0')]),\n",
       " OrderedDict([('i', \"['none', 'none', 'none', 'none', 'none']\"),\n",
       "              ('j', \"['none', 'none', 'none', 'none', 'none']\"),\n",
       "              ('contacts', '32'),\n",
       "              ('mentions', '0')]),\n",
       " OrderedDict([('i', \"['none', 'none', 'none', 'none', 'none']\"),\n",
       "              ('j', \"['none', 'none', 'none', 'none', 'none']\"),\n",
       "              ('contacts', '3'),\n",
       "              ('mentions', '0')]),\n",
       " OrderedDict([('i', \"['none', 'none', 'none', 'none', 'none']\"),\n",
       "              ('j', \"['none', 'none', 'none', 'none', 'none']\"),\n",
       "              ('contacts', '6'),\n",
       "              ('mentions', '0')])]"
      ]
     },
     "execution_count": 30,
     "metadata": {},
     "output_type": "execute_result"
    }
   ],
   "source": [
    "loc_to_loc_user"
   ]
  },
  {
   "cell_type": "code",
   "execution_count": 31,
   "metadata": {},
   "outputs": [],
   "source": [
    "df = pd.DataFrame(loc_to_loc_user)\n",
    "df=df[df.columns.dropna()]\n",
    "#df.drop('INVALID', axis=1, inplace=True) \n",
    "df.to_csv(res_file, index=False)"
   ]
  }
 ],
 "metadata": {
  "kernelspec": {
   "display_name": "base",
   "language": "python",
   "name": "python3"
  },
  "language_info": {
   "codemirror_mode": {
    "name": "ipython",
    "version": 3
   },
   "file_extension": ".py",
   "mimetype": "text/x-python",
   "name": "python",
   "nbconvert_exporter": "python",
   "pygments_lexer": "ipython3",
   "version": "3.7.16"
  },
  "orig_nbformat": 4
 },
 "nbformat": 4,
 "nbformat_minor": 2
}
