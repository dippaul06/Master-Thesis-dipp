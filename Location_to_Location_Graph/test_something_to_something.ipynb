{
 "cells": [
  {
   "cell_type": "code",
   "execution_count": 13,
   "metadata": {},
   "outputs": [],
   "source": [
    "import csv"
   ]
  },
  {
   "cell_type": "code",
   "execution_count": 14,
   "metadata": {},
   "outputs": [],
   "source": [
    "test_file = '/home/dipp/Github/Master-Thesis-dipp/Location_to_Location_Graph/res.csv'\n",
    "result_file = '/home/dipp/Github/Master-Thesis-dipp/Location_to_Location_Graph/res_some.csv'"
   ]
  },
  {
   "cell_type": "code",
   "execution_count": 15,
   "metadata": {},
   "outputs": [],
   "source": [
    "file1 = open(result_file, \"a\")  # append mode\n",
    "file1.write('i,j,contacts,mentions'+'\\n')\n",
    "file1.close()"
   ]
  },
  {
   "cell_type": "code",
   "execution_count": 17,
   "metadata": {},
   "outputs": [],
   "source": [
    "with open(test_file, newline='', encoding='utf-8') as test:\n",
    "    no_match = \"['none', 'none', 'none', 'none', 'none']\"\n",
    "    test_data = csv.DictReader((x.replace('\\0', '') for x in test))\n",
    "    for line in test_data:\n",
    "        if((line['i'] != no_match) and (line['j'] != no_match)):\n",
    "            file1 = open(result_file, \"a\")  # append mode\n",
    "            file1.write('\"' + line['i'] + '\"' + ',' + '\"' + line['j'] + '\"' + ',' + line['contacts']+ ',' + line['mentions'] + '\\n')\n",
    "            #file1.write(line)\n",
    "            file1.close()\n",
    "    "
   ]
  }
 ],
 "metadata": {
  "kernelspec": {
   "display_name": "base",
   "language": "python",
   "name": "python3"
  },
  "language_info": {
   "codemirror_mode": {
    "name": "ipython",
    "version": 3
   },
   "file_extension": ".py",
   "mimetype": "text/x-python",
   "name": "python",
   "nbconvert_exporter": "python",
   "pygments_lexer": "ipython3",
   "version": "3.7.16"
  },
  "orig_nbformat": 4
 },
 "nbformat": 4,
 "nbformat_minor": 2
}
