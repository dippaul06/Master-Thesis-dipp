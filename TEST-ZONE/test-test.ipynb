{
 "cells": [
  {
   "cell_type": "code",
   "execution_count": 106,
   "metadata": {},
   "outputs": [],
   "source": [
    "import csv"
   ]
  },
  {
   "cell_type": "code",
   "execution_count": 107,
   "metadata": {},
   "outputs": [],
   "source": [
    "data = '/home/dipp/Github/Master-Thesis-dipp/TEST-ZONE/test-data.csv'\n",
    "res = '/home/dipp/Github/Master-Thesis-dipp/TEST-ZONE/res.csv'"
   ]
  },
  {
   "cell_type": "code",
   "execution_count": 108,
   "metadata": {},
   "outputs": [],
   "source": [
    "res_dict = {}\n",
    "no_match = \"['none', 'none', 'none', 'none', 'none']\"\n",
    "no_match_1 = '[None, None, None, None, None]'"
   ]
  },
  {
   "cell_type": "code",
   "execution_count": 109,
   "metadata": {},
   "outputs": [
    {
     "name": "stdout",
     "output_type": "stream",
     "text": [
      "['none', 'none', 'none', 'none', 'none']\n",
      "['none', 'none', 'none', 'none', 'none']\n",
      "['none', 'none', 'none', 'none', 'none']\n",
      "['US', 'United States', 'CA', 'California', 'Los Angeles']\n",
      "['none', 'none', 'none', 'none', 'none']\n",
      "['US', 'United States', 'CA', 'California', 'Los Angeles']\n",
      "['none', 'none', 'none', 'none', 'none']\n",
      "['none', 'none', 'none', 'none', 'none']\n",
      "['none', 'none', 'none', 'none', 'none']\n"
     ]
    }
   ],
   "source": [
    "with open(data, newline='', encoding='utf-8') as data_file:\n",
    "    location_data = csv.DictReader((x.replace('\\0', '') for x in data_file))\n",
    "\n",
    "    for line in location_data:\n",
    "        loc_i = line['i']\n",
    "        \n",
    "        loc_j = line['j']\n",
    "        print(loc_j)\n",
    "        loc_contacts = int(line['contacts'])\n",
    "\n",
    "        if((loc_i != no_match and loc_i != no_match_1) and (loc_j != no_match and loc_j != no_match_1)):\n",
    "            #if(loc_j != \"['none', 'none', 'none', 'none', 'none']\" and loc_j != \"[None, None, None, None, None]\"):\n",
    "            temp_contacts = res_dict.get(loc_i + ',' + loc_j)\n",
    "            if(temp_contacts == None):\n",
    "                res_dict[loc_i + ',' + loc_j] = loc_contacts\n",
    "            else:\n",
    "                res_dict[loc_i + ',' + loc_j] = temp_contacts + loc_contacts\n",
    "\n"
   ]
  },
  {
   "cell_type": "code",
   "execution_count": 110,
   "metadata": {},
   "outputs": [
    {
     "data": {
      "text/plain": [
       "{\"['US', 'United States', 'DC', 'District of Columbia', 'Washington'],['US', 'United States', 'CA', 'California', 'Los Angeles']\": 2}"
      ]
     },
     "execution_count": 110,
     "metadata": {},
     "output_type": "execute_result"
    }
   ],
   "source": [
    "res_dict"
   ]
  },
  {
   "cell_type": "code",
   "execution_count": 111,
   "metadata": {},
   "outputs": [
    {
     "name": "stdout",
     "output_type": "stream",
     "text": [
      "['US', 'United States', 'DC', 'District of Columbia', 'Washington'],['US', 'United States', 'CA', 'California', 'Los Angeles'],2\n"
     ]
    }
   ],
   "source": [
    "for a,b in res_dict.items():\n",
    "    c = a.split('],[') \n",
    "    #print(c[1])\n",
    "    d = str(c[0]) + '],[' + str(c[1]) + ',' + str(b)\n",
    "    print(d)"
   ]
  }
 ],
 "metadata": {
  "kernelspec": {
   "display_name": "new-conda",
   "language": "python",
   "name": "python3"
  },
  "language_info": {
   "codemirror_mode": {
    "name": "ipython",
    "version": 3
   },
   "file_extension": ".py",
   "mimetype": "text/x-python",
   "name": "python",
   "nbconvert_exporter": "python",
   "pygments_lexer": "ipython3",
   "version": "3.11.2"
  },
  "orig_nbformat": 4
 },
 "nbformat": 4,
 "nbformat_minor": 2
}
