{
 "cells": [
  {
   "cell_type": "code",
   "execution_count": 2,
   "metadata": {},
   "outputs": [],
   "source": [
    "import csv"
   ]
  },
  {
   "cell_type": "code",
   "execution_count": 3,
   "metadata": {},
   "outputs": [],
   "source": [
    "Full_Location_Data = '/home/dipp/Github/Master-Thesis-dipp/Extracting_Locations_that_has_Value/test_data.csv'\n",
    "Res_Data = '/home/dipp/Github/Master-Thesis-dipp/TEST-ZONE/res.csv'"
   ]
  },
  {
   "cell_type": "code",
   "execution_count": 4,
   "metadata": {},
   "outputs": [],
   "source": [
    "res_dict = {}\n",
    "no_match = \"['none', 'none', 'none', 'none', 'none']\"\n",
    "no_match_1 = '[None, None, None, None, None]'\n",
    "total_data = 0\n",
    "resolved_data = 0\n",
    "exception_data = 0"
   ]
  },
  {
   "cell_type": "code",
   "execution_count": 5,
   "metadata": {},
   "outputs": [],
   "source": [
    "with open(Full_Location_Data, newline='', encoding='utf-8') as data_file:\n",
    "    location_data = csv.DictReader((x.replace('\\0', '') for x in data_file))\n",
    "\n",
    "    for line in location_data:\n",
    "        total_data += 1\n",
    "        try:\n",
    "            loc_i = line['i']\n",
    "            loc_j = line['j']\n",
    "            loc_contacts = int(line['contacts'])\n",
    "\n",
    "            if((loc_i != no_match and loc_i != no_match_1) and (loc_j != no_match and loc_j != no_match_1)):\n",
    "                resolved_data += 1\n",
    "                temp_contacts = res_dict.get(loc_i + ',' + loc_j)\n",
    "                if(temp_contacts == None):\n",
    "                    res_dict[loc_i + ',' + loc_j] = loc_contacts\n",
    "                else:\n",
    "                    res_dict[loc_i + ',' + loc_j] = temp_contacts + loc_contacts\n",
    "        except Exception:\n",
    "            exception_data += 1\n",
    "            continue"
   ]
  },
  {
   "cell_type": "code",
   "execution_count": 6,
   "metadata": {},
   "outputs": [],
   "source": [
    "file1 = open(Res_Data, \"a\")  # append mode\n",
    "file1.write('i,j,count'+'\\n')\n",
    "file1.close()"
   ]
  },
  {
   "cell_type": "code",
   "execution_count": 9,
   "metadata": {},
   "outputs": [
    {
     "data": {
      "text/plain": [
       "{\"['CA', 'Canada', 'ON', 'Ontario', None],['CA', 'Canada', 'QC', 'Québec', 'Québec']\": 13,\n",
       " \"['US', 'United States', 'CA', 'California', 'El Segundo'],['RU', 'Russia', 'Sverdlovsk Oblast', 'Sverdlovsk Oblast', 'Yekaterinburg']\": 19507,\n",
       " \"['US', 'United States', 'CA', 'California', 'Los Angeles'],['US', 'United States', 'CA', 'California', None]\": 102,\n",
       " \"['US', 'United States', 'CT', 'Connecticut', 'Manchester'],['US', 'United States', 'OH', 'Ohio', 'Columbus']\": 1,\n",
       " \"['US', 'United States', 'OH', 'Ohio', None],['US', 'United States', 'OH', 'Ohio', None]\": 2,\n",
       " \"['US', 'United States', 'NY', 'New York', 'New York'],['US', 'United States', 'CA', 'California', 'Sacramento']\": 39,\n",
       " \"['GB', 'United Kingdom', 'England', 'England', 'London'],['MY', 'Malaysia', 'Federal Territory of Kuala Lumpur', 'Federal Territory of Kuala Lumpur', 'Kuala Lumpur']\": 29,\n",
       " \"['IN', 'India', None, None, None],['IN', 'India', None, None, None]\": 7,\n",
       " \"['KR', 'South Korea', 'Seoul', 'Seoul', None],['US', 'United States', 'IL', 'Illinois', 'Urbana']\": 19,\n",
       " \"['US', 'United States', 'NY', 'New York', 'New York'],['US', 'United States', 'SD', 'South Dakota', 'Sioux Falls']\": 3,\n",
       " \"['BE', 'Belgium', 'Brussels', 'Brussels', 'Brussels'],['US', 'United States', 'CA', 'California', 'Sunnyvale']\": 1,\n",
       " \"['ES', 'Spain', 'CN', 'Canary Islands', None],['ES', 'Spain', 'CN', 'Canary Islands', 'Santa Cruz de Tenerife']\": 3,\n",
       " \"['AU', 'Australia', 'NSW', 'New South Wales', 'Sydney'],['AU', 'Australia', 'VIC', 'Victoria', 'Bendigo']\": 197,\n",
       " \"['IN', 'India', 'KA', 'Karnataka', 'Bengaluru'],['IN', 'India', None, None, None]\": 1}"
      ]
     },
     "execution_count": 9,
     "metadata": {},
     "output_type": "execute_result"
    }
   ],
   "source": [
    "res_dict"
   ]
  },
  {
   "cell_type": "code",
   "execution_count": 7,
   "metadata": {},
   "outputs": [],
   "source": [
    "file1 = open(Res_Data, \"a\")\n",
    "for a,b in res_dict.items():\n",
    "    c = a.split('],[')\n",
    "    file1.writelines(str(c[0]) + '],[' + str(c[1]) + ',' + str(b) + '\\n')\n",
    "    file1.flush()\n",
    "\n",
    "file1.close()"
   ]
  },
  {
   "cell_type": "code",
   "execution_count": 8,
   "metadata": {},
   "outputs": [
    {
     "name": "stdout",
     "output_type": "stream",
     "text": [
      "Total Data:  499\n",
      "Total Resolved Data:  15\n",
      "Total  Exception:  0\n"
     ]
    }
   ],
   "source": [
    "print('Total Data: ', total_data)\n",
    "print('Total Resolved Data: ', resolved_data)\n",
    "print('Total  Exception: ', exception_data)"
   ]
  }
 ],
 "metadata": {
  "kernelspec": {
   "display_name": "new-conda",
   "language": "python",
   "name": "python3"
  },
  "language_info": {
   "codemirror_mode": {
    "name": "ipython",
    "version": 3
   },
   "file_extension": ".py",
   "mimetype": "text/x-python",
   "name": "python",
   "nbconvert_exporter": "python",
   "pygments_lexer": "ipython3",
   "version": "3.11.2"
  },
  "orig_nbformat": 4
 },
 "nbformat": 4,
 "nbformat_minor": 2
}
