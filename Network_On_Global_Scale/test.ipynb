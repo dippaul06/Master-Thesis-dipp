{
 "cells": [
  {
   "cell_type": "code",
   "execution_count": 35,
   "metadata": {},
   "outputs": [],
   "source": [
    "import csv\n",
    "import pandas as pd\n",
    "import igraph as ig\n",
    "import networkx as nx"
   ]
  },
  {
   "cell_type": "code",
   "execution_count": 36,
   "metadata": {},
   "outputs": [],
   "source": [
    "data_file = '/home/dipp/Github/Master-Thesis-dipp/Network_On_Global_Scale/Data/sorted_country_code_with_count_new.csv'"
   ]
  },
  {
   "cell_type": "code",
   "execution_count": 37,
   "metadata": {},
   "outputs": [],
   "source": [
    "G = nx.Graph()"
   ]
  },
  {
   "cell_type": "code",
   "execution_count": 40,
   "metadata": {},
   "outputs": [],
   "source": [
    "with open(data_file, newline='') as csvfile:\n",
    "    reader = csv.DictReader(csvfile)\n",
    "    \n",
    "    for row in reader:\n",
    "        if(row['i'] != 'None' and row['j'] != 'None'):\n",
    "            if(row['i']!=row['j']):\n",
    "                G.add_edge(row['i'], row['j'], weight=int(row['count']))\n",
    "                "
   ]
  },
  {
   "cell_type": "code",
   "execution_count": 41,
   "metadata": {},
   "outputs": [
    {
     "data": {
      "text/plain": [
       "DegreeView({\"'GB'\": 185, \"'US'\": 215, \"'CA'\": 167, \"'IN'\": 140, \"'ZA'\": 120, \"'AU'\": 148, \"'DE'\": 145, \"'JP'\": 117, \"'NG'\": 112, \"'CO'\": 99, \"'HK'\": 105, \"'IT'\": 128, \"'NL'\": 114, \"'MY'\": 91, \"'MX'\": 118, \"'KE'\": 102, \"'KR'\": 86, \"'PR'\": 71, \"'FR'\": 125, \"'ID'\": 109, \"'ES'\": 107, \"'TR'\": 96, \"'BR'\": 87, \"'PH'\": 86, \"'TH'\": 79, \"'SE'\": 102, \"'CH'\": 127, \"'NO'\": 82, \"'IE'\": 84, \"'CN'\": 123, \"'PK'\": 89, \"'PL'\": 88, \"'PT'\": 83, \"'NZ'\": 87, \"'AT'\": 70, \"'BE'\": 111, \"'GR'\": 85, \"'CL'\": 69, \"'VE'\": 79, \"'IL'\": 94, \"'SA'\": 73, \"'SG'\": 58, \"'PA'\": 61, \"'ZW'\": 73, \"'TW'\": 64, \"'PS'\": 53, \"'EG'\": 79, \"'AE'\": 70, \"'AR'\": 72, \"'GH'\": 59, \"'FJ'\": 39, \"'DK'\": 88, \"'CU'\": 75, \"'KW'\": 55, \"'IQ'\": 60, \"'RU'\": 88, \"'LB'\": 74, \"'NP'\": 54, \"'SI'\": 43, \"'DO'\": 34, \"'RS'\": 55, \"'BM'\": 31, \"'EC'\": 42, \"'UM'\": 25, \"'VN'\": 63, \"'VI'\": 28, \"'BD'\": 60, \"'FI'\": 58, \"'CZ'\": 47, \"'CG'\": 66, \"'UG'\": 54, \"'PE'\": 45, \"'BS'\": 37, \"'BN'\": 27, \"'AG'\": 32, \"'RO'\": 54, \"'MA'\": 56, \"'SD'\": 27, \"'SK'\": 39, \"'PY'\": 40, \"'HR'\": 46, \"'HU'\": 46, \"'SV'\": 25, \"'JM'\": 24, \"'VG'\": 22, \"'CM'\": 38, \"'JE'\": 12, \"'CR'\": 29, \"'UY'\": 38, \"'IR'\": 39, \"'TZ'\": 45, \"'BW'\": 12, \"'MV'\": 27, \"'CW'\": 22, \"'NA'\": 27, \"'LT'\": 20, \"'MC'\": 45, \"'QA'\": 45, \"'TN'\": 41, \"'GU'\": 14, \"'JO'\": 39, \"'MU'\": 33, \"'PG'\": 40, \"'KP'\": 29, \"'KH'\": 28, \"'CD'\": 16, \"'TT'\": 28, \"'TC'\": 12, \"'MZ'\": 38, \"'BH'\": 19, \"'HT'\": 16, \"'LA'\": 14, \"'EE'\": 17, \"'CY'\": 22, \"'GS'\": 4, \"'LI'\": 24, \"'IS'\": 18, \"'DJ'\": 27, \"'RW'\": 37, \"'GD'\": 4, \"'HN'\": 15, \"'VC'\": 10, \"'DM'\": 9, \"'PF'\": 18, \"'MP'\": 18, \"'AZ'\": 20, \"'LS'\": 12, \"'VU'\": 12, \"'BJ'\": 26, \"'KY'\": 10, \"'OM'\": 32, \"'SL'\": 11, \"'MR'\": 27, \"'AI'\": 15, \"'BF'\": 10, \"'SY'\": 20, \"'AS'\": 12, \"'AF'\": 11, \"'LY'\": 11, \"'AM'\": 14, \"'AX'\": 5, \"'SR'\": 11, \"'LV'\": 12, \"'BB'\": 15, \"'GL'\": 4, \"'LR'\": 12, \"'UA'\": 17, \"'ZM'\": 18, \"'ML'\": 10, \"'YT'\": 12, \"'TJ'\": 14, \"'MM'\": 26, \"'GG'\": 11, \"'DZ'\": 16, \"'SO'\": 14, \"'SN'\": 18, \"'TL'\": 10, \"'MK'\": 17, \"'BZ'\": 3, \"'BG'\": 10, \"'NI'\": 3, \"'AQ'\": 17, \"'IO'\": 5, \"'TV'\": 14, \"'CF'\": 20, \"'LC'\": 4, \"'SS'\": 7, \"'LU'\": 16, \"'AL'\": 14, \"'GF'\": 10, \"'NC'\": 4, \"'LK'\": 11, \"'KI'\": 5, \"'RE'\": 12, \"'ME'\": 4, \"'MG'\": 19, \"'BO'\": 5, \"'GQ'\": 14, \"'WS'\": 9, \"'TF'\": 4, \"'KM'\": 10, \"'GM'\": 7, \"'IM'\": 4, \"'KG'\": 9, \"'SZ'\": 4, \"'SH'\": 2, \"'MD'\": 5, \"'BT'\": 6, \"'MT'\": 6, \"'KN'\": 5, \"'GT'\": 6, \"'PN'\": 8, \"'GE'\": 7, \"'YE'\": 5, \"'VA'\": 6, \"'MN'\": 7, \"'TM'\": 2, \"'BQ'\": 6, \"'BY'\": 5, \"'GI'\": 8, \"'BI'\": 2, \"'TG'\": 2, \"'GY'\": 2, \"'ER'\": 4, \"'KZ'\": 9, \"'BA'\": 6, \"'ET'\": 1, \"'UZ'\": 4, \"'EH'\": 2, \"'AO'\": 5, \"'FM'\": 1, \"'NE'\": 4, \"'MW'\": 7, \"'SC'\": 1, \"'XK'\": 1, \"'MH'\": 1, \"'CV'\": 1, \"'FK'\": 1})"
      ]
     },
     "execution_count": 41,
     "metadata": {},
     "output_type": "execute_result"
    }
   ],
   "source": [
    "G.degree(weight='count')"
   ]
  },
  {
   "cell_type": "code",
   "execution_count": 8,
   "metadata": {},
   "outputs": [
    {
     "ename": "KeyError",
     "evalue": "'US'",
     "output_type": "error",
     "traceback": [
      "\u001b[0;31m---------------------------------------------------------------------------\u001b[0m",
      "\u001b[0;31mKeyError\u001b[0m                                  Traceback (most recent call last)",
      "Cell \u001b[0;32mIn[8], line 1\u001b[0m\n\u001b[0;32m----> 1\u001b[0m deg[\u001b[39m'\u001b[39;49m\u001b[39mUS\u001b[39;49m\u001b[39m'\u001b[39;49m]\n",
      "File \u001b[0;32m~/miniconda3/envs/new-conda/lib/python3.11/site-packages/networkx/classes/reportviews.py:520\u001b[0m, in \u001b[0;36mDegreeView.__getitem__\u001b[0;34m(self, n)\u001b[0m\n\u001b[1;32m    518\u001b[0m \u001b[39mdef\u001b[39;00m \u001b[39m__getitem__\u001b[39m(\u001b[39mself\u001b[39m, n):\n\u001b[1;32m    519\u001b[0m     weight \u001b[39m=\u001b[39m \u001b[39mself\u001b[39m\u001b[39m.\u001b[39m_weight\n\u001b[0;32m--> 520\u001b[0m     nbrs \u001b[39m=\u001b[39m \u001b[39mself\u001b[39;49m\u001b[39m.\u001b[39;49m_succ[n]\n\u001b[1;32m    521\u001b[0m     \u001b[39mif\u001b[39;00m weight \u001b[39mis\u001b[39;00m \u001b[39mNone\u001b[39;00m:\n\u001b[1;32m    522\u001b[0m         \u001b[39mreturn\u001b[39;00m \u001b[39mlen\u001b[39m(nbrs) \u001b[39m+\u001b[39m (n \u001b[39min\u001b[39;00m nbrs)\n",
      "\u001b[0;31mKeyError\u001b[0m: 'US'"
     ]
    }
   ],
   "source": []
  },
  {
   "cell_type": "code",
   "execution_count": null,
   "metadata": {},
   "outputs": [],
   "source": []
  },
  {
   "cell_type": "code",
   "execution_count": null,
   "metadata": {},
   "outputs": [],
   "source": []
  },
  {
   "cell_type": "code",
   "execution_count": null,
   "metadata": {},
   "outputs": [],
   "source": []
  },
  {
   "cell_type": "code",
   "execution_count": null,
   "metadata": {},
   "outputs": [],
   "source": []
  },
  {
   "cell_type": "code",
   "execution_count": null,
   "metadata": {},
   "outputs": [],
   "source": []
  },
  {
   "cell_type": "code",
   "execution_count": null,
   "metadata": {},
   "outputs": [],
   "source": []
  },
  {
   "cell_type": "code",
   "execution_count": 28,
   "metadata": {},
   "outputs": [],
   "source": [
    "country_data = {}\n",
    "with open(data_file, newline='') as csvfile:\n",
    "    reader = csv.DictReader(csvfile)\n",
    "    count = 0\n",
    "    for row in reader:\n",
    "        if(row['i'] != 'None' and row['j'] != 'None'):\n",
    "            if(row['i']!=row['j']):\n",
    "                country_data[count] = [row['i'], row['j'], row['count']]\n",
    "                count+=1"
   ]
  },
  {
   "cell_type": "code",
   "execution_count": 29,
   "metadata": {},
   "outputs": [],
   "source": [
    "df = pd.DataFrame.from_dict(country_data, orient='index', columns=['i','j','count'])"
   ]
  },
  {
   "cell_type": "code",
   "execution_count": 30,
   "metadata": {},
   "outputs": [
    {
     "data": {
      "text/html": [
       "<div>\n",
       "<style scoped>\n",
       "    .dataframe tbody tr th:only-of-type {\n",
       "        vertical-align: middle;\n",
       "    }\n",
       "\n",
       "    .dataframe tbody tr th {\n",
       "        vertical-align: top;\n",
       "    }\n",
       "\n",
       "    .dataframe thead th {\n",
       "        text-align: right;\n",
       "    }\n",
       "</style>\n",
       "<table border=\"1\" class=\"dataframe\">\n",
       "  <thead>\n",
       "    <tr style=\"text-align: right;\">\n",
       "      <th></th>\n",
       "      <th>i</th>\n",
       "      <th>j</th>\n",
       "      <th>count</th>\n",
       "    </tr>\n",
       "  </thead>\n",
       "  <tbody>\n",
       "    <tr>\n",
       "      <th>0</th>\n",
       "      <td>'GB'</td>\n",
       "      <td>'US'</td>\n",
       "      <td>261883</td>\n",
       "    </tr>\n",
       "    <tr>\n",
       "      <th>1</th>\n",
       "      <td>'US'</td>\n",
       "      <td>'GB'</td>\n",
       "      <td>228077</td>\n",
       "    </tr>\n",
       "    <tr>\n",
       "      <th>2</th>\n",
       "      <td>'US'</td>\n",
       "      <td>'CA'</td>\n",
       "      <td>136135</td>\n",
       "    </tr>\n",
       "    <tr>\n",
       "      <th>3</th>\n",
       "      <td>'IN'</td>\n",
       "      <td>'US'</td>\n",
       "      <td>99852</td>\n",
       "    </tr>\n",
       "    <tr>\n",
       "      <th>4</th>\n",
       "      <td>'US'</td>\n",
       "      <td>'IN'</td>\n",
       "      <td>88797</td>\n",
       "    </tr>\n",
       "    <tr>\n",
       "      <th>...</th>\n",
       "      <td>...</td>\n",
       "      <td>...</td>\n",
       "      <td>...</td>\n",
       "    </tr>\n",
       "    <tr>\n",
       "      <th>6303</th>\n",
       "      <td>'SN'</td>\n",
       "      <td>'AU'</td>\n",
       "      <td>1</td>\n",
       "    </tr>\n",
       "    <tr>\n",
       "      <th>6304</th>\n",
       "      <td>'TT'</td>\n",
       "      <td>'NP'</td>\n",
       "      <td>1</td>\n",
       "    </tr>\n",
       "    <tr>\n",
       "      <th>6305</th>\n",
       "      <td>'LC'</td>\n",
       "      <td>'US'</td>\n",
       "      <td>1</td>\n",
       "    </tr>\n",
       "    <tr>\n",
       "      <th>6306</th>\n",
       "      <td>'IQ'</td>\n",
       "      <td>'JO'</td>\n",
       "      <td>1</td>\n",
       "    </tr>\n",
       "    <tr>\n",
       "      <th>6307</th>\n",
       "      <td>'PL'</td>\n",
       "      <td>'VN'</td>\n",
       "      <td>1</td>\n",
       "    </tr>\n",
       "  </tbody>\n",
       "</table>\n",
       "<p>6308 rows × 3 columns</p>\n",
       "</div>"
      ],
      "text/plain": [
       "         i     j   count\n",
       "0     'GB'  'US'  261883\n",
       "1     'US'  'GB'  228077\n",
       "2     'US'  'CA'  136135\n",
       "3     'IN'  'US'   99852\n",
       "4     'US'  'IN'   88797\n",
       "...    ...   ...     ...\n",
       "6303  'SN'  'AU'       1\n",
       "6304  'TT'  'NP'       1\n",
       "6305  'LC'  'US'       1\n",
       "6306  'IQ'  'JO'       1\n",
       "6307  'PL'  'VN'       1\n",
       "\n",
       "[6308 rows x 3 columns]"
      ]
     },
     "execution_count": 30,
     "metadata": {},
     "output_type": "execute_result"
    }
   ],
   "source": [
    "df"
   ]
  },
  {
   "cell_type": "code",
   "execution_count": 31,
   "metadata": {},
   "outputs": [],
   "source": [
    "Graph = nx.from_pandas_edgelist(df=df, source='i', target='j', edge_attr='count', create_using=nx.MultiGraph)"
   ]
  },
  {
   "cell_type": "code",
   "execution_count": 32,
   "metadata": {},
   "outputs": [],
   "source": [
    "degree_list_all = Graph.degree()"
   ]
  },
  {
   "cell_type": "code",
   "execution_count": 33,
   "metadata": {},
   "outputs": [],
   "source": [
    "con_degree_list_all = [k for k in degree_list_all]"
   ]
  },
  {
   "cell_type": "code",
   "execution_count": 34,
   "metadata": {},
   "outputs": [
    {
     "name": "stdout",
     "output_type": "stream",
     "text": [
      "[(\"'GB'\", 328), (\"'US'\", 410), (\"'CA'\", 289), (\"'IN'\", 233), (\"'ZA'\", 194), (\"'AU'\", 248), (\"'DE'\", 237), (\"'JP'\", 184), (\"'NG'\", 175), (\"'CO'\", 157), (\"'HK'\", 158), (\"'IT'\", 219), (\"'NL'\", 184), (\"'MY'\", 152), (\"'MX'\", 189), (\"'KE'\", 157), (\"'KR'\", 131), (\"'PR'\", 105), (\"'FR'\", 206), (\"'ID'\", 178), (\"'ES'\", 183), (\"'TR'\", 149), (\"'BR'\", 142), (\"'PH'\", 131), (\"'TH'\", 124), (\"'SE'\", 159), (\"'CH'\", 207), (\"'NO'\", 125), (\"'IE'\", 132), (\"'CN'\", 183), (\"'PK'\", 141), (\"'PL'\", 143), (\"'PT'\", 121), (\"'NZ'\", 132), (\"'AT'\", 110), (\"'BE'\", 172), (\"'GR'\", 130), (\"'CL'\", 101), (\"'VE'\", 121), (\"'IL'\", 144), (\"'SA'\", 118), (\"'SG'\", 88), (\"'PA'\", 86), (\"'ZW'\", 107), (\"'TW'\", 96), (\"'PS'\", 61), (\"'EG'\", 120), (\"'AE'\", 105), (\"'AR'\", 114), (\"'GH'\", 86), (\"'FJ'\", 50), (\"'DK'\", 133), (\"'CU'\", 108), (\"'KW'\", 81), (\"'IQ'\", 82), (\"'RU'\", 131), (\"'LB'\", 107), (\"'NP'\", 72), (\"'SI'\", 64), (\"'DO'\", 52), (\"'RS'\", 82), (\"'BM'\", 41), (\"'EC'\", 59), (\"'UM'\", 29), (\"'VN'\", 93), (\"'VI'\", 35), (\"'BD'\", 80), (\"'FI'\", 82), (\"'CZ'\", 69), (\"'CG'\", 77), (\"'UG'\", 77), (\"'PE'\", 66), (\"'BS'\", 46), (\"'BN'\", 38), (\"'AG'\", 40), (\"'RO'\", 79), (\"'MA'\", 82), (\"'SD'\", 34), (\"'SK'\", 53), (\"'PY'\", 52), (\"'HR'\", 66), (\"'HU'\", 66), (\"'SV'\", 32), (\"'JM'\", 27), (\"'VG'\", 27), (\"'CM'\", 50), (\"'JE'\", 15), (\"'CR'\", 37), (\"'UY'\", 49), (\"'IR'\", 54), (\"'TZ'\", 62), (\"'BW'\", 15), (\"'MV'\", 35), (\"'CW'\", 26), (\"'NA'\", 35), (\"'LT'\", 23), (\"'MC'\", 65), (\"'QA'\", 60), (\"'TN'\", 52), (\"'GU'\", 17), (\"'JO'\", 55), (\"'MU'\", 41), (\"'PG'\", 55), (\"'KP'\", 34), (\"'KH'\", 37), (\"'CD'\", 21), (\"'TT'\", 35), (\"'TC'\", 15), (\"'MZ'\", 47), (\"'BH'\", 24), (\"'HT'\", 20), (\"'LA'\", 20), (\"'EE'\", 23), (\"'CY'\", 27), (\"'GS'\", 6), (\"'LI'\", 28), (\"'IS'\", 20), (\"'DJ'\", 34), (\"'RW'\", 43), (\"'GD'\", 4), (\"'HN'\", 19), (\"'VC'\", 13), (\"'DM'\", 12), (\"'PF'\", 21), (\"'MP'\", 23), (\"'AZ'\", 25), (\"'LS'\", 14), (\"'VU'\", 12), (\"'BJ'\", 34), (\"'KY'\", 12), (\"'OM'\", 44), (\"'SL'\", 14), (\"'MR'\", 33), (\"'AI'\", 18), (\"'BF'\", 13), (\"'SY'\", 23), (\"'AS'\", 15), (\"'AF'\", 13), (\"'LY'\", 12), (\"'AM'\", 16), (\"'AX'\", 5), (\"'SR'\", 13), (\"'LV'\", 14), (\"'BB'\", 18), (\"'GL'\", 5), (\"'LR'\", 13), (\"'UA'\", 22), (\"'ZM'\", 23), (\"'ML'\", 14), (\"'YT'\", 15), (\"'TJ'\", 18), (\"'MM'\", 32), (\"'GG'\", 13), (\"'DZ'\", 20), (\"'SO'\", 19), (\"'SN'\", 23), (\"'TL'\", 12), (\"'MK'\", 19), (\"'BZ'\", 3), (\"'BG'\", 14), (\"'NI'\", 4), (\"'AQ'\", 19), (\"'IO'\", 6), (\"'TV'\", 18), (\"'CF'\", 25), (\"'LC'\", 7), (\"'SS'\", 7), (\"'LU'\", 21), (\"'AL'\", 15), (\"'GF'\", 13), (\"'NC'\", 4), (\"'LK'\", 13), (\"'KI'\", 6), (\"'RE'\", 13), (\"'ME'\", 5), (\"'MG'\", 23), (\"'BO'\", 5), (\"'GQ'\", 17), (\"'WS'\", 11), (\"'TF'\", 7), (\"'KM'\", 11), (\"'GM'\", 9), (\"'IM'\", 6), (\"'KG'\", 12), (\"'SZ'\", 5), (\"'SH'\", 4), (\"'MD'\", 6), (\"'BT'\", 6), (\"'MT'\", 7), (\"'KN'\", 6), (\"'GT'\", 7), (\"'PN'\", 9), (\"'GE'\", 7), (\"'YE'\", 5), (\"'VA'\", 8), (\"'MN'\", 9), (\"'TM'\", 3), (\"'BQ'\", 9), (\"'BY'\", 6), (\"'GI'\", 11), (\"'BI'\", 3), (\"'TG'\", 3), (\"'GY'\", 3), (\"'ER'\", 5), (\"'KZ'\", 13), (\"'BA'\", 7), (\"'ET'\", 2), (\"'UZ'\", 5), (\"'EH'\", 2), (\"'AO'\", 7), (\"'FM'\", 1), (\"'NE'\", 4), (\"'MW'\", 7), (\"'SC'\", 2), (\"'XK'\", 1), (\"'MH'\", 1), (\"'CV'\", 1), (\"'FK'\", 2)]\n"
     ]
    }
   ],
   "source": [
    "print(con_degree_list_all)"
   ]
  },
  {
   "cell_type": "code",
   "execution_count": 6,
   "metadata": {},
   "outputs": [],
   "source": [
    "G = nx.Graph()  # or DiGraph, MultiGraph, MultiDiGraph, etc\n",
    "#G = nx.from_pandas_edgelist(df,source='i', target='j', edge_attr='count')\n",
    "G = nx.from_pandas_edgelist(df,source='i', target='j', edge_attr=True)"
   ]
  },
  {
   "cell_type": "code",
   "execution_count": 9,
   "metadata": {},
   "outputs": [],
   "source": [
    "deg = G.degree(weight = 'count')"
   ]
  },
  {
   "cell_type": "code",
   "execution_count": 11,
   "metadata": {},
   "outputs": [
    {
     "ename": "TypeError",
     "evalue": "unsupported operand type(s) for +: 'int' and 'str'",
     "output_type": "error",
     "traceback": [
      "\u001b[0;31m---------------------------------------------------------------------------\u001b[0m",
      "\u001b[0;31mTypeError\u001b[0m                                 Traceback (most recent call last)",
      "Cell \u001b[0;32mIn[11], line 1\u001b[0m\n\u001b[0;32m----> 1\u001b[0m \u001b[39mprint\u001b[39;49m(deg)\n",
      "File \u001b[0;32m~/miniconda3/envs/new-conda/lib/python3.11/site-packages/networkx/classes/reportviews.py:468\u001b[0m, in \u001b[0;36mDiDegreeView.__str__\u001b[0;34m(self)\u001b[0m\n\u001b[1;32m    467\u001b[0m \u001b[39mdef\u001b[39;00m \u001b[39m__str__\u001b[39m(\u001b[39mself\u001b[39m):\n\u001b[0;32m--> 468\u001b[0m     \u001b[39mreturn\u001b[39;00m \u001b[39mstr\u001b[39m(\u001b[39mlist\u001b[39;49m(\u001b[39mself\u001b[39;49m))\n",
      "File \u001b[0;32m~/miniconda3/envs/new-conda/lib/python3.11/site-packages/networkx/classes/reportviews.py:536\u001b[0m, in \u001b[0;36mDegreeView.__iter__\u001b[0;34m(self)\u001b[0m\n\u001b[1;32m    534\u001b[0m \u001b[39mfor\u001b[39;00m n \u001b[39min\u001b[39;00m \u001b[39mself\u001b[39m\u001b[39m.\u001b[39m_nodes:\n\u001b[1;32m    535\u001b[0m     nbrs \u001b[39m=\u001b[39m \u001b[39mself\u001b[39m\u001b[39m.\u001b[39m_succ[n]\n\u001b[0;32m--> 536\u001b[0m     deg \u001b[39m=\u001b[39m \u001b[39msum\u001b[39;49m(dd\u001b[39m.\u001b[39;49mget(weight, \u001b[39m1\u001b[39;49m) \u001b[39mfor\u001b[39;49;00m dd \u001b[39min\u001b[39;49;00m nbrs\u001b[39m.\u001b[39;49mvalues()) \u001b[39m+\u001b[39m (\n\u001b[1;32m    537\u001b[0m         n \u001b[39min\u001b[39;00m nbrs \u001b[39mand\u001b[39;00m nbrs[n]\u001b[39m.\u001b[39mget(weight, \u001b[39m1\u001b[39m)\n\u001b[1;32m    538\u001b[0m     )\n\u001b[1;32m    539\u001b[0m     \u001b[39myield\u001b[39;00m (n, deg)\n",
      "\u001b[0;31mTypeError\u001b[0m: unsupported operand type(s) for +: 'int' and 'str'"
     ]
    }
   ],
   "source": [
    "print(deg)"
   ]
  },
  {
   "cell_type": "code",
   "execution_count": 7,
   "metadata": {},
   "outputs": [],
   "source": [
    "test_df = nx.to_pandas_edgelist(G)"
   ]
  },
  {
   "cell_type": "code",
   "execution_count": 8,
   "metadata": {},
   "outputs": [
    {
     "data": {
      "text/html": [
       "<div>\n",
       "<style scoped>\n",
       "    .dataframe tbody tr th:only-of-type {\n",
       "        vertical-align: middle;\n",
       "    }\n",
       "\n",
       "    .dataframe tbody tr th {\n",
       "        vertical-align: top;\n",
       "    }\n",
       "\n",
       "    .dataframe thead th {\n",
       "        text-align: right;\n",
       "    }\n",
       "</style>\n",
       "<table border=\"1\" class=\"dataframe\">\n",
       "  <thead>\n",
       "    <tr style=\"text-align: right;\">\n",
       "      <th></th>\n",
       "      <th>source</th>\n",
       "      <th>target</th>\n",
       "      <th>count</th>\n",
       "    </tr>\n",
       "  </thead>\n",
       "  <tbody>\n",
       "    <tr>\n",
       "      <th>0</th>\n",
       "      <td>'GB'</td>\n",
       "      <td>'US'</td>\n",
       "      <td>228077</td>\n",
       "    </tr>\n",
       "    <tr>\n",
       "      <th>1</th>\n",
       "      <td>'GB'</td>\n",
       "      <td>'NG'</td>\n",
       "      <td>1681</td>\n",
       "    </tr>\n",
       "    <tr>\n",
       "      <th>2</th>\n",
       "      <td>'GB'</td>\n",
       "      <td>'IN'</td>\n",
       "      <td>3416</td>\n",
       "    </tr>\n",
       "    <tr>\n",
       "      <th>3</th>\n",
       "      <td>'GB'</td>\n",
       "      <td>'AU'</td>\n",
       "      <td>9187</td>\n",
       "    </tr>\n",
       "    <tr>\n",
       "      <th>4</th>\n",
       "      <td>'GB'</td>\n",
       "      <td>'HK'</td>\n",
       "      <td>8467</td>\n",
       "    </tr>\n",
       "    <tr>\n",
       "      <th>...</th>\n",
       "      <td>...</td>\n",
       "      <td>...</td>\n",
       "      <td>...</td>\n",
       "    </tr>\n",
       "    <tr>\n",
       "      <th>4246</th>\n",
       "      <td>'YT'</td>\n",
       "      <td>'MG'</td>\n",
       "      <td>1</td>\n",
       "    </tr>\n",
       "    <tr>\n",
       "      <th>4247</th>\n",
       "      <td>'SN'</td>\n",
       "      <td>'KM'</td>\n",
       "      <td>1</td>\n",
       "    </tr>\n",
       "    <tr>\n",
       "      <th>4248</th>\n",
       "      <td>'SN'</td>\n",
       "      <td>'MG'</td>\n",
       "      <td>1</td>\n",
       "    </tr>\n",
       "    <tr>\n",
       "      <th>4249</th>\n",
       "      <td>'SN'</td>\n",
       "      <td>'CF'</td>\n",
       "      <td>1</td>\n",
       "    </tr>\n",
       "    <tr>\n",
       "      <th>4250</th>\n",
       "      <td>'CF'</td>\n",
       "      <td>'MW'</td>\n",
       "      <td>1</td>\n",
       "    </tr>\n",
       "  </tbody>\n",
       "</table>\n",
       "<p>4251 rows × 3 columns</p>\n",
       "</div>"
      ],
      "text/plain": [
       "     source target   count\n",
       "0      'GB'   'US'  228077\n",
       "1      'GB'   'NG'    1681\n",
       "2      'GB'   'IN'    3416\n",
       "3      'GB'   'AU'    9187\n",
       "4      'GB'   'HK'    8467\n",
       "...     ...    ...     ...\n",
       "4246   'YT'   'MG'       1\n",
       "4247   'SN'   'KM'       1\n",
       "4248   'SN'   'MG'       1\n",
       "4249   'SN'   'CF'       1\n",
       "4250   'CF'   'MW'       1\n",
       "\n",
       "[4251 rows x 3 columns]"
      ]
     },
     "execution_count": 8,
     "metadata": {},
     "output_type": "execute_result"
    }
   ],
   "source": [
    "test_df"
   ]
  }
 ],
 "metadata": {
  "kernelspec": {
   "display_name": "new-conda",
   "language": "python",
   "name": "python3"
  },
  "language_info": {
   "codemirror_mode": {
    "name": "ipython",
    "version": 3
   },
   "file_extension": ".py",
   "mimetype": "text/x-python",
   "name": "python",
   "nbconvert_exporter": "python",
   "pygments_lexer": "ipython3",
   "version": "3.11.2"
  },
  "orig_nbformat": 4
 },
 "nbformat": 4,
 "nbformat_minor": 2
}
