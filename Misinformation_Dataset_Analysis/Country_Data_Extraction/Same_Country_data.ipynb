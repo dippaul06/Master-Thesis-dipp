{
 "cells": [
  {
   "cell_type": "code",
   "execution_count": 7,
   "metadata": {},
   "outputs": [],
   "source": [
    "import csv\n",
    "from geopy.geocoders import Nominatim\n",
    "from time import sleep\n",
    "from countryinfo import CountryInfo\n",
    "import pycountry\n",
    "import pypopulation"
   ]
  },
  {
   "cell_type": "code",
   "execution_count": 8,
   "metadata": {},
   "outputs": [],
   "source": [
    "def country_dict(data_file, csv_generated_file):\n",
    "    same_country_dict = {}\n",
    "\n",
    "    with open(data_file, newline='', encoding='utf-8') as fd:\n",
    "        text_data = csv.DictReader(fd)\n",
    "        count = 0\n",
    "        for line in text_data:\n",
    "            if((line['i']==line['j']) and (line['i']!= 'None') and (line['j']!='None')):\n",
    "                count += 1\n",
    "                #Country Code\n",
    "                loc_code = line['i'].replace(\"'\",'')\n",
    "                \n",
    "                try:\n",
    "                    #Country Name\n",
    "                    country = pycountry.countries.get(alpha_2=loc_code)\n",
    "                    country_name = country.name\n",
    "                    #Connections\n",
    "                    connections = float(line['count'])\n",
    "                    #Lat and long\n",
    "                    loc = Nominatim(user_agent='GetLoc')\n",
    "                    getloc = loc.geocode(loc_code)\n",
    "                    lat = getloc.latitude\n",
    "                    lon = getloc.longitude\n",
    "                    #Population\n",
    "                    population = pypopulation.get_population(loc_code)\n",
    "                        \n",
    "                    #Saving all in a Dict\n",
    "                    same_country_dict[loc_code] = [loc_code, country_name, connections, lat, lon, population]\n",
    "                    sleep(1)\n",
    "                except Exception:\n",
    "                    print(loc_code)\n",
    "                    continue\n",
    "\n",
    "    with open(csv_generated_file, 'w', newline='') as csvfile:\n",
    "        fieldnames = ['Country Code', 'Country Name', 'Connections', 'Latitude', 'Longitude', 'Population']\n",
    "        writer = csv.DictWriter(csvfile, fieldnames=fieldnames)\n",
    "\n",
    "        writer.writeheader()\n",
    "        for a,b in same_country_dict.items():\n",
    "            Country_code = b[0]\n",
    "            Country_Name = b[1]\n",
    "            Connections = b[2]\n",
    "            Lat = b[3]\n",
    "            Long = b[4]\n",
    "            Population = b[5]\n",
    "\n",
    "            writer.writerow({'Country Code':Country_code, 'Country Name': Country_Name, 'Connections':Connections, 'Latitude':Lat, 'Longitude':Long, 'Population':Population})\n",
    "\n",
    "    return\n",
    "\n",
    "                "
   ]
  },
  {
   "cell_type": "code",
   "execution_count": 9,
   "metadata": {},
   "outputs": [],
   "source": [
    "data_file_01 = '/global/D1/projects/umod/dipp/Misinformation_Dataset/Result/location_with_value/Location_with_only_country_code_cat_1_only_3.csv'\n",
    "data_file_02 = '/global/D1/projects/umod/dipp/Misinformation_Dataset/Result/location_with_value/Location_with_only_country_code_cat_2_only_3.csv'\n",
    "data_file_03 = '/global/D1/projects/umod/dipp/Misinformation_Dataset/Result/location_with_value/Location_with_only_country_code_cat_3_only_3.csv'\n",
    "data_file_04 = '/global/D1/projects/umod/dipp/Misinformation_Dataset/Result/location_with_value/Location_with_only_country_code_cat_4_only_3.csv'\n",
    "data_file_05 = '/global/D1/projects/umod/dipp/Misinformation_Dataset/Result/location_with_value/Location_with_only_country_code_cat_5_only_3.csv'\n",
    "data_file_06 = '/global/D1/projects/umod/dipp/Misinformation_Dataset/Result/location_with_value/Location_with_only_country_code_cat_6_only_3.csv'\n",
    "data_file_07 = '/global/D1/projects/umod/dipp/Misinformation_Dataset/Result/location_with_value/Location_with_only_country_code_cat_7_only_3.csv'\n",
    "data_file_08 = '/global/D1/projects/umod/dipp/Misinformation_Dataset/Result/location_with_value/Location_with_only_country_code_cat_8_only_3.csv'\n",
    "data_file_09 = '/global/D1/projects/umod/dipp/Misinformation_Dataset/Result/location_with_value/Location_with_only_country_code_cat_9_only_3.csv'\n",
    "data_file_10 = '/global/D1/projects/umod/dipp/Misinformation_Dataset/Result/location_with_value/Location_with_only_country_code_cat_all_only_3.csv'\n",
    "\n",
    "\n",
    "csv_generated_file_01 = '/home/dipp/Github/Master-Thesis-dipp/Misinformation_Dataset_Analysis/Country_Data_Extraction/Result/Country_Data_cat_1_only_3.csv'\n",
    "csv_generated_file_02 = '/home/dipp/Github/Master-Thesis-dipp/Misinformation_Dataset_Analysis/Country_Data_Extraction/Result/Country_Data_cat_2_only_3.csv'\n",
    "csv_generated_file_03 = '/home/dipp/Github/Master-Thesis-dipp/Misinformation_Dataset_Analysis/Country_Data_Extraction/Result/Country_Data_cat_3_only_3.csv'\n",
    "csv_generated_file_04 = '/home/dipp/Github/Master-Thesis-dipp/Misinformation_Dataset_Analysis/Country_Data_Extraction/Result/Country_Data_cat_4_only_3.csv'\n",
    "csv_generated_file_05 = '/home/dipp/Github/Master-Thesis-dipp/Misinformation_Dataset_Analysis/Country_Data_Extraction/Result/Country_Data_cat_5_only_3.csv'\n",
    "csv_generated_file_06 = '/home/dipp/Github/Master-Thesis-dipp/Misinformation_Dataset_Analysis/Country_Data_Extraction/Result/Country_Data_cat_6_only_3.csv'\n",
    "csv_generated_file_07 = '/home/dipp/Github/Master-Thesis-dipp/Misinformation_Dataset_Analysis/Country_Data_Extraction/Result/Country_Data_cat_7_only_3.csv'\n",
    "csv_generated_file_08 = '/home/dipp/Github/Master-Thesis-dipp/Misinformation_Dataset_Analysis/Country_Data_Extraction/Result/Country_Data_cat_8_only_3.csv'\n",
    "csv_generated_file_09 = '/home/dipp/Github/Master-Thesis-dipp/Misinformation_Dataset_Analysis/Country_Data_Extraction/Result/Country_Data_cat_9_only_3.csv'\n",
    "csv_generated_file_10 = '/home/dipp/Github/Master-Thesis-dipp/Misinformation_Dataset_Analysis/Country_Data_Extraction/Result/Country_Data_cat_all_only_3.csv'"
   ]
  },
  {
   "cell_type": "code",
   "execution_count": 13,
   "metadata": {},
   "outputs": [
    {
     "name": "stdout",
     "output_type": "stream",
     "text": [
      "GR\n"
     ]
    }
   ],
   "source": [
    "# country_dict(data_file_01,csv_generated_file_01)\n",
    "country_dict(data_file_02,csv_generated_file_02)\n",
    "country_dict(data_file_03,csv_generated_file_03)\n",
    "country_dict(data_file_04,csv_generated_file_04)\n",
    "country_dict(data_file_05,csv_generated_file_05)\n",
    "country_dict(data_file_06,csv_generated_file_06)\n",
    "country_dict(data_file_07,csv_generated_file_07)\n",
    "country_dict(data_file_08,csv_generated_file_08)\n",
    "# country_dict(data_file_09,csv_generated_file_09)\n",
    "country_dict(data_file_10,csv_generated_file_10)"
   ]
  }
 ],
 "metadata": {
  "kernelspec": {
   "display_name": "new-conda",
   "language": "python",
   "name": "python3"
  },
  "language_info": {
   "codemirror_mode": {
    "name": "ipython",
    "version": 3
   },
   "file_extension": ".py",
   "mimetype": "text/x-python",
   "name": "python",
   "nbconvert_exporter": "python",
   "pygments_lexer": "ipython3",
   "version": "3.11.2"
  },
  "orig_nbformat": 4
 },
 "nbformat": 4,
 "nbformat_minor": 2
}
