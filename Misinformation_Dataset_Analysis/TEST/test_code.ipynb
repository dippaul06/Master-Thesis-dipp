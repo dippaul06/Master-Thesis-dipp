{
 "cells": [
  {
   "cell_type": "code",
   "execution_count": null,
   "metadata": {},
   "outputs": [],
   "source": []
  },
  {
   "cell_type": "code",
   "execution_count": 1,
   "metadata": {},
   "outputs": [],
   "source": [
    "def encode_func(givenlist):\n",
    "    encodedvalue = 0\n",
    "    for index, value in enumerate(givenlist):\n",
    "        encodedvalue |= value << (index * 2)\n",
    "\n",
    "    return encodedvalue"
   ]
  },
  {
   "cell_type": "code",
   "execution_count": 2,
   "metadata": {},
   "outputs": [],
   "source": [
    "def decode_func(givenencode):\n",
    "    decode_array = []\n",
    "    for i in range(9):\n",
    "        temp = ((givenencode >> (i * 2)) & 3)\n",
    "        decode_array.append(temp)\n",
    "\n",
    "    return decode_array"
   ]
  },
  {
   "cell_type": "code",
   "execution_count": 3,
   "metadata": {},
   "outputs": [
    {
     "name": "stdout",
     "output_type": "stream",
     "text": [
      "155065\n"
     ]
    }
   ],
   "source": [
    "print(encode_func([1, 2, 3, 2, 1, 3, 1, 1, 2]))"
   ]
  },
  {
   "cell_type": "code",
   "execution_count": 5,
   "metadata": {},
   "outputs": [
    {
     "name": "stdout",
     "output_type": "stream",
     "text": [
      "[1, 2, 3, 2, 1, 3, 1, 1, 2]\n",
      "[1, 1, 1, 1, 1, 1, 1, 1, 0]\n",
      "[1, 1, 2, 1, 1, 1, 1, 1, 0]\n",
      "[3, 1, 1, 1, 1, 1, 1, 1, 0]\n",
      "[1, 1, 1, 3, 1, 1, 1, 1, 0]\n",
      "[1, 1, 1, 1, 2, 1, 1, 1, 0]\n",
      "[1, 1, 3, 1, 1, 1, 1, 1, 0]\n",
      "[1, 1, 1, 2, 1, 1, 1, 1, 0]\n",
      "[1, 2, 3, 2, 1, 3, 1, 1, 2]\n",
      "[1, 2, 3, 2, 1, 3, 1, 1, 2]\n"
     ]
    }
   ],
   "source": [
    "print(decode_func(155065))\n",
    "\n",
    "print(decode_func(21845))\n",
    "print(decode_func(21861))\n",
    "print(decode_func(21847))\n",
    "print(decode_func(21973))\n",
    "print(decode_func(22101))\n",
    "print(decode_func(21877))\n",
    "print(decode_func(21909))\n",
    "print(decode_func(155065))\n",
    "print(decode_func(155065))"
   ]
  }
 ],
 "metadata": {
  "kernelspec": {
   "display_name": "new-conda",
   "language": "python",
   "name": "python3"
  },
  "language_info": {
   "codemirror_mode": {
    "name": "ipython",
    "version": 3
   },
   "file_extension": ".py",
   "mimetype": "text/x-python",
   "name": "python",
   "nbconvert_exporter": "python",
   "pygments_lexer": "ipython3",
   "version": "3.11.2"
  },
  "orig_nbformat": 4
 },
 "nbformat": 4,
 "nbformat_minor": 2
}
