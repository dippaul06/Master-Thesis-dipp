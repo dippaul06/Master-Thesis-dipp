{
 "cells": [
  {
   "cell_type": "code",
   "execution_count": 43,
   "metadata": {},
   "outputs": [],
   "source": [
    "import csv\n",
    "import ast"
   ]
  },
  {
   "cell_type": "code",
   "execution_count": 44,
   "metadata": {},
   "outputs": [],
   "source": [
    "data_file = '/home/dipp/Github/Master-Thesis-dipp/Misinformation_Dataset_Analysis/TEST/test_data.csv'\n",
    "result_file = '/home/dipp/Github/Master-Thesis-dipp/Misinformation_Dataset_Analysis/TEST/after_first_filter.csv'"
   ]
  },
  {
   "cell_type": "code",
   "execution_count": 45,
   "metadata": {},
   "outputs": [],
   "source": [
    "file1 = open(result_file, \"a\")  # append mode\n",
    "file1.write('i,j,contacts,types'+'\\n')\n",
    "file1.close()"
   ]
  },
  {
   "cell_type": "code",
   "execution_count": 46,
   "metadata": {},
   "outputs": [],
   "source": [
    "with open(data_file, newline='', encoding='utf-8') as csv_data:\n",
    "    base_data = csv.DictReader(csv_data, delimiter=',', restkey='types')\n",
    "    \n",
    "    for line in base_data:\n",
    "        file1 = open(result_file, \"a\")  # append mode\n",
    "        if(line['types'] != '[]'):\n",
    "            temp = line['types']\n",
    "            if(type(temp) is not str):\n",
    "                temp = \",\".join(str(x) for x in temp)\n",
    "                temp = temp.replace(\" \", \"\")\n",
    "                file1.writelines(line['i'] + ',' + line['j'] + ',' + line['contacts'] + ',' + '[' +str(temp) + '\\n')\n",
    "                file1.flush()\n",
    "            else:\n",
    "                file1.writelines(line['i'] + ',' + line['j'] + ',' + line['contacts'] + ',' + str(line['types']) + '\\n')\n",
    "                file1.flush()\n",
    "\n",
    "        file1.close()\n",
    "            "
   ]
  },
  {
   "cell_type": "code",
   "execution_count": 48,
   "metadata": {},
   "outputs": [
    {
     "name": "stdout",
     "output_type": "stream",
     "text": [
      "Number of Rows in the File:  4999\n"
     ]
    }
   ],
   "source": [
    "with open(data_file, newline='', encoding='utf-8') as csv_data:\n",
    "    base_data = csv.DictReader(csv_data, delimiter=',', restkey='types')\n",
    "    row_count = sum(1 for row in base_data)\n",
    "    print(\"Number of Rows in the File: \", row_count)"
   ]
  }
 ],
 "metadata": {
  "kernelspec": {
   "display_name": "new-conda",
   "language": "python",
   "name": "python3"
  },
  "language_info": {
   "codemirror_mode": {
    "name": "ipython",
    "version": 3
   },
   "file_extension": ".py",
   "mimetype": "text/x-python",
   "name": "python",
   "nbconvert_exporter": "python",
   "pygments_lexer": "ipython3",
   "version": "3.11.2"
  },
  "orig_nbformat": 4
 },
 "nbformat": 4,
 "nbformat_minor": 2
}
